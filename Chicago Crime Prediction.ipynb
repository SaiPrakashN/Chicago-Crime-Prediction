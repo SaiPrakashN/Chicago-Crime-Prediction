{
  "nbformat": 4,
  "nbformat_minor": 0,
  "metadata": {
    "colab": {
      "name": "ChicagoCrimePrediction BDA .ipynb",
      "provenance": [],
      "collapsed_sections": [
        "Wff6i_pJ9Qqu"
      ]
    },
    "kernelspec": {
      "name": "python3",
      "display_name": "Python 3"
    },
    "language_info": {
      "name": "python"
    }
  },
  "cells": [
    {
      "cell_type": "markdown",
      "metadata": {
        "id": "AyWB6uPYyTkf"
      },
      "source": [
        "# Dasasets downloading and pkgs importing"
      ]
    },
    {
      "cell_type": "code",
      "metadata": {
        "colab": {
          "base_uri": "https://localhost:8080/"
        },
        "id": "hL2ftQ-7Tnde",
        "outputId": "205046a2-de1a-4228-9b3e-12195ad527ba"
      },
      "source": [
        "!pip install pyspark"
      ],
      "execution_count": null,
      "outputs": [
        {
          "output_type": "stream",
          "text": [
            "Collecting pyspark\n",
            "\u001b[?25l  Downloading https://files.pythonhosted.org/packages/45/b0/9d6860891ab14a39d4bddf80ba26ce51c2f9dc4805e5c6978ac0472c120a/pyspark-3.1.1.tar.gz (212.3MB)\n",
            "\u001b[K     |████████████████████████████████| 212.3MB 69kB/s \n",
            "\u001b[?25hCollecting py4j==0.10.9\n",
            "\u001b[?25l  Downloading https://files.pythonhosted.org/packages/9e/b6/6a4fb90cd235dc8e265a6a2067f2a2c99f0d91787f06aca4bcf7c23f3f80/py4j-0.10.9-py2.py3-none-any.whl (198kB)\n",
            "\u001b[K     |████████████████████████████████| 204kB 18.5MB/s \n",
            "\u001b[?25hBuilding wheels for collected packages: pyspark\n",
            "  Building wheel for pyspark (setup.py) ... \u001b[?25l\u001b[?25hdone\n",
            "  Created wheel for pyspark: filename=pyspark-3.1.1-py2.py3-none-any.whl size=212767604 sha256=a69c275965e3618ea4f7df28e91a9abe14f31f19e4f8da9bd73c4928bd652f27\n",
            "  Stored in directory: /root/.cache/pip/wheels/0b/90/c0/01de724414ef122bd05f056541fb6a0ecf47c7ca655f8b3c0f\n",
            "Successfully built pyspark\n",
            "Installing collected packages: py4j, pyspark\n",
            "Successfully installed py4j-0.10.9 pyspark-3.1.1\n"
          ],
          "name": "stdout"
        }
      ]
    },
    {
      "cell_type": "code",
      "metadata": {
        "id": "Ry2cc_8K-ccj"
      },
      "source": [
        "import os\n",
        "os.environ['KAGGLE_USERNAME']='nagulapatisaiprakash'\n",
        "os.environ['KAGGLE_KEY']=\"aeab6c065b082bf253f1ebca92f18efc\""
      ],
      "execution_count": null,
      "outputs": []
    },
    {
      "cell_type": "code",
      "metadata": {
        "id": "1SsPJUUA-fvV",
        "colab": {
          "base_uri": "https://localhost:8080/"
        },
        "outputId": "490446cb-648e-4b56-f738-2d406eb95a20"
      },
      "source": [
        "!kaggle datasets download -d currie32/crimes-in-chicago"
      ],
      "execution_count": null,
      "outputs": [
        {
          "output_type": "stream",
          "text": [
            "Downloading crimes-in-chicago.zip to /content\n",
            " 99% 463M/467M [00:03<00:00, 151MB/s]\n",
            "100% 467M/467M [00:03<00:00, 137MB/s]\n"
          ],
          "name": "stdout"
        }
      ]
    },
    {
      "cell_type": "code",
      "metadata": {
        "id": "ckPhM9_prQgf"
      },
      "source": [
        ""
      ],
      "execution_count": null,
      "outputs": []
    },
    {
      "cell_type": "code",
      "metadata": {
        "id": "75wOinaQ-jkx"
      },
      "source": [
        "!unzip -q crimes-in-chicago.zip"
      ],
      "execution_count": null,
      "outputs": []
    },
    {
      "cell_type": "code",
      "metadata": {
        "id": "6yv5DsjBTRBf"
      },
      "source": [
        "## spark imports\n",
        "from pyspark.sql import Row, SparkSession\n",
        "from pyspark.sql.functions import *"
      ],
      "execution_count": null,
      "outputs": []
    },
    {
      "cell_type": "code",
      "metadata": {
        "id": "MCgvIVaFTgg2"
      },
      "source": [
        "## standard imports\n",
        "import numpy as np\n",
        "import pandas as pd\n",
        "import seaborn as sns\n",
        "import matplotlib.pyplot as plt\n",
        "import datetime"
      ],
      "execution_count": null,
      "outputs": []
    },
    {
      "cell_type": "markdown",
      "metadata": {
        "id": "E6-DSdW-yvBv"
      },
      "source": [
        "# Preprocessing and Visualization"
      ]
    },
    {
      "cell_type": "markdown",
      "metadata": {
        "id": "qnYS6_GQzi2q"
      },
      "source": [
        "## Columns description in dataset"
      ]
    },
    {
      "cell_type": "code",
      "metadata": {
        "id": "DTp3WNAzT1r6"
      },
      "source": [
        "content_cols = '''\n",
        "ID - Unique identifier for the record.\n",
        "Case Number - The Chicago Police Department RD Number (Records Division Number), which is unique to the incident.\n",
        "Date - Date when the incident occurred. this is sometimes a best estimate.\n",
        "Block - The partially redacted address where the incident occurred, placing it on the same block as the actual address.\n",
        "IUCR - The Illinois Unifrom Crime Reporting code. This is directly linked to the Primary Type and Description. See the list of IUCR codes at https://data.cityofchicago.org/d/c7ck-438e.\n",
        "Primary Type - The primary description of the IUCR code.\n",
        "Description - The secondary description of the IUCR code, a subcategory of the primary description.\n",
        "Location Description - Description of the location where the incident occurred.\n",
        "Arrest - Indicates whether an arrest was made.\n",
        "Domestic - Indicates whether the incident was domestic-related as defined by the Illinois Domestic Violence Act.\n",
        "Beat - Indicates the beat where the incident occurred. A beat is the smallest police geographic area – each beat has a dedicated police beat car. Three to five beats make up a police sector, and three sectors make up a police district. The Chicago Police Department has 22 police districts. See the beats at https://data.cityofchicago.org/d/aerh-rz74.\n",
        "District - Indicates the police district where the incident occurred. See the districts at https://data.cityofchicago.org/d/fthy-xz3r.\n",
        "Ward - The ward (City Council district) where the incident occurred. See the wards at https://data.cityofchicago.org/d/sp34-6z76.\n",
        "Community Area - Indicates the community area where the incident occurred. Chicago has 77 community areas. See the community areas at https://data.cityofchicago.org/d/cauq-8yn6.\n",
        "FBI Code - Indicates the crime classification as outlined in the FBI's National Incident-Based Reporting System (NIBRS). See the Chicago Police Department listing of these classifications at http://gis.chicagopolice.org/clearmap_crime_sums/crime_types.html.\n",
        "X Coordinate - The x coordinate of the location where the incident occurred in State Plane Illinois East NAD 1983 projection. This location is shifted from the actual location for partial redaction but falls on the same block.\n",
        "Y Coordinate - The y coordinate of the location where the incident occurred in State Plane Illinois East NAD 1983 projection. This location is shifted from the actual location for partial redaction but falls on the same block.\n",
        "Year - Year the incident occurred.\n",
        "Updated On - Date and time the record was last updated.\n",
        "Latitude - The latitude of the location where the incident occurred. This location is shifted from the actual location for partial redaction but falls on the same block.\n",
        "Longitude - The longitude of the location where the incident occurred. This location is shifted from the actual location for partial redaction but falls on the same block.\n",
        "Location - The location where the incident occurred in a format that allows for creation of maps and other geographic operations on this data portal. This location is shifted from the actual location for partial redaction but falls on the same block.'''\n"
      ],
      "execution_count": null,
      "outputs": []
    },
    {
      "cell_type": "code",
      "metadata": {
        "id": "3fz134b5T--1"
      },
      "source": [
        "def entry_dic(line):\n",
        "    \"\"\"\n",
        "    Convert a header - description line into a single dictionary that holds the original header as 'title', a corresponding field name as 'header', and a description.\n",
        "    \"\"\"\n",
        "    pair = line.split(' - ')\n",
        "    return {'title': pair[0], 'description': pair[1], 'header': pair[0].lower().replace(' ', '_')}"
      ],
      "execution_count": null,
      "outputs": []
    },
    {
      "cell_type": "code",
      "metadata": {
        "id": "IiAz79zsUB29"
      },
      "source": [
        "filtered = []\n",
        "for line in content_cols.split('\\n'):\n",
        "    if line != '':\n",
        "        filtered.append(line)\n",
        "\n",
        "header_dics = list(map(entry_dic, filtered))"
      ],
      "execution_count": null,
      "outputs": []
    },
    {
      "cell_type": "code",
      "metadata": {
        "id": "JbC1J0N0UEpL",
        "colab": {
          "base_uri": "https://localhost:8080/"
        },
        "outputId": "3faf0bdf-141b-455e-d284-f76a2c2210b5"
      },
      "source": [
        "header_dics[:2]"
      ],
      "execution_count": null,
      "outputs": [
        {
          "output_type": "execute_result",
          "data": {
            "text/plain": [
              "[{'description': 'Unique identifier for the record.',\n",
              "  'header': 'id',\n",
              "  'title': 'ID'},\n",
              " {'description': 'The Chicago Police Department RD Number (Records Division Number), which is unique to the incident.',\n",
              "  'header': 'case_number',\n",
              "  'title': 'Case Number'}]"
            ]
          },
          "metadata": {
            "tags": []
          },
          "execution_count": 11
        }
      ]
    },
    {
      "cell_type": "markdown",
      "metadata": {
        "id": "TDh4oulczx8L"
      },
      "source": [
        "## Loading datasets"
      ]
    },
    {
      "cell_type": "code",
      "metadata": {
        "id": "1PuGn43KXkNf"
      },
      "source": [
        "spark = SparkSession.builder.master(\"local[1]\").appName(\"ChicagoCrimesSpark\").getOrCreate()"
      ],
      "execution_count": null,
      "outputs": []
    },
    {
      "cell_type": "code",
      "metadata": {
        "id": "Q685Uaftb7Vq"
      },
      "source": [
        "df = spark.read.csv('*.csv', inferSchema=True, header=True)"
      ],
      "execution_count": null,
      "outputs": []
    },
    {
      "cell_type": "code",
      "metadata": {
        "id": "CB2L8J_4cYY8"
      },
      "source": [
        "df = df.cache()"
      ],
      "execution_count": null,
      "outputs": []
    },
    {
      "cell_type": "code",
      "metadata": {
        "id": "fImIfyleclm-",
        "colab": {
          "base_uri": "https://localhost:8080/"
        },
        "outputId": "88ad801c-fdd5-40d9-871a-b985a29030c1"
      },
      "source": [
        "df.printSchema()"
      ],
      "execution_count": null,
      "outputs": [
        {
          "output_type": "stream",
          "text": [
            "root\n",
            " |-- _c0: long (nullable = true)\n",
            " |-- id: long (nullable = true)\n",
            " |-- case_number: string (nullable = true)\n",
            " |-- date: string (nullable = true)\n",
            " |-- block: string (nullable = true)\n",
            " |-- iucr: string (nullable = true)\n",
            " |-- primary_type: string (nullable = true)\n",
            " |-- description: string (nullable = true)\n",
            " |-- location_description: string (nullable = true)\n",
            " |-- arrest: string (nullable = true)\n",
            " |-- domestic: string (nullable = true)\n",
            " |-- beat: string (nullable = true)\n",
            " |-- district: string (nullable = true)\n",
            " |-- ward: string (nullable = true)\n",
            " |-- community_area: string (nullable = true)\n",
            " |-- fbi_code: string (nullable = true)\n",
            " |-- x_coordinate: string (nullable = true)\n",
            " |-- y_coordinate: string (nullable = true)\n",
            " |-- year: string (nullable = true)\n",
            " |-- updated_on: string (nullable = true)\n",
            " |-- latitude: string (nullable = true)\n",
            " |-- longitude: string (nullable = true)\n",
            " |-- location: string (nullable = true)\n",
            " |-- date_time: timestamp (nullable = true)\n",
            " |-- month: date (nullable = true)\n",
            "\n"
          ],
          "name": "stdout"
        }
      ]
    },
    {
      "cell_type": "code",
      "metadata": {
        "id": "_l1aovKLcoU4"
      },
      "source": [
        "for h in header_dics:\n",
        "    df = df.withColumnRenamed(h['title'], h['header'])"
      ],
      "execution_count": null,
      "outputs": []
    },
    {
      "cell_type": "code",
      "metadata": {
        "id": "vb_PTWOpRbvC",
        "colab": {
          "base_uri": "https://localhost:8080/"
        },
        "outputId": "7568ec64-deee-4d2a-a68c-67e3c4f5132d"
      },
      "source": [
        "df.show(n=3, truncate=False)"
      ],
      "execution_count": null,
      "outputs": [
        {
          "output_type": "stream",
          "text": [
            "+----+-------+-----------+----------------------+-------------------+----+--------------------------+-----------------------------+--------------------+------+--------+----+--------+----+--------------+--------+------------+------------+----+----------------------+------------+-------------+-----------------------------+\n",
            "|_c0 |id     |case_number|date                  |block              |iucr|primary_type              |description                  |location_description|arrest|domestic|beat|district|ward|community_area|fbi_code|x_coordinate|y_coordinate|year|updated_on            |latitude    |longitude    |location                     |\n",
            "+----+-------+-----------+----------------------+-------------------+----+--------------------------+-----------------------------+--------------------+------+--------+----+--------+----+--------------+--------+------------+------------+----+----------------------+------------+-------------+-----------------------------+\n",
            "|879 |4786321|HM399414   |01/01/2004 12:01:00 AM|082XX S COLES AVE  |0840|THEFT                     |FINANCIAL ID THEFT: OVER $300|RESIDENCE           |False |False   |424 |4.0     |7.0 |46.0          |06      |null        |null        |2004|08/17/2015 03:03:40 PM|null        |null         |null                         |\n",
            "|2544|4676906|HM278933   |03/01/2003 12:00:00 AM|004XX W 42ND PL    |2825|OTHER OFFENSE             |HARASSMENT BY TELEPHONE      |RESIDENCE           |False |True    |935 |9.0     |11.0|61.0          |26      |1173974.0   |1876757.0   |2003|04/15/2016 08:55:02 AM|41.817229156|-87.637328162|(41.817229156, -87.637328162)|\n",
            "|2919|4789749|HM402220   |06/20/2004 11:00:00 AM|025XX N KIMBALL AVE|1752|OFFENSE INVOLVING CHILDREN|AGG CRIM SEX ABUSE FAM MEMBER|RESIDENCE           |False |False   |1413|14.0    |35.0|22.0          |20      |null        |null        |2004|08/17/2015 03:03:40 PM|null        |null         |null                         |\n",
            "+----+-------+-----------+----------------------+-------------------+----+--------------------------+-----------------------------+--------------------+------+--------+----+--------+----+--------------+--------+------------+------------+----+----------------------+------------+-------------+-----------------------------+\n",
            "only showing top 3 rows\n",
            "\n"
          ],
          "name": "stdout"
        }
      ]
    },
    {
      "cell_type": "markdown",
      "metadata": {
        "id": "jmMqvqHj0EBy"
      },
      "source": [
        "# Processing data to explore various features"
      ]
    },
    {
      "cell_type": "code",
      "metadata": {
        "id": "gRVXIxZgcq5f"
      },
      "source": [
        "df = df.rdd.filter(lambda rec: rec.arrest.find('Location Description') < 0).toDF().cache()"
      ],
      "execution_count": null,
      "outputs": []
    },
    {
      "cell_type": "code",
      "metadata": {
        "id": "-XPWwRDOcszu",
        "colab": {
          "base_uri": "https://localhost:8080/"
        },
        "outputId": "5ccc2131-1ff0-4095-d667-dd7675bf7f6f"
      },
      "source": [
        "df.show(n=3, truncate=False)"
      ],
      "execution_count": null,
      "outputs": [
        {
          "output_type": "stream",
          "text": [
            "+----+-------+-----------+----------------------+-------------------+----+--------------------------+-----------------------------+--------------------+------+--------+----+--------+----+--------------+--------+------------+------------+----+----------------------+------------+-------------+-----------------------------+\n",
            "|_c0 |id     |case_number|date                  |block              |iucr|primary_type              |description                  |location_description|arrest|domestic|beat|district|ward|community_area|fbi_code|x_coordinate|y_coordinate|year|updated_on            |latitude    |longitude    |location                     |\n",
            "+----+-------+-----------+----------------------+-------------------+----+--------------------------+-----------------------------+--------------------+------+--------+----+--------+----+--------------+--------+------------+------------+----+----------------------+------------+-------------+-----------------------------+\n",
            "|879 |4786321|HM399414   |01/01/2004 12:01:00 AM|082XX S COLES AVE  |0840|THEFT                     |FINANCIAL ID THEFT: OVER $300|RESIDENCE           |False |False   |424 |4.0     |7.0 |46.0          |06      |null        |null        |2004|08/17/2015 03:03:40 PM|null        |null         |null                         |\n",
            "|2544|4676906|HM278933   |03/01/2003 12:00:00 AM|004XX W 42ND PL    |2825|OTHER OFFENSE             |HARASSMENT BY TELEPHONE      |RESIDENCE           |False |True    |935 |9.0     |11.0|61.0          |26      |1173974.0   |1876757.0   |2003|04/15/2016 08:55:02 AM|41.817229156|-87.637328162|(41.817229156, -87.637328162)|\n",
            "|2919|4789749|HM402220   |06/20/2004 11:00:00 AM|025XX N KIMBALL AVE|1752|OFFENSE INVOLVING CHILDREN|AGG CRIM SEX ABUSE FAM MEMBER|RESIDENCE           |False |False   |1413|14.0    |35.0|22.0          |20      |null        |null        |2004|08/17/2015 03:03:40 PM|null        |null         |null                         |\n",
            "+----+-------+-----------+----------------------+-------------------+----+--------------------------+-----------------------------+--------------------+------+--------+----+--------+----+--------------+--------+------------+------------+----+----------------------+------------+-------------+-----------------------------+\n",
            "only showing top 3 rows\n",
            "\n"
          ],
          "name": "stdout"
        }
      ]
    },
    {
      "cell_type": "markdown",
      "metadata": {
        "id": "C1mkfkop1INl"
      },
      "source": [
        "## Crime types Record"
      ]
    },
    {
      "cell_type": "code",
      "metadata": {
        "id": "0FM46jxzcyme"
      },
      "source": [
        "# crime types\n",
        "crime_type_groups = df.groupBy('primary_type').count()"
      ],
      "execution_count": null,
      "outputs": []
    },
    {
      "cell_type": "code",
      "metadata": {
        "id": "yD-OFsEpc6YP"
      },
      "source": [
        "crime_type_counts = crime_type_groups.orderBy('count', ascending=False)"
      ],
      "execution_count": null,
      "outputs": []
    },
    {
      "cell_type": "code",
      "metadata": {
        "id": "w1t0tHMvc_wB",
        "colab": {
          "base_uri": "https://localhost:8080/"
        },
        "outputId": "cd07eead-e151-4a9c-a545-38ade842a2c5"
      },
      "source": [
        "print(df.count())"
      ],
      "execution_count": null,
      "outputs": [
        {
          "output_type": "stream",
          "text": [
            "7941285\n"
          ],
          "name": "stdout"
        }
      ]
    },
    {
      "cell_type": "code",
      "metadata": {
        "id": "-FJCDmRhdCRg",
        "colab": {
          "base_uri": "https://localhost:8080/"
        },
        "outputId": "ac4c2596-5cdd-4881-c0ac-691b3869cb76"
      },
      "source": [
        "df.columns"
      ],
      "execution_count": null,
      "outputs": [
        {
          "output_type": "execute_result",
          "data": {
            "text/plain": [
              "['_c0',\n",
              " 'id',\n",
              " 'case_number',\n",
              " 'date',\n",
              " 'block',\n",
              " 'iucr',\n",
              " 'primary_type',\n",
              " 'description',\n",
              " 'location_description',\n",
              " 'arrest',\n",
              " 'domestic',\n",
              " 'beat',\n",
              " 'district',\n",
              " 'ward',\n",
              " 'community_area',\n",
              " 'fbi_code',\n",
              " 'x_coordinate',\n",
              " 'y_coordinate',\n",
              " 'year',\n",
              " 'updated_on',\n",
              " 'latitude',\n",
              " 'longitude',\n",
              " 'location']"
            ]
          },
          "metadata": {
            "tags": []
          },
          "execution_count": 23
        }
      ]
    },
    {
      "cell_type": "code",
      "metadata": {
        "id": "HTiC4nxigpfL",
        "colab": {
          "base_uri": "https://localhost:8080/"
        },
        "outputId": "d2ad47ef-ce6b-4bfc-8471-bb49895a63ec"
      },
      "source": [
        "df.printSchema()"
      ],
      "execution_count": null,
      "outputs": [
        {
          "output_type": "stream",
          "text": [
            "root\n",
            " |-- _c0: long (nullable = true)\n",
            " |-- id: long (nullable = true)\n",
            " |-- case_number: string (nullable = true)\n",
            " |-- date: string (nullable = true)\n",
            " |-- block: string (nullable = true)\n",
            " |-- iucr: string (nullable = true)\n",
            " |-- primary_type: string (nullable = true)\n",
            " |-- description: string (nullable = true)\n",
            " |-- location_description: string (nullable = true)\n",
            " |-- arrest: string (nullable = true)\n",
            " |-- domestic: string (nullable = true)\n",
            " |-- beat: string (nullable = true)\n",
            " |-- district: string (nullable = true)\n",
            " |-- ward: string (nullable = true)\n",
            " |-- community_area: string (nullable = true)\n",
            " |-- fbi_code: string (nullable = true)\n",
            " |-- x_coordinate: string (nullable = true)\n",
            " |-- y_coordinate: string (nullable = true)\n",
            " |-- year: string (nullable = true)\n",
            " |-- updated_on: string (nullable = true)\n",
            " |-- latitude: string (nullable = true)\n",
            " |-- longitude: string (nullable = true)\n",
            " |-- location: string (nullable = true)\n",
            "\n"
          ],
          "name": "stdout"
        }
      ]
    },
    {
      "cell_type": "code",
      "metadata": {
        "id": "jABjG45YhO59",
        "colab": {
          "base_uri": "https://localhost:8080/"
        },
        "outputId": "04c61800-267e-4cc7-ded1-cf1032d0af1c"
      },
      "source": [
        "crime_type_counts.show(truncate=False)"
      ],
      "execution_count": null,
      "outputs": [
        {
          "output_type": "stream",
          "text": [
            "+--------------------------------+-------+\n",
            "|primary_type                    |count  |\n",
            "+--------------------------------+-------+\n",
            "|THEFT                           |1640506|\n",
            "|BATTERY                         |1442717|\n",
            "|CRIMINAL DAMAGE                 |923000 |\n",
            "|NARCOTICS                       |885431 |\n",
            "|OTHER OFFENSE                   |491923 |\n",
            "|ASSAULT                         |481661 |\n",
            "|BURGLARY                        |470958 |\n",
            "|MOTOR VEHICLE THEFT             |370548 |\n",
            "|ROBBERY                         |300453 |\n",
            "|DECEPTIVE PRACTICE              |280931 |\n",
            "|CRIMINAL TRESPASS               |229367 |\n",
            "|PROSTITUTION                    |86401  |\n",
            "|WEAPONS VIOLATION               |77429  |\n",
            "|PUBLIC PEACE VIOLATION          |58548  |\n",
            "|OFFENSE INVOLVING CHILDREN      |51441  |\n",
            "|CRIM SEXUAL ASSAULT             |29868  |\n",
            "|SEX OFFENSE                     |28707  |\n",
            "|GAMBLING                        |18806  |\n",
            "|LIQUOR LAW VIOLATION            |17513  |\n",
            "|INTERFERENCE WITH PUBLIC OFFICER|15710  |\n",
            "+--------------------------------+-------+\n",
            "only showing top 20 rows\n",
            "\n"
          ],
          "name": "stdout"
        }
      ]
    },
    {
      "cell_type": "code",
      "metadata": {
        "id": "BDho3w8JhdeQ"
      },
      "source": [
        "counts_pddf = pd.DataFrame(crime_type_counts.rdd.map(lambda l: l.asDict()).collect())"
      ],
      "execution_count": null,
      "outputs": []
    },
    {
      "cell_type": "code",
      "metadata": {
        "id": "ctHdr_XQhpO7",
        "colab": {
          "base_uri": "https://localhost:8080/",
          "height": 343
        },
        "outputId": "87e6a5f3-19ff-492c-c2f7-8f7da52421f8"
      },
      "source": [
        "counts_pddf.head(10)"
      ],
      "execution_count": null,
      "outputs": [
        {
          "output_type": "execute_result",
          "data": {
            "text/html": [
              "<div>\n",
              "<style scoped>\n",
              "    .dataframe tbody tr th:only-of-type {\n",
              "        vertical-align: middle;\n",
              "    }\n",
              "\n",
              "    .dataframe tbody tr th {\n",
              "        vertical-align: top;\n",
              "    }\n",
              "\n",
              "    .dataframe thead th {\n",
              "        text-align: right;\n",
              "    }\n",
              "</style>\n",
              "<table border=\"1\" class=\"dataframe\">\n",
              "  <thead>\n",
              "    <tr style=\"text-align: right;\">\n",
              "      <th></th>\n",
              "      <th>primary_type</th>\n",
              "      <th>count</th>\n",
              "    </tr>\n",
              "  </thead>\n",
              "  <tbody>\n",
              "    <tr>\n",
              "      <th>0</th>\n",
              "      <td>THEFT</td>\n",
              "      <td>1640506</td>\n",
              "    </tr>\n",
              "    <tr>\n",
              "      <th>1</th>\n",
              "      <td>BATTERY</td>\n",
              "      <td>1442717</td>\n",
              "    </tr>\n",
              "    <tr>\n",
              "      <th>2</th>\n",
              "      <td>CRIMINAL DAMAGE</td>\n",
              "      <td>923000</td>\n",
              "    </tr>\n",
              "    <tr>\n",
              "      <th>3</th>\n",
              "      <td>NARCOTICS</td>\n",
              "      <td>885431</td>\n",
              "    </tr>\n",
              "    <tr>\n",
              "      <th>4</th>\n",
              "      <td>OTHER OFFENSE</td>\n",
              "      <td>491923</td>\n",
              "    </tr>\n",
              "    <tr>\n",
              "      <th>5</th>\n",
              "      <td>ASSAULT</td>\n",
              "      <td>481661</td>\n",
              "    </tr>\n",
              "    <tr>\n",
              "      <th>6</th>\n",
              "      <td>BURGLARY</td>\n",
              "      <td>470958</td>\n",
              "    </tr>\n",
              "    <tr>\n",
              "      <th>7</th>\n",
              "      <td>MOTOR VEHICLE THEFT</td>\n",
              "      <td>370548</td>\n",
              "    </tr>\n",
              "    <tr>\n",
              "      <th>8</th>\n",
              "      <td>ROBBERY</td>\n",
              "      <td>300453</td>\n",
              "    </tr>\n",
              "    <tr>\n",
              "      <th>9</th>\n",
              "      <td>DECEPTIVE PRACTICE</td>\n",
              "      <td>280931</td>\n",
              "    </tr>\n",
              "  </tbody>\n",
              "</table>\n",
              "</div>"
            ],
            "text/plain": [
              "          primary_type    count\n",
              "0                THEFT  1640506\n",
              "1              BATTERY  1442717\n",
              "2      CRIMINAL DAMAGE   923000\n",
              "3            NARCOTICS   885431\n",
              "4        OTHER OFFENSE   491923\n",
              "5              ASSAULT   481661\n",
              "6             BURGLARY   470958\n",
              "7  MOTOR VEHICLE THEFT   370548\n",
              "8              ROBBERY   300453\n",
              "9   DECEPTIVE PRACTICE   280931"
            ]
          },
          "metadata": {
            "tags": []
          },
          "execution_count": 27
        }
      ]
    },
    {
      "cell_type": "code",
      "metadata": {
        "id": "VcioPlDDhunq",
        "colab": {
          "base_uri": "https://localhost:8080/",
          "height": 426
        },
        "outputId": "d00bbd4d-1da3-49f0-a16e-3dbaa6582e68"
      },
      "source": [
        "plt.rcParams[\"figure.figsize\"] = [20, 8]\n",
        "\n",
        "sns.set(style=\"whitegrid\")\n",
        "sns.set_color_codes(\"pastel\")\n",
        "\n",
        "#sns.despine(left=True, bottom=True)\n",
        "type_graph = sns.barplot(x='count', y='primary_type', data=counts_pddf)\n",
        "type_graph.set(ylabel=\"Primary Type\", xlabel=\"Crimes Record Count\")"
      ],
      "execution_count": null,
      "outputs": [
        {
          "output_type": "execute_result",
          "data": {
            "text/plain": [
              "[Text(0, 0.5, 'Primary Type'), Text(0.5, 0, 'Crimes Record Count')]"
            ]
          },
          "metadata": {
            "tags": []
          },
          "execution_count": 28
        },
        {
          "output_type": "display_data",
          "data": {
            "image/png": "[encoded data removed]",
            "text/plain": [
              "<Figure size 1440x576 with 1 Axes>"
            ]
          },
          "metadata": {
            "tags": []
          }
        }
      ]
    },
    {
      "cell_type": "markdown",
      "metadata": {
        "id": "usio_O8O01x-"
      },
      "source": [
        "## Year-on-year Crimes"
      ]
    },
    {
      "cell_type": "code",
      "metadata": {
        "id": "rZHN19ShhyyV",
        "colab": {
          "base_uri": "https://localhost:8080/"
        },
        "outputId": "e606e841-a989-4cb2-85d3-4af3dca64164"
      },
      "source": [
        "df.select(min('date').alias('first_record_date'), max('date').alias('latest_record_date')).show(truncate=False)"
      ],
      "execution_count": null,
      "outputs": [
        {
          "output_type": "stream",
          "text": [
            "+----------------------+----------------------+\n",
            "|first_record_date     |latest_record_date    |\n",
            "+----------------------+----------------------+\n",
            "|01/01/2001 01:00:00 AM|12/31/2016 12:56:00 AM|\n",
            "+----------------------+----------------------+\n",
            "\n"
          ],
          "name": "stdout"
        }
      ]
    },
    {
      "cell_type": "code",
      "metadata": {
        "id": "5gfNWkcmh9_P"
      },
      "source": [
        "#adding a month column to be able to view stats on a monthly basis\n",
        "df = df.withColumn('date_time', to_timestamp('date', 'MM/dd/yyyy hh:mm:ss a'))\\\n",
        "       .withColumn('month', trunc('date_time', 'YYYY')) "
      ],
      "execution_count": null,
      "outputs": []
    },
    {
      "cell_type": "code",
      "metadata": {
        "id": "MCMDpKa3iEyL",
        "colab": {
          "base_uri": "https://localhost:8080/"
        },
        "outputId": "285ab3c0-62eb-4e1a-9afd-f60ff9b52c99"
      },
      "source": [
        "df.select(['date','date_time', 'month'])\\\n",
        "  .show(n=2, truncate=False)"
      ],
      "execution_count": null,
      "outputs": [
        {
          "output_type": "stream",
          "text": [
            "+----------------------+-------------------+----------+\n",
            "|date                  |date_time          |month     |\n",
            "+----------------------+-------------------+----------+\n",
            "|01/01/2004 12:01:00 AM|2004-01-01 00:01:00|2004-01-01|\n",
            "|03/01/2003 12:00:00 AM|2003-03-01 00:00:00|2003-01-01|\n",
            "+----------------------+-------------------+----------+\n",
            "only showing top 2 rows\n",
            "\n"
          ],
          "name": "stdout"
        }
      ]
    },
    {
      "cell_type": "code",
      "metadata": {
        "id": "NQ_6RsIwiH7D",
        "colab": {
          "base_uri": "https://localhost:8080/"
        },
        "outputId": "fb35eb51-51a2-429b-9571-e10c6fcdf370"
      },
      "source": [
        "# crime types and arrest over years:\n",
        "type_arrest_date = df.groupBy(['arrest', 'month'])\\\n",
        "                     .count()\\\n",
        "                     .orderBy(['month', 'count'], ascending=[True, False])\n",
        "print()\n",
        "type_arrest_date.show(3, truncate=False)"
      ],
      "execution_count": null,
      "outputs": [
        {
          "output_type": "stream",
          "text": [
            "\n",
            "+------+----------+------+\n",
            "|arrest|month     |count |\n",
            "+------+----------+------+\n",
            "|False |2001-01-01|400628|\n",
            "|True  |2001-01-01|167890|\n",
            "|False |2002-01-01|348074|\n",
            "+------+----------+------+\n",
            "only showing top 3 rows\n",
            "\n"
          ],
          "name": "stdout"
        }
      ]
    },
    {
      "cell_type": "code",
      "metadata": {
        "id": "FRsf3Y75iWug"
      },
      "source": [
        "# A pandas data frame of the collected dictionary version of the date-grouped DF above\n",
        "type_arrest_pddf = pd.DataFrame(type_arrest_date.rdd.map(lambda l: l.asDict()).collect())"
      ],
      "execution_count": null,
      "outputs": []
    },
    {
      "cell_type": "code",
      "metadata": {
        "id": "aOWWKRPeidsk"
      },
      "source": [
        "type_arrest_pddf['yearpd'] = type_arrest_pddf['month'].apply(lambda dt: datetime.datetime.strftime(pd.Timestamp(dt), '%Y'))"
      ],
      "execution_count": null,
      "outputs": []
    },
    {
      "cell_type": "code",
      "metadata": {
        "id": "SpycOssUih8L",
        "colab": {
          "base_uri": "https://localhost:8080/",
          "height": 195
        },
        "outputId": "d9453b00-fcab-4e3a-afa8-8afd7bdbb1ea"
      },
      "source": [
        "type_arrest_pddf['arrest'] = type_arrest_pddf['arrest'].apply(lambda l: l=='True')\n",
        "type_arrest_pddf.head(5)"
      ],
      "execution_count": null,
      "outputs": [
        {
          "output_type": "execute_result",
          "data": {
            "text/html": [
              "<div>\n",
              "<style scoped>\n",
              "    .dataframe tbody tr th:only-of-type {\n",
              "        vertical-align: middle;\n",
              "    }\n",
              "\n",
              "    .dataframe tbody tr th {\n",
              "        vertical-align: top;\n",
              "    }\n",
              "\n",
              "    .dataframe thead th {\n",
              "        text-align: right;\n",
              "    }\n",
              "</style>\n",
              "<table border=\"1\" class=\"dataframe\">\n",
              "  <thead>\n",
              "    <tr style=\"text-align: right;\">\n",
              "      <th></th>\n",
              "      <th>arrest</th>\n",
              "      <th>month</th>\n",
              "      <th>count</th>\n",
              "      <th>yearpd</th>\n",
              "    </tr>\n",
              "  </thead>\n",
              "  <tbody>\n",
              "    <tr>\n",
              "      <th>0</th>\n",
              "      <td>False</td>\n",
              "      <td>2001-01-01</td>\n",
              "      <td>400628</td>\n",
              "      <td>2001</td>\n",
              "    </tr>\n",
              "    <tr>\n",
              "      <th>1</th>\n",
              "      <td>True</td>\n",
              "      <td>2001-01-01</td>\n",
              "      <td>167890</td>\n",
              "      <td>2001</td>\n",
              "    </tr>\n",
              "    <tr>\n",
              "      <th>2</th>\n",
              "      <td>False</td>\n",
              "      <td>2002-01-01</td>\n",
              "      <td>348074</td>\n",
              "      <td>2002</td>\n",
              "    </tr>\n",
              "    <tr>\n",
              "      <th>3</th>\n",
              "      <td>True</td>\n",
              "      <td>2002-01-01</td>\n",
              "      <td>142805</td>\n",
              "      <td>2002</td>\n",
              "    </tr>\n",
              "    <tr>\n",
              "      <th>4</th>\n",
              "      <td>False</td>\n",
              "      <td>2003-01-01</td>\n",
              "      <td>334414</td>\n",
              "      <td>2003</td>\n",
              "    </tr>\n",
              "  </tbody>\n",
              "</table>\n",
              "</div>"
            ],
            "text/plain": [
              "   arrest       month   count yearpd\n",
              "0   False  2001-01-01  400628   2001\n",
              "1    True  2001-01-01  167890   2001\n",
              "2   False  2002-01-01  348074   2002\n",
              "3    True  2002-01-01  142805   2002\n",
              "4   False  2003-01-01  334414   2003"
            ]
          },
          "metadata": {
            "tags": []
          },
          "execution_count": 36
        }
      ]
    },
    {
      "cell_type": "code",
      "metadata": {
        "id": "uWUu1aFpikpA",
        "colab": {
          "base_uri": "https://localhost:8080/",
          "height": 500
        },
        "outputId": "fb91f6ef-e658-4a6c-ac69-5d2e7318e43e"
      },
      "source": [
        "# Data for plotting\n",
        "t = type_arrest_pddf['count'] - 20 # np.arange(0.0, 2.0, 0.01)\n",
        "s = type_arrest_pddf['month']\n",
        "\n",
        "arrested = type_arrest_pddf[type_arrest_pddf['arrest'] == True]\n",
        "not_arrested = type_arrest_pddf[type_arrest_pddf['arrest'] == False]\n",
        "\n",
        "# Note that using plt.subplots below is equivalent to using\n",
        "# fig = plt.figure() and then ax = fig.add_subplot(111)\n",
        "fig, ax = plt.subplots()\n",
        "ax.plot(arrested['month'], arrested['count'], label='Arrested')\n",
        "ax.plot(not_arrested['month'], not_arrested['count'], label='Not Arrested')\n",
        "\n",
        "ax.set(xlabel='Year - 2001-2017', ylabel='Total records',\n",
        "       title='Year-on-year crime records')\n",
        "ax.grid(b=True, which='both', axis='y')\n",
        "ax.legend()"
      ],
      "execution_count": null,
      "outputs": [
        {
          "output_type": "execute_result",
          "data": {
            "text/plain": [
              "<matplotlib.legend.Legend at 0x7f0d716aa9d0>"
            ]
          },
          "metadata": {
            "tags": []
          },
          "execution_count": 37
        },
        {
          "output_type": "display_data",
          "data": {
            "image/png": "[encoded data removed]",
            "text/plain": [
              "<Figure size 1440x576 with 1 Axes>"
            ]
          },
          "metadata": {
            "tags": []
          }
        }
      ]
    },
    {
      "cell_type": "markdown",
      "metadata": {
        "id": "KzqJs2Lw0wIx"
      },
      "source": [
        "## Hourly crimes"
      ]
    },
    {
      "cell_type": "code",
      "metadata": {
        "id": "aYTqN4_qinAM"
      },
      "source": [
        "# Extract the \"hour\" field from the date into a separate column called \"hour\"\n",
        "df_hour = df.withColumn('hour', hour(df['date_time']))"
      ],
      "execution_count": null,
      "outputs": []
    },
    {
      "cell_type": "code",
      "metadata": {
        "id": "pBSQJPNtipBV"
      },
      "source": [
        "# Derive a data frame with crime counts per hour of the day:\n",
        "hourly_count = df_hour.groupBy(['primary_type', 'hour']).count().cache()\n",
        "hourly_total_count = hourly_count.groupBy('hour').sum('count')"
      ],
      "execution_count": null,
      "outputs": []
    },
    {
      "cell_type": "code",
      "metadata": {
        "id": "rTSWqpkjiqU7"
      },
      "source": [
        "hourly_count_pddf = pd.DataFrame(hourly_total_count.select(hourly_total_count['hour'], hourly_total_count['sum(count)'].alias('count'))\\\n",
        "                                .rdd.map(lambda l: l.asDict())\\\n",
        "                                 .collect())"
      ],
      "execution_count": null,
      "outputs": []
    },
    {
      "cell_type": "code",
      "metadata": {
        "id": "ivw_TaG6isCI"
      },
      "source": [
        "hourly_count_pddf = hourly_count_pddf.sort_values(by='hour')"
      ],
      "execution_count": null,
      "outputs": []
    },
    {
      "cell_type": "code",
      "metadata": {
        "id": "bN9-ByXXiuzR",
        "colab": {
          "base_uri": "https://localhost:8080/",
          "height": 500
        },
        "outputId": "76a3798b-ee45-4363-d3d8-be621c96efec"
      },
      "source": [
        "fig, ax = plt.subplots()\n",
        "ax.plot(hourly_count_pddf['hour'], hourly_count_pddf['count'], label='Hourly Count')\n",
        "\n",
        "ax.set(xlabel='Hour of Day', ylabel='Total records',\n",
        "       title='Overall hourly crime numbers')\n",
        "ax.grid(b=True, which='both', axis='y')\n",
        "ax.legend()"
      ],
      "execution_count": null,
      "outputs": [
        {
          "output_type": "execute_result",
          "data": {
            "text/plain": [
              "<matplotlib.legend.Legend at 0x7f0d716d7290>"
            ]
          },
          "metadata": {
            "tags": []
          },
          "execution_count": 42
        },
        {
          "output_type": "display_data",
          "data": {
            "image/png": "[encoded data removed]",
            "text/plain": [
              "<Figure size 1440x576 with 1 Axes>"
            ]
          },
          "metadata": {
            "tags": []
          }
        }
      ]
    },
    {
      "cell_type": "code",
      "metadata": {
        "id": "P6DBbf04i1Sq",
        "colab": {
          "base_uri": "https://localhost:8080/"
        },
        "outputId": "a5bc6b8d-23be-4d17-f308-7169eef052f2"
      },
      "source": [
        "# Number of types of location recorded in the dataset\n",
        "df.select('location_description').distinct().count()"
      ],
      "execution_count": null,
      "outputs": [
        {
          "output_type": "execute_result",
          "data": {
            "text/plain": [
              "173"
            ]
          },
          "metadata": {
            "tags": []
          },
          "execution_count": 43
        }
      ]
    },
    {
      "cell_type": "code",
      "metadata": {
        "id": "I5NNhbqyklwl",
        "colab": {
          "base_uri": "https://localhost:8080/"
        },
        "outputId": "af87b7e0-ad35-405b-8e91-0e707fdaf765"
      },
      "source": [
        "df.groupBy(['location_description']).count().orderBy('count', ascending=False).show(10)"
      ],
      "execution_count": null,
      "outputs": [
        {
          "output_type": "stream",
          "text": [
            "+--------------------+-------+\n",
            "|location_description|  count|\n",
            "+--------------------+-------+\n",
            "|              STREET|2101843|\n",
            "|           RESIDENCE|1341750|\n",
            "|            SIDEWALK| 815595|\n",
            "|           APARTMENT| 812512|\n",
            "|               OTHER| 294286|\n",
            "|PARKING LOT/GARAG...| 225454|\n",
            "|               ALLEY| 180155|\n",
            "|SCHOOL, PUBLIC, B...| 173750|\n",
            "|    RESIDENCE-GARAGE| 158550|\n",
            "|RESIDENCE PORCH/H...| 138492|\n",
            "+--------------------+-------+\n",
            "only showing top 10 rows\n",
            "\n"
          ],
          "name": "stdout"
        }
      ]
    },
    {
      "cell_type": "markdown",
      "metadata": {
        "id": "0ZVoCUCilONk"
      },
      "source": [
        "## Domestic Crimes"
      ]
    },
    {
      "cell_type": "code",
      "metadata": {
        "id": "yfJoRz-MksNe"
      },
      "source": [
        "domestic_hour = pd.DataFrame(df_hour.groupBy(['domestic', 'hour']).count().orderBy('hour').rdd.map(lambda row: row.asDict()).collect())"
      ],
      "execution_count": null,
      "outputs": []
    },
    {
      "cell_type": "code",
      "metadata": {
        "id": "_jZ5bFw_lRx1"
      },
      "source": [
        "dom = domestic_hour[domestic_hour['domestic'] == 'True']['count']\n",
        "non_dom = domestic_hour[domestic_hour['domestic'] == 'False']['count']\n",
        "\n",
        "either_dom = domestic_hour.groupby(by=['hour']).sum()['count']\n",
        "\n",
        "dom_keys = domestic_hour[domestic_hour['domestic'] == 'False']['hour']"
      ],
      "execution_count": null,
      "outputs": []
    },
    {
      "cell_type": "code",
      "metadata": {
        "id": "wYfcYx_HlV5a",
        "colab": {
          "base_uri": "https://localhost:8080/",
          "height": 476
        },
        "outputId": "cf870972-9413-4aee-d411-3e5bed46cb0f"
      },
      "source": [
        "figure, axes = plt.subplots()\n",
        "\n",
        "axes.plot(dom_keys, either_dom, label='Total hourly count')\n",
        "axes.plot(dom_keys, dom, label='Domestic crime count')\n",
        "axes.plot(dom_keys, non_dom, label='Non-Domestic hourly count')\n",
        "\n",
        "axes.legend()"
      ],
      "execution_count": null,
      "outputs": [
        {
          "output_type": "execute_result",
          "data": {
            "text/plain": [
              "<matplotlib.legend.Legend at 0x7f0d715aff90>"
            ]
          },
          "metadata": {
            "tags": []
          },
          "execution_count": 47
        },
        {
          "output_type": "display_data",
          "data": {
            "image/png": "[encoded data removed]",
            "text/plain": [
              "<Figure size 1440x576 with 1 Axes>"
            ]
          },
          "metadata": {
            "tags": []
          }
        }
      ]
    },
    {
      "cell_type": "markdown",
      "metadata": {
        "id": "UZ8AdW0V13Nw"
      },
      "source": [
        "## Day in Week Crimes"
      ]
    },
    {
      "cell_type": "code",
      "metadata": {
        "id": "bAGFaQZ0layJ"
      },
      "source": [
        "\n",
        "df_dates = df_hour.withColumn('week_day', dayofweek(df_hour['date_time']))\\\n",
        "                 .withColumn('year_month', month(df_hour['date_time']))\\\n",
        "                 .withColumn('month_day', dayofmonth(df_hour['date_time']))\\\n",
        "                 .withColumn('date_number', datediff(df['date_time'], to_date(lit('2001-01-01'), format='yyyy-MM-dd')))\\\n",
        "                 .cache()"
      ],
      "execution_count": null,
      "outputs": []
    },
    {
      "cell_type": "code",
      "metadata": {
        "id": "7ArGhaPdlkxR",
        "colab": {
          "base_uri": "https://localhost:8080/"
        },
        "outputId": "be99669b-6324-4a21-df42-f6d07c9461ad"
      },
      "source": [
        "df_dates.select(['date', 'month', 'hour', 'week_day', 'year', 'year_month', 'month_day', 'date_number']).show(20, truncate=False)"
      ],
      "execution_count": null,
      "outputs": [
        {
          "output_type": "stream",
          "text": [
            "+----------------------+----------+----+--------+----+----------+---------+-----------+\n",
            "|date                  |month     |hour|week_day|year|year_month|month_day|date_number|\n",
            "+----------------------+----------+----+--------+----+----------+---------+-----------+\n",
            "|01/01/2004 12:01:00 AM|2004-01-01|0   |5       |2004|1         |1        |1095       |\n",
            "|03/01/2003 12:00:00 AM|2003-01-01|0   |7       |2003|3         |1        |789        |\n",
            "|06/20/2004 11:00:00 AM|2004-01-01|11  |1       |2004|6         |20       |1266       |\n",
            "|12/30/2004 08:00:00 PM|2004-01-01|20  |5       |2004|12        |30       |1459       |\n",
            "|05/01/2003 01:00:00 AM|2003-01-01|1   |5       |2003|5         |1        |850        |\n",
            "|08/01/2004 12:01:00 AM|2004-01-01|0   |1       |2004|8         |1        |1308       |\n",
            "|01/01/2001 11:00:00 AM|2001-01-01|11  |2       |2001|1         |1        |0          |\n",
            "|03/15/2003 12:00:00 AM|2003-01-01|0   |7       |2003|3         |15       |803        |\n",
            "|09/16/2004 10:00:00 AM|2004-01-01|10  |5       |2004|9         |16       |1354       |\n",
            "|01/01/2003 12:00:00 AM|2003-01-01|0   |4       |2003|1         |1        |730        |\n",
            "|06/05/2003 12:00:00 AM|2003-01-01|0   |5       |2003|6         |5        |885        |\n",
            "|11/01/2004 12:01:00 AM|2004-01-01|0   |2       |2004|11        |1        |1400       |\n",
            "|01/01/2003 12:00:00 AM|2003-01-01|0   |4       |2003|1         |1        |730        |\n",
            "|11/01/2004 12:00:00 AM|2004-01-01|0   |2       |2004|11        |1        |1400       |\n",
            "|11/01/2003 08:00:00 AM|2003-01-01|8   |7       |2003|11        |1        |1034       |\n",
            "|11/15/2003 09:00:00 AM|2003-01-01|9   |7       |2003|11        |15       |1048       |\n",
            "|01/02/2003 08:00:00 AM|2003-01-01|8   |5       |2003|1         |2        |731        |\n",
            "|01/01/2001 12:00:00 AM|2001-01-01|0   |2       |2001|1         |1        |0          |\n",
            "|01/01/2001 12:00:00 AM|2001-01-01|0   |2       |2001|1         |1        |0          |\n",
            "|06/14/2002 04:00:00 PM|2002-01-01|16  |6       |2002|6         |14       |529        |\n",
            "+----------------------+----------+----+--------+----+----------+---------+-----------+\n",
            "only showing top 20 rows\n",
            "\n"
          ],
          "name": "stdout"
        }
      ]
    },
    {
      "cell_type": "code",
      "metadata": {
        "id": "EMwEt1wllnOH"
      },
      "source": [
        "week_day_crime_counts = df_dates.groupBy('week_day').count()"
      ],
      "execution_count": null,
      "outputs": []
    },
    {
      "cell_type": "code",
      "metadata": {
        "id": "PU1onsKrltiv"
      },
      "source": [
        "week_day_crime_counts_pddf = pd.DataFrame(week_day_crime_counts.orderBy('week_day').rdd.map(lambda e: e.asDict()).collect())"
      ],
      "execution_count": null,
      "outputs": []
    },
    {
      "cell_type": "code",
      "metadata": {
        "id": "ylhouOWTlvnj",
        "colab": {
          "base_uri": "https://localhost:8080/",
          "height": 505
        },
        "outputId": "d0d5f8cd-de2c-48cd-abe5-10095deac8f2"
      },
      "source": [
        "sns.barplot(data=week_day_crime_counts_pddf, x='week_day', y='count')"
      ],
      "execution_count": null,
      "outputs": [
        {
          "output_type": "execute_result",
          "data": {
            "text/plain": [
              "<matplotlib.axes._subplots.AxesSubplot at 0x7f0d7157e490>"
            ]
          },
          "metadata": {
            "tags": []
          },
          "execution_count": 52
        },
        {
          "output_type": "display_data",
          "data": {
            "image/png": "[encoded data removed]",
            "text/plain": [
              "<Figure size 1440x576 with 1 Axes>"
            ]
          },
          "metadata": {
            "tags": []
          }
        }
      ]
    },
    {
      "cell_type": "markdown",
      "metadata": {
        "id": "lcUXmcR-2EjY"
      },
      "source": [
        "## Month in Year Crimes"
      ]
    },
    {
      "cell_type": "code",
      "metadata": {
        "id": "D9xwHzo2lxqO"
      },
      "source": [
        "year_month_crime_counts = df_dates.groupBy('year_month').count()"
      ],
      "execution_count": null,
      "outputs": []
    },
    {
      "cell_type": "code",
      "metadata": {
        "id": "bY6k0NMUl2Qj"
      },
      "source": [
        "year_month_crime_counts_pddf = pd.DataFrame(year_month_crime_counts.orderBy('year_month').rdd.map(lambda e: e.asDict()).collect())"
      ],
      "execution_count": null,
      "outputs": []
    },
    {
      "cell_type": "code",
      "metadata": {
        "id": "mQobByC5l55n",
        "colab": {
          "base_uri": "https://localhost:8080/",
          "height": 402
        },
        "outputId": "67f7bcf0-d777-4c85-be1a-ffaf3e8be3b8"
      },
      "source": [
        "year_month_crime_counts_pddf"
      ],
      "execution_count": null,
      "outputs": [
        {
          "output_type": "execute_result",
          "data": {
            "text/html": [
              "<div>\n",
              "<style scoped>\n",
              "    .dataframe tbody tr th:only-of-type {\n",
              "        vertical-align: middle;\n",
              "    }\n",
              "\n",
              "    .dataframe tbody tr th {\n",
              "        vertical-align: top;\n",
              "    }\n",
              "\n",
              "    .dataframe thead th {\n",
              "        text-align: right;\n",
              "    }\n",
              "</style>\n",
              "<table border=\"1\" class=\"dataframe\">\n",
              "  <thead>\n",
              "    <tr style=\"text-align: right;\">\n",
              "      <th></th>\n",
              "      <th>year_month</th>\n",
              "      <th>count</th>\n",
              "    </tr>\n",
              "  </thead>\n",
              "  <tbody>\n",
              "    <tr>\n",
              "      <th>0</th>\n",
              "      <td>1</td>\n",
              "      <td>660357</td>\n",
              "    </tr>\n",
              "    <tr>\n",
              "      <th>1</th>\n",
              "      <td>2</td>\n",
              "      <td>564178</td>\n",
              "    </tr>\n",
              "    <tr>\n",
              "      <th>2</th>\n",
              "      <td>3</td>\n",
              "      <td>639692</td>\n",
              "    </tr>\n",
              "    <tr>\n",
              "      <th>3</th>\n",
              "      <td>4</td>\n",
              "      <td>649755</td>\n",
              "    </tr>\n",
              "    <tr>\n",
              "      <th>4</th>\n",
              "      <td>5</td>\n",
              "      <td>730039</td>\n",
              "    </tr>\n",
              "    <tr>\n",
              "      <th>5</th>\n",
              "      <td>6</td>\n",
              "      <td>711768</td>\n",
              "    </tr>\n",
              "    <tr>\n",
              "      <th>6</th>\n",
              "      <td>7</td>\n",
              "      <td>730949</td>\n",
              "    </tr>\n",
              "    <tr>\n",
              "      <th>7</th>\n",
              "      <td>8</td>\n",
              "      <td>724522</td>\n",
              "    </tr>\n",
              "    <tr>\n",
              "      <th>8</th>\n",
              "      <td>9</td>\n",
              "      <td>679295</td>\n",
              "    </tr>\n",
              "    <tr>\n",
              "      <th>9</th>\n",
              "      <td>10</td>\n",
              "      <td>687450</td>\n",
              "    </tr>\n",
              "    <tr>\n",
              "      <th>10</th>\n",
              "      <td>11</td>\n",
              "      <td>610733</td>\n",
              "    </tr>\n",
              "    <tr>\n",
              "      <th>11</th>\n",
              "      <td>12</td>\n",
              "      <td>552547</td>\n",
              "    </tr>\n",
              "  </tbody>\n",
              "</table>\n",
              "</div>"
            ],
            "text/plain": [
              "    year_month   count\n",
              "0            1  660357\n",
              "1            2  564178\n",
              "2            3  639692\n",
              "3            4  649755\n",
              "4            5  730039\n",
              "5            6  711768\n",
              "6            7  730949\n",
              "7            8  724522\n",
              "8            9  679295\n",
              "9           10  687450\n",
              "10          11  610733\n",
              "11          12  552547"
            ]
          },
          "metadata": {
            "tags": []
          },
          "execution_count": 55
        }
      ]
    },
    {
      "cell_type": "code",
      "metadata": {
        "id": "FCDD8T3kl81p",
        "colab": {
          "base_uri": "https://localhost:8080/",
          "height": 486
        },
        "outputId": "92a0ca85-f5ef-4c42-beb3-f02a248e72c5"
      },
      "source": [
        "sns.barplot(data=year_month_crime_counts_pddf, y='count', x='year_month')"
      ],
      "execution_count": null,
      "outputs": [
        {
          "output_type": "execute_result",
          "data": {
            "text/plain": [
              "<matplotlib.axes._subplots.AxesSubplot at 0x7f0d714a33d0>"
            ]
          },
          "metadata": {
            "tags": []
          },
          "execution_count": 56
        },
        {
          "output_type": "display_data",
          "data": {
            "image/png": "[encoded data removed]",
            "text/plain": [
              "<Figure size 1440x576 with 1 Axes>"
            ]
          },
          "metadata": {
            "tags": []
          }
        }
      ]
    },
    {
      "cell_type": "markdown",
      "metadata": {
        "id": "u6MfYw0C2T2r"
      },
      "source": [
        "## Day in Month Crimes"
      ]
    },
    {
      "cell_type": "code",
      "metadata": {
        "id": "ojNQ7BBjl_Vl"
      },
      "source": [
        "month_day_crime_counts = df_dates.groupBy('month_day').count()"
      ],
      "execution_count": null,
      "outputs": []
    },
    {
      "cell_type": "code",
      "metadata": {
        "id": "SO1qxi2_mBMg"
      },
      "source": [
        "month_day_crime_counts_pddf = pd.DataFrame(month_day_crime_counts.orderBy('month_day').rdd.map(lambda e: e.asDict()).collect())"
      ],
      "execution_count": null,
      "outputs": []
    },
    {
      "cell_type": "code",
      "metadata": {
        "id": "o0rN7CNhmEW7",
        "colab": {
          "base_uri": "https://localhost:8080/",
          "height": 343
        },
        "outputId": "d853ae6b-5de3-4ab1-98e4-59e9ce95fa9b"
      },
      "source": [
        "month_day_crime_counts_pddf.sort_values(by='count', ascending=False).head(10)"
      ],
      "execution_count": null,
      "outputs": [
        {
          "output_type": "execute_result",
          "data": {
            "text/html": [
              "<div>\n",
              "<style scoped>\n",
              "    .dataframe tbody tr th:only-of-type {\n",
              "        vertical-align: middle;\n",
              "    }\n",
              "\n",
              "    .dataframe tbody tr th {\n",
              "        vertical-align: top;\n",
              "    }\n",
              "\n",
              "    .dataframe thead th {\n",
              "        text-align: right;\n",
              "    }\n",
              "</style>\n",
              "<table border=\"1\" class=\"dataframe\">\n",
              "  <thead>\n",
              "    <tr style=\"text-align: right;\">\n",
              "      <th></th>\n",
              "      <th>month_day</th>\n",
              "      <th>count</th>\n",
              "    </tr>\n",
              "  </thead>\n",
              "  <tbody>\n",
              "    <tr>\n",
              "      <th>0</th>\n",
              "      <td>1</td>\n",
              "      <td>309994</td>\n",
              "    </tr>\n",
              "    <tr>\n",
              "      <th>14</th>\n",
              "      <td>15</td>\n",
              "      <td>271113</td>\n",
              "    </tr>\n",
              "    <tr>\n",
              "      <th>19</th>\n",
              "      <td>20</td>\n",
              "      <td>264762</td>\n",
              "    </tr>\n",
              "    <tr>\n",
              "      <th>9</th>\n",
              "      <td>10</td>\n",
              "      <td>263976</td>\n",
              "    </tr>\n",
              "    <tr>\n",
              "      <th>13</th>\n",
              "      <td>14</td>\n",
              "      <td>263507</td>\n",
              "    </tr>\n",
              "    <tr>\n",
              "      <th>11</th>\n",
              "      <td>12</td>\n",
              "      <td>263193</td>\n",
              "    </tr>\n",
              "    <tr>\n",
              "      <th>16</th>\n",
              "      <td>17</td>\n",
              "      <td>261727</td>\n",
              "    </tr>\n",
              "    <tr>\n",
              "      <th>8</th>\n",
              "      <td>9</td>\n",
              "      <td>261387</td>\n",
              "    </tr>\n",
              "    <tr>\n",
              "      <th>15</th>\n",
              "      <td>16</td>\n",
              "      <td>261078</td>\n",
              "    </tr>\n",
              "    <tr>\n",
              "      <th>7</th>\n",
              "      <td>8</td>\n",
              "      <td>260775</td>\n",
              "    </tr>\n",
              "  </tbody>\n",
              "</table>\n",
              "</div>"
            ],
            "text/plain": [
              "    month_day   count\n",
              "0           1  309994\n",
              "14         15  271113\n",
              "19         20  264762\n",
              "9          10  263976\n",
              "13         14  263507\n",
              "11         12  263193\n",
              "16         17  261727\n",
              "8           9  261387\n",
              "15         16  261078\n",
              "7           8  260775"
            ]
          },
          "metadata": {
            "tags": []
          },
          "execution_count": 59
        }
      ]
    },
    {
      "cell_type": "code",
      "metadata": {
        "id": "SnlEnzoJmGc4"
      },
      "source": [
        "month_day_crime_counts_pddf = month_day_crime_counts_pddf.sort_values(by='month_day', ascending=True)"
      ],
      "execution_count": null,
      "outputs": []
    },
    {
      "cell_type": "code",
      "metadata": {
        "id": "hlLm9ULkmJeF",
        "colab": {
          "base_uri": "https://localhost:8080/",
          "height": 476
        },
        "outputId": "09ffd4cf-71e9-49b6-b22d-7383e2010f3f"
      },
      "source": [
        "fg, ax = plt.subplots()\n",
        "\n",
        "ax.plot(month_day_crime_counts_pddf['month_day'], month_day_crime_counts_pddf['count'], label='Crimes over the month')\n",
        "\n",
        "ax.grid(b=True, which='both')\n",
        "ax.legend()"
      ],
      "execution_count": null,
      "outputs": [
        {
          "output_type": "execute_result",
          "data": {
            "text/plain": [
              "<matplotlib.legend.Legend at 0x7f0d713a2790>"
            ]
          },
          "metadata": {
            "tags": []
          },
          "execution_count": 61
        },
        {
          "output_type": "display_data",
          "data": {
            "image/png": "[encoded data removed]",
            "text/plain": [
              "<Figure size 1440x576 with 1 Axes>"
            ]
          },
          "metadata": {
            "tags": []
          }
        }
      ]
    },
    {
      "cell_type": "markdown",
      "metadata": {
        "id": "PFDboVOS35G7"
      },
      "source": [
        "## Alalysing Top most crimes w.r.t Hour and Community Area"
      ]
    },
    {
      "cell_type": "code",
      "metadata": {
        "id": "R0MBm_88mLvj"
      },
      "source": [
        "df_dates_community_areas = df_dates.na.drop(subset=['community_area']).groupBy('community_area').count()"
      ],
      "execution_count": null,
      "outputs": []
    },
    {
      "cell_type": "code",
      "metadata": {
        "id": "taxPGvYjmN9P",
        "colab": {
          "base_uri": "https://localhost:8080/"
        },
        "outputId": "57a81c1d-07cf-4503-e2ba-4206468ef9ac"
      },
      "source": [
        "df_dates_community_areas.orderBy('count', ascending=False).show(10)"
      ],
      "execution_count": null,
      "outputs": [
        {
          "output_type": "stream",
          "text": [
            "+--------------+------+\n",
            "|community_area| count|\n",
            "+--------------+------+\n",
            "|          25.0|467137|\n",
            "|          43.0|237381|\n",
            "|           8.0|235562|\n",
            "|          23.0|229024|\n",
            "|          67.0|216991|\n",
            "|          24.0|213915|\n",
            "|          71.0|207183|\n",
            "|          28.0|206017|\n",
            "|          29.0|202887|\n",
            "|          68.0|197659|\n",
            "+--------------+------+\n",
            "only showing top 10 rows\n",
            "\n"
          ],
          "name": "stdout"
        }
      ]
    },
    {
      "cell_type": "code",
      "metadata": {
        "id": "J7wFDRGBmRB3"
      },
      "source": [
        "top_crime_types = df_dates.select('primary_type').groupBy('primary_type').count().rdd.map(lambda row: row.asDict()).takeOrdered(10, key=lambda l: 1/l['count'])\n",
        "top_busy_areas =  df_dates_community_areas.rdd.map(lambda row: row.asDict()).takeOrdered(10, key=lambda l: 1/l['count'])"
      ],
      "execution_count": null,
      "outputs": []
    },
    {
      "cell_type": "code",
      "metadata": {
        "id": "Dcj5HVglmVh4"
      },
      "source": [
        "top_crime_types_lst = [dc['primary_type'] for dc in top_crime_types]\n",
        "top_busy_areas_lst = [dc['community_area'] for dc in top_busy_areas]"
      ],
      "execution_count": null,
      "outputs": []
    },
    {
      "cell_type": "code",
      "metadata": {
        "id": "KAPSSSfbmXpg",
        "colab": {
          "base_uri": "https://localhost:8080/"
        },
        "outputId": "45559316-cbea-4459-be0d-63a51de5d7e6"
      },
      "source": [
        "top_crime_types_lst"
      ],
      "execution_count": null,
      "outputs": [
        {
          "output_type": "execute_result",
          "data": {
            "text/plain": [
              "['THEFT',\n",
              " 'BATTERY',\n",
              " 'CRIMINAL DAMAGE',\n",
              " 'NARCOTICS',\n",
              " 'OTHER OFFENSE',\n",
              " 'ASSAULT',\n",
              " 'BURGLARY',\n",
              " 'MOTOR VEHICLE THEFT',\n",
              " 'ROBBERY',\n",
              " 'DECEPTIVE PRACTICE']"
            ]
          },
          "metadata": {
            "tags": []
          },
          "execution_count": 66
        }
      ]
    },
    {
      "cell_type": "code",
      "metadata": {
        "id": "_iqIxA15mZrV",
        "colab": {
          "base_uri": "https://localhost:8080/"
        },
        "outputId": "eca7e81b-5194-47f7-9c65-eff661c9b926"
      },
      "source": [
        "top_busy_areas_lst"
      ],
      "execution_count": null,
      "outputs": [
        {
          "output_type": "execute_result",
          "data": {
            "text/plain": [
              "['25.0', '43.0', '8.0', '23.0', '67.0', '24.0', '71.0', '28.0', '29.0', '68.0']"
            ]
          },
          "metadata": {
            "tags": []
          },
          "execution_count": 67
        }
      ]
    },
    {
      "cell_type": "code",
      "metadata": {
        "id": "0PoeNT20mcSh",
        "colab": {
          "base_uri": "https://localhost:8080/"
        },
        "outputId": "bcc1ccee-04a5-4ed1-a191-1f2da03e7709"
      },
      "source": [
        "q1 = \"instr('\" + ' '.join(top_busy_areas_lst) + \"', community_area) > 0\"\n",
        "q2 = \"instr('\" + ' '.join(top_crime_types_lst) + \"', primary_type) > 0\"\n",
        "print(q1)\n",
        "print(q2)"
      ],
      "execution_count": null,
      "outputs": [
        {
          "output_type": "stream",
          "text": [
            "instr('25.0 43.0 8.0 23.0 67.0 24.0 71.0 28.0 29.0 68.0', community_area) > 0\n",
            "instr('THEFT BATTERY CRIMINAL DAMAGE NARCOTICS OTHER OFFENSE ASSAULT BURGLARY MOTOR VEHICLE THEFT ROBBERY DECEPTIVE PRACTICE', primary_type) > 0\n"
          ],
          "name": "stdout"
        }
      ]
    },
    {
      "cell_type": "code",
      "metadata": {
        "id": "CjU-lewTmetH"
      },
      "source": [
        "## Construct a data frame filtered on these top community areas and top crime types:\n",
        "df_dates_tops = df_dates.filter(q1).filter(q2)"
      ],
      "execution_count": null,
      "outputs": []
    },
    {
      "cell_type": "code",
      "metadata": {
        "id": "1dfc1PYLmhR5",
        "colab": {
          "base_uri": "https://localhost:8080/"
        },
        "outputId": "2de00495-7874-4369-fdcd-bfdfe7fa120c"
      },
      "source": [
        "df_dates_tops.count()"
      ],
      "execution_count": null,
      "outputs": [
        {
          "output_type": "execute_result",
          "data": {
            "text/plain": [
              "2608136"
            ]
          },
          "metadata": {
            "tags": []
          },
          "execution_count": 70
        }
      ]
    },
    {
      "cell_type": "code",
      "metadata": {
        "id": "SpnmmZ2OmjGG"
      },
      "source": [
        "tops_of_tops = df_dates_tops.groupBy(['primary_type', 'community_area']).count().orderBy(['primary_type', 'count', 'community_area'], ascending=[True, False, True]).cache()"
      ],
      "execution_count": null,
      "outputs": []
    },
    {
      "cell_type": "code",
      "metadata": {
        "id": "wSDL5gaxmlIH",
        "colab": {
          "base_uri": "https://localhost:8080/"
        },
        "outputId": "8026bd4c-e923-4f92-93ba-f55107213803"
      },
      "source": [
        "tops_of_tops.show(20)"
      ],
      "execution_count": null,
      "outputs": [
        {
          "output_type": "stream",
          "text": [
            "+------------+--------------+-----+\n",
            "|primary_type|community_area|count|\n",
            "+------------+--------------+-----+\n",
            "|     ASSAULT|          25.0|27112|\n",
            "|     ASSAULT|          43.0|16358|\n",
            "|     ASSAULT|          67.0|15576|\n",
            "|     ASSAULT|          68.0|15064|\n",
            "|     ASSAULT|          71.0|14342|\n",
            "|     ASSAULT|          23.0|14081|\n",
            "|     ASSAULT|          29.0|12605|\n",
            "|     ASSAULT|          28.0|11096|\n",
            "|     ASSAULT|          24.0|10119|\n",
            "|     ASSAULT|           8.0| 8385|\n",
            "|     ASSAULT|           1.0| 6459|\n",
            "|     ASSAULT|           3.0| 6335|\n",
            "|     ASSAULT|           7.0| 2871|\n",
            "|     ASSAULT|           4.0| 2427|\n",
            "|     ASSAULT|           5.0| 1726|\n",
            "|     ASSAULT|           9.0|  362|\n",
            "|     BATTERY|          25.0|91430|\n",
            "|     BATTERY|          43.0|51026|\n",
            "|     BATTERY|          67.0|50855|\n",
            "|     BATTERY|          68.0|49025|\n",
            "+------------+--------------+-----+\n",
            "only showing top 20 rows\n",
            "\n"
          ],
          "name": "stdout"
        }
      ]
    },
    {
      "cell_type": "markdown",
      "metadata": {
        "id": "ri5Dw19x31T1"
      },
      "source": [
        "## Crimes w.r.t Community Area"
      ]
    },
    {
      "cell_type": "code",
      "metadata": {
        "id": "jSsUYKA3moX2"
      },
      "source": [
        "area_names = \"\"\"\n",
        "01\tRogers Park\t\n",
        "40\tWashington Park\n",
        "02\tWest Ridge\t\n",
        "41\tHyde Park\n",
        "03\tUptown\t\n",
        "42\tWoodlawn\n",
        "04\tLincoln Square\t\n",
        "43\tSouth Shore\n",
        "05\tNorth Center\t\n",
        "44\tChatham\n",
        "06\tLakeview\t\n",
        "45\tAvalon Park\n",
        "07\tLincoln Park\t\n",
        "46\tSouth Chicago\n",
        "08\tNear North Side\t\n",
        "47\tBurnside\n",
        "09\tEdison Park\t\n",
        "48\tCalumet Heights\n",
        "10\tNorwood Park\t\n",
        "49\tRoseland\n",
        "11\tJefferson Park\t\n",
        "50\tPullman\n",
        "12\tForest Glen\t\n",
        "51\tSouth Deering\n",
        "13\tNorth Park\t\n",
        "52\tEast Side\n",
        "14\tAlbany Park\t\n",
        "53\tWest Pullman\n",
        "15\tPortage Park\t\n",
        "54\tRiverdale\n",
        "16\tIrving Park\t\n",
        "55\tHegewisch\n",
        "17\tDunning\t\n",
        "56\tGarfield Ridge\n",
        "18\tMontclare\t\n",
        "57\tArcher Heights\n",
        "19\tBelmont Cragin\t\n",
        "58\tBrighton Park\n",
        "20\tHermosa\t\n",
        "59\tMcKinley Park\n",
        "21\tAvondale\t\n",
        "60\tBridgeport\n",
        "22\tLogan Square\t\n",
        "61\tNew City\n",
        "23\tHumboldt Park\t\n",
        "62\tWest Elsdon\n",
        "24\tWest Town\t\n",
        "63\tGage Park\n",
        "25\tAustin\t\n",
        "64\tClearing\n",
        "26\tWest Garfield Park \t\n",
        "65\tWest Lawn\n",
        "27\tEast Garfield Park\t\n",
        "66\tChicago Lawn\n",
        "28\tNear West Side\t\n",
        "67\tWest Englewood\n",
        "29\tNorth Lawndale\t\n",
        "68\tEnglewood\n",
        "30\tSouth Lawndale\t\n",
        "69\tGreater Grand Crossing\n",
        "31\tLower West Side\t\n",
        "70\tAshburn\n",
        "32\tLoop\t\n",
        "71\tAuburn Gresham\t\n",
        "33\tNear South Side\t\n",
        "72\tBeverly\n",
        "34\tArmour Square\t\n",
        "73\tWashington Heights\n",
        "35\tDouglas\t\n",
        "74\tMount Greenwood\n",
        "36\tOakland\t\n",
        "75\tMorgan Park\n",
        "37\tFuller Park\t\n",
        "76\tO'Hare\n",
        "38\tGrand Boulevard\t\n",
        "77\tEdgewater\n",
        "39\tKenwood\t\n",
        "\"\"\""
      ],
      "execution_count": null,
      "outputs": []
    },
    {
      "cell_type": "code",
      "metadata": {
        "id": "6B7Llc5gms5D"
      },
      "source": [
        "code_pairs = [[float(p[0]), p[1]] for p in [pair.strip().split('\\t') for pair in area_names.strip().split('\\n')]]"
      ],
      "execution_count": null,
      "outputs": []
    },
    {
      "cell_type": "code",
      "metadata": {
        "id": "yDGiDKGpmwcX",
        "colab": {
          "base_uri": "https://localhost:8080/"
        },
        "outputId": "2e3ee302-ab45-4e01-f115-d0452080274f"
      },
      "source": [
        "code_pairs[:5]"
      ],
      "execution_count": null,
      "outputs": [
        {
          "output_type": "execute_result",
          "data": {
            "text/plain": [
              "[[1.0, 'Rogers Park'],\n",
              " [40.0, 'Washington Park'],\n",
              " [2.0, 'West Ridge'],\n",
              " [41.0, 'Hyde Park'],\n",
              " [3.0, 'Uptown']]"
            ]
          },
          "metadata": {
            "tags": []
          },
          "execution_count": 75
        }
      ]
    },
    {
      "cell_type": "code",
      "metadata": {
        "id": "Of_PyjHbmypI"
      },
      "source": [
        "community_area_counts = pd.DataFrame(df_dates_community_areas.rdd.map(lambda row: row.asDict()).collect())"
      ],
      "execution_count": null,
      "outputs": []
    },
    {
      "cell_type": "code",
      "metadata": {
        "id": "4iTQTJKXm1Cw"
      },
      "source": [
        "# Create a dictionary of area code to names\n",
        "area_name_dic = {float(k[0]):k[1] for k in code_pairs}"
      ],
      "execution_count": null,
      "outputs": []
    },
    {
      "cell_type": "code",
      "metadata": {
        "id": "foezNWcxm3Lg"
      },
      "source": [
        "community_area_counts['community_area_name'] = community_area_counts['community_area'].apply(lambda area: area_name_dic.get(float(area),  'unknown_%s'%area))"
      ],
      "execution_count": null,
      "outputs": []
    },
    {
      "cell_type": "code",
      "metadata": {
        "id": "1bGKQ4S5m49V",
        "colab": {
          "base_uri": "https://localhost:8080/",
          "height": 195
        },
        "outputId": "fbf09845-dd38-4fda-f42c-4c38dd064365"
      },
      "source": [
        "community_area_counts = community_area_counts.sort_values(by='count')\n",
        "community_area_counts.head(5)"
      ],
      "execution_count": null,
      "outputs": [
        {
          "output_type": "execute_result",
          "data": {
            "text/html": [
              "<div>\n",
              "<style scoped>\n",
              "    .dataframe tbody tr th:only-of-type {\n",
              "        vertical-align: middle;\n",
              "    }\n",
              "\n",
              "    .dataframe tbody tr th {\n",
              "        vertical-align: top;\n",
              "    }\n",
              "\n",
              "    .dataframe thead th {\n",
              "        text-align: right;\n",
              "    }\n",
              "</style>\n",
              "<table border=\"1\" class=\"dataframe\">\n",
              "  <thead>\n",
              "    <tr style=\"text-align: right;\">\n",
              "      <th></th>\n",
              "      <th>community_area</th>\n",
              "      <th>count</th>\n",
              "      <th>community_area_name</th>\n",
              "    </tr>\n",
              "  </thead>\n",
              "  <tbody>\n",
              "    <tr>\n",
              "      <th>22</th>\n",
              "      <td>0.0</td>\n",
              "      <td>114</td>\n",
              "      <td>unknown_0.0</td>\n",
              "    </tr>\n",
              "    <tr>\n",
              "      <th>24</th>\n",
              "      <td>9.0</td>\n",
              "      <td>6983</td>\n",
              "      <td>Edison Park</td>\n",
              "    </tr>\n",
              "    <tr>\n",
              "      <th>11</th>\n",
              "      <td>47.0</td>\n",
              "      <td>10957</td>\n",
              "      <td>Burnside</td>\n",
              "    </tr>\n",
              "    <tr>\n",
              "      <th>25</th>\n",
              "      <td>12.0</td>\n",
              "      <td>12969</td>\n",
              "      <td>Forest Glen</td>\n",
              "    </tr>\n",
              "    <tr>\n",
              "      <th>53</th>\n",
              "      <td>55.0</td>\n",
              "      <td>15554</td>\n",
              "      <td>Hegewisch</td>\n",
              "    </tr>\n",
              "  </tbody>\n",
              "</table>\n",
              "</div>"
            ],
            "text/plain": [
              "   community_area  count community_area_name\n",
              "22            0.0    114         unknown_0.0\n",
              "24            9.0   6983         Edison Park\n",
              "11           47.0  10957            Burnside\n",
              "25           12.0  12969         Forest Glen\n",
              "53           55.0  15554           Hegewisch"
            ]
          },
          "metadata": {
            "tags": []
          },
          "execution_count": 79
        }
      ]
    },
    {
      "cell_type": "code",
      "metadata": {
        "id": "2ymErZe-m68p"
      },
      "source": [
        "code_pairs_df = spark.createDataFrame(code_pairs, ['community_area', 'area_name'])"
      ],
      "execution_count": null,
      "outputs": []
    },
    {
      "cell_type": "code",
      "metadata": {
        "id": "MZnXqlT7m9Uz"
      },
      "source": [
        "named_tops_of_tops = code_pairs_df.join(tops_of_tops, on='community_area', how='right')"
      ],
      "execution_count": null,
      "outputs": []
    },
    {
      "cell_type": "code",
      "metadata": {
        "id": "X1hS3ATYm_No",
        "colab": {
          "base_uri": "https://localhost:8080/"
        },
        "outputId": "07b7628a-a4b6-49ba-f5e3-d5fad016edc2"
      },
      "source": [
        "named_tops_of_tops.show(10)"
      ],
      "execution_count": null,
      "outputs": [
        {
          "output_type": "stream",
          "text": [
            "+--------------+---------------+-------------------+-----+\n",
            "|community_area|      area_name|       primary_type|count|\n",
            "+--------------+---------------+-------------------+-----+\n",
            "|           8.0|Near North Side|            ASSAULT| 8385|\n",
            "|           8.0|Near North Side|            BATTERY|31008|\n",
            "|           8.0|Near North Side|           BURGLARY| 5635|\n",
            "|           8.0|Near North Side|    CRIMINAL DAMAGE|15840|\n",
            "|           8.0|Near North Side| DECEPTIVE PRACTICE|20796|\n",
            "|           8.0|Near North Side|MOTOR VEHICLE THEFT| 4961|\n",
            "|           8.0|Near North Side|          NARCOTICS|12647|\n",
            "|           8.0|Near North Side|      OTHER OFFENSE| 8621|\n",
            "|           8.0|Near North Side|            ROBBERY| 5763|\n",
            "|           8.0|Near North Side|              THEFT|96280|\n",
            "+--------------+---------------+-------------------+-----+\n",
            "only showing top 10 rows\n",
            "\n"
          ],
          "name": "stdout"
        }
      ]
    },
    {
      "cell_type": "code",
      "metadata": {
        "id": "KOYLLNBqnA1M"
      },
      "source": [
        "tops_of_tops_dff = pd.DataFrame(named_tops_of_tops.rdd.map(lambda l: l.asDict()).collect() )"
      ],
      "execution_count": null,
      "outputs": []
    },
    {
      "cell_type": "code",
      "metadata": {
        "id": "f0ft1E2WnC-e",
        "colab": {
          "base_uri": "https://localhost:8080/",
          "height": 315
        },
        "outputId": "e3842173-f2e5-4e60-8035-84ed9a42753e"
      },
      "source": [
        "plt.rcParams[\"figure.figsize\"] = [64, 16]\n",
        "sns.barplot(data=tops_of_tops_dff, x='area_name', y='count', hue='primary_type', palette='pastel')"
      ],
      "execution_count": null,
      "outputs": [
        {
          "output_type": "execute_result",
          "data": {
            "text/plain": [
              "<matplotlib.axes._subplots.AxesSubplot at 0x7f0d73995b10>"
            ]
          },
          "metadata": {
            "tags": []
          },
          "execution_count": 84
        },
        {
          "output_type": "display_data",
          "data": {
            "image/png": "[encoded data removed]",
            "text/plain": [
              "<Figure size 4608x1152 with 1 Axes>"
            ]
          },
          "metadata": {
            "tags": []
          }
        }
      ]
    },
    {
      "cell_type": "markdown",
      "metadata": {
        "id": "YBAnQBhc4PFs"
      },
      "source": [
        "# Modeling data"
      ]
    },
    {
      "cell_type": "markdown",
      "metadata": {
        "id": "QJTEWPoj47lL"
      },
      "source": [
        "## Indexing columns - StringIndexer"
      ]
    },
    {
      "cell_type": "code",
      "metadata": {
        "id": "j9VMj_85nGwq"
      },
      "source": [
        "selected_features = [\n",
        " 'location_description',\n",
        " 'arrest',\n",
        " 'domestic',\n",
        " 'beat',\n",
        " 'district',\n",
        " 'ward',\n",
        " 'community_area',\n",
        " 'fbi_code',\n",
        " 'hour',\n",
        " 'week_day',\n",
        " 'year_month',\n",
        " 'month_day',\n",
        " 'date_number']"
      ],
      "execution_count": null,
      "outputs": []
    },
    {
      "cell_type": "code",
      "metadata": {
        "id": "u3k1LIW4nZFz",
        "colab": {
          "base_uri": "https://localhost:8080/"
        },
        "outputId": "d56df802-f6c8-430f-cb03-11d14a8fba30"
      },
      "source": [
        "#Let's see the schema of these selected features:\n",
        "features_df = df_dates.select(selected_features)\n",
        "features_df.printSchema()"
      ],
      "execution_count": null,
      "outputs": [
        {
          "output_type": "stream",
          "text": [
            "root\n",
            " |-- location_description: string (nullable = true)\n",
            " |-- arrest: string (nullable = true)\n",
            " |-- domestic: string (nullable = true)\n",
            " |-- beat: string (nullable = true)\n",
            " |-- district: string (nullable = true)\n",
            " |-- ward: string (nullable = true)\n",
            " |-- community_area: string (nullable = true)\n",
            " |-- fbi_code: string (nullable = true)\n",
            " |-- hour: integer (nullable = true)\n",
            " |-- week_day: integer (nullable = true)\n",
            " |-- year_month: integer (nullable = true)\n",
            " |-- month_day: integer (nullable = true)\n",
            " |-- date_number: integer (nullable = true)\n",
            "\n"
          ],
          "name": "stdout"
        }
      ]
    },
    {
      "cell_type": "code",
      "metadata": {
        "id": "i901QLfnnanl",
        "colab": {
          "base_uri": "https://localhost:8080/"
        },
        "outputId": "0f00b1fc-7353-4986-eb34-2a4ec34b7ad9"
      },
      "source": [
        "feature_level_count_dic = []\n",
        "\n",
        "for feature in selected_features:\n",
        "    print('Counting %s' % feature)\n",
        "    levels_list_df = features_df.select(feature).distinct()\n",
        "    feature_level_count_dic.append({'feature': feature, 'level_count': levels_list_df.count()})"
      ],
      "execution_count": null,
      "outputs": [
        {
          "output_type": "stream",
          "text": [
            "Counting location_description\n",
            "Counting arrest\n",
            "Counting domestic\n",
            "Counting beat\n",
            "Counting district\n",
            "Counting ward\n",
            "Counting community_area\n",
            "Counting fbi_code\n",
            "Counting hour\n",
            "Counting week_day\n",
            "Counting year_month\n",
            "Counting month_day\n",
            "Counting date_number\n"
          ],
          "name": "stdout"
        }
      ]
    },
    {
      "cell_type": "code",
      "metadata": {
        "id": "x1KWO4MOndUK",
        "colab": {
          "base_uri": "https://localhost:8080/",
          "height": 432
        },
        "outputId": "86f1f483-9563-42ab-f34f-5c1a1dd64672"
      },
      "source": [
        "pd.DataFrame(feature_level_count_dic).sort_values(by='level_count', ascending=False)"
      ],
      "execution_count": null,
      "outputs": [
        {
          "output_type": "execute_result",
          "data": {
            "text/html": [
              "<div>\n",
              "<style scoped>\n",
              "    .dataframe tbody tr th:only-of-type {\n",
              "        vertical-align: middle;\n",
              "    }\n",
              "\n",
              "    .dataframe tbody tr th {\n",
              "        vertical-align: top;\n",
              "    }\n",
              "\n",
              "    .dataframe thead th {\n",
              "        text-align: right;\n",
              "    }\n",
              "</style>\n",
              "<table border=\"1\" class=\"dataframe\">\n",
              "  <thead>\n",
              "    <tr style=\"text-align: right;\">\n",
              "      <th></th>\n",
              "      <th>feature</th>\n",
              "      <th>level_count</th>\n",
              "    </tr>\n",
              "  </thead>\n",
              "  <tbody>\n",
              "    <tr>\n",
              "      <th>12</th>\n",
              "      <td>date_number</td>\n",
              "      <td>5862</td>\n",
              "    </tr>\n",
              "    <tr>\n",
              "      <th>3</th>\n",
              "      <td>beat</td>\n",
              "      <td>304</td>\n",
              "    </tr>\n",
              "    <tr>\n",
              "      <th>0</th>\n",
              "      <td>location_description</td>\n",
              "      <td>173</td>\n",
              "    </tr>\n",
              "    <tr>\n",
              "      <th>6</th>\n",
              "      <td>community_area</td>\n",
              "      <td>79</td>\n",
              "    </tr>\n",
              "    <tr>\n",
              "      <th>5</th>\n",
              "      <td>ward</td>\n",
              "      <td>51</td>\n",
              "    </tr>\n",
              "    <tr>\n",
              "      <th>11</th>\n",
              "      <td>month_day</td>\n",
              "      <td>31</td>\n",
              "    </tr>\n",
              "    <tr>\n",
              "      <th>4</th>\n",
              "      <td>district</td>\n",
              "      <td>27</td>\n",
              "    </tr>\n",
              "    <tr>\n",
              "      <th>7</th>\n",
              "      <td>fbi_code</td>\n",
              "      <td>26</td>\n",
              "    </tr>\n",
              "    <tr>\n",
              "      <th>8</th>\n",
              "      <td>hour</td>\n",
              "      <td>24</td>\n",
              "    </tr>\n",
              "    <tr>\n",
              "      <th>10</th>\n",
              "      <td>year_month</td>\n",
              "      <td>12</td>\n",
              "    </tr>\n",
              "    <tr>\n",
              "      <th>9</th>\n",
              "      <td>week_day</td>\n",
              "      <td>7</td>\n",
              "    </tr>\n",
              "    <tr>\n",
              "      <th>1</th>\n",
              "      <td>arrest</td>\n",
              "      <td>2</td>\n",
              "    </tr>\n",
              "    <tr>\n",
              "      <th>2</th>\n",
              "      <td>domestic</td>\n",
              "      <td>2</td>\n",
              "    </tr>\n",
              "  </tbody>\n",
              "</table>\n",
              "</div>"
            ],
            "text/plain": [
              "                 feature  level_count\n",
              "12           date_number         5862\n",
              "3                   beat          304\n",
              "0   location_description          173\n",
              "6         community_area           79\n",
              "5                   ward           51\n",
              "11             month_day           31\n",
              "4               district           27\n",
              "7               fbi_code           26\n",
              "8                   hour           24\n",
              "10            year_month           12\n",
              "9               week_day            7\n",
              "1                 arrest            2\n",
              "2               domestic            2"
            ]
          },
          "metadata": {
            "tags": []
          },
          "execution_count": 88
        }
      ]
    },
    {
      "cell_type": "code",
      "metadata": {
        "id": "43dcTXH5nkqj"
      },
      "source": [
        "from pyspark.ml.feature import StringIndexer, VectorAssembler\n",
        "df_dates_features = df_dates.na.drop(subset=selected_features)"
      ],
      "execution_count": null,
      "outputs": []
    },
    {
      "cell_type": "code",
      "metadata": {
        "id": "EBe-1Gm12XKI",
        "colab": {
          "base_uri": "https://localhost:8080/"
        },
        "outputId": "689e8672-d16a-4c34-c712-a324cef65400"
      },
      "source": [
        "df_dates_features.show(3)"
      ],
      "execution_count": null,
      "outputs": [
        {
          "output_type": "stream",
          "text": [
            "+----+-------+-----------+--------------------+-------------------+----+--------------------+--------------------+--------------------+------+--------+----+--------+----+--------------+--------+------------+------------+----+--------------------+------------+-------------+--------------------+-------------------+----------+----+--------+----------+---------+-----------+----------------------------+--------------+----------------+------------+----------------+------------+----------------------+----------------+------------+----------------+------------------+-----------------+-------------------+--------------------+\n",
            "| _c0|     id|case_number|                date|              block|iucr|        primary_type|         description|location_description|arrest|domestic|beat|district|ward|community_area|fbi_code|x_coordinate|y_coordinate|year|          updated_on|    latitude|    longitude|            location|          date_time|     month|hour|week_day|year_month|month_day|date_number|location_description_indexed|arrest_indexed|domestic_indexed|beat_indexed|district_indexed|ward_indexed|community_area_indexed|fbi_code_indexed|hour_indexed|week_day_indexed|year_month_indexed|month_day_indexed|date_number_indexed|primary_type_indexed|\n",
            "+----+-------+-----------+--------------------+-------------------+----+--------------------+--------------------+--------------------+------+--------+----+--------+----+--------------+--------+------------+------------+----+--------------------+------------+-------------+--------------------+-------------------+----------+----+--------+----------+---------+-----------+----------------------------+--------------+----------------+------------+----------------+------------+----------------------+----------------+------------+----------------+------------------+-----------------+-------------------+--------------------+\n",
            "| 879|4786321|   HM399414|01/01/2004 12:01:...|  082XX S COLES AVE|0840|               THEFT|FINANCIAL ID THEF...|           RESIDENCE| False|   False| 424|     4.0| 7.0|          46.0|      06|        null|        null|2004|08/17/2015 03:03:...|        null|         null|                null|2004-01-01 00:01:00|2004-01-01|   0|       5|         1|        1|       1095|                         1.0|           0.0|             0.0|        45.0|             5.0|        15.0|                  19.0|             0.0|         0.0|             3.0|               9.0|              0.0|             1134.0|                 0.0|\n",
            "|2544|4676906|   HM278933|03/01/2003 12:00:...|    004XX W 42ND PL|2825|       OTHER OFFENSE|HARASSMENT BY TEL...|           RESIDENCE| False|    True| 935|     9.0|11.0|          61.0|      26|   1173974.0|   1876757.0|2003|04/15/2016 08:55:...|41.817229156|-87.637328162|(41.817229156, -8...|2003-03-01 00:00:00|2003-01-01|   0|       7|         3|        1|        789|                         1.0|           0.0|             1.0|       128.0|             7.0|        29.0|                  15.0|             4.0|         0.0|             4.0|               8.0|              0.0|             1590.0|                 4.0|\n",
            "|2919|4789749|   HM402220|06/20/2004 11:00:...|025XX N KIMBALL AVE|1752|OFFENSE INVOLVING...|AGG CRIM SEX ABUS...|           RESIDENCE| False|   False|1413|    14.0|35.0|          22.0|      20|        null|        null|2004|08/17/2015 03:03:...|        null|         null|                null|2004-06-20 11:00:00|2004-01-01|  11|       1|         6|       20|       1266|                         1.0|           0.0|             0.0|       207.0|            15.0|        32.0|                  14.0|            18.0|        13.0|             6.0|               3.0|              2.0|             2336.0|                14.0|\n",
            "+----+-------+-----------+--------------------+-------------------+----+--------------------+--------------------+--------------------+------+--------+----+--------+----+--------------+--------+------------+------------+----+--------------------+------------+-------------+--------------------+-------------------+----------+----+--------+----------+---------+-----------+----------------------------+--------------+----------------+------------+----------------+------------+----------------------+----------------+------------+----------------+------------------+-----------------+-------------------+--------------------+\n",
            "only showing top 3 rows\n",
            "\n"
          ],
          "name": "stdout"
        }
      ]
    },
    {
      "cell_type": "code",
      "metadata": {
        "id": "JKXwDqkXnreo",
        "colab": {
          "base_uri": "https://localhost:8080/"
        },
        "outputId": "b3fdb992-a1ef-4b5a-ca10-1e1e8e38bf2b"
      },
      "source": [
        "for feature in feature_level_count_dic:\n",
        "    indexer = StringIndexer(inputCol=feature['feature'], outputCol='%s_indexed' % feature['feature'])\n",
        "    print('Fitting feature \"%s\"' % feature['feature'])\n",
        "    model = indexer.fit(df_dates_features)\n",
        "    print('Transforming \"%s\"' % feature['feature'])\n",
        "    df_dates_features = model.transform(df_dates_features)"
      ],
      "execution_count": null,
      "outputs": [
        {
          "output_type": "stream",
          "text": [
            "Fitting feature \"location_description\"\n",
            "Transforming \"location_description\"\n",
            "Fitting feature \"arrest\"\n",
            "Transforming \"arrest\"\n",
            "Fitting feature \"domestic\"\n",
            "Transforming \"domestic\"\n",
            "Fitting feature \"beat\"\n",
            "Transforming \"beat\"\n",
            "Fitting feature \"district\"\n",
            "Transforming \"district\"\n",
            "Fitting feature \"ward\"\n",
            "Transforming \"ward\"\n",
            "Fitting feature \"community_area\"\n",
            "Transforming \"community_area\"\n",
            "Fitting feature \"fbi_code\"\n",
            "Transforming \"fbi_code\"\n",
            "Fitting feature \"hour\"\n",
            "Transforming \"hour\"\n",
            "Fitting feature \"week_day\"\n",
            "Transforming \"week_day\"\n",
            "Fitting feature \"year_month\"\n",
            "Transforming \"year_month\"\n",
            "Fitting feature \"month_day\"\n",
            "Transforming \"month_day\"\n",
            "Fitting feature \"date_number\"\n",
            "Transforming \"date_number\"\n"
          ],
          "name": "stdout"
        }
      ]
    },
    {
      "cell_type": "code",
      "metadata": {
        "id": "mhYXswAinuUQ"
      },
      "source": [
        "## String-indexing:\n",
        "response_indexer = StringIndexer(inputCol='primary_type', outputCol='primary_type_indexed')\n",
        "response_model = response_indexer.fit(df_dates_features)\n",
        "df_dates_features = response_model.transform(df_dates_features)"
      ],
      "execution_count": null,
      "outputs": []
    },
    {
      "cell_type": "code",
      "metadata": {
        "id": "gHwSAqhFnw3z",
        "colab": {
          "base_uri": "https://localhost:8080/"
        },
        "outputId": "be1c6d07-0ad5-477f-f88b-6bc9befe5513"
      },
      "source": [
        "\n",
        "df_dates_features.show(5)"
      ],
      "execution_count": null,
      "outputs": [
        {
          "output_type": "stream",
          "text": [
            "+----+-------+-----------+--------------------+-------------------+----+--------------------+--------------------+--------------------+------+--------+----+--------+----+--------------+--------+------------+------------+----+--------------------+------------+-------------+--------------------+-------------------+----------+----+--------+----------+---------+-----------+----------------------------+--------------+----------------+------------+----------------+------------+----------------------+----------------+------------+----------------+------------------+-----------------+-------------------+--------------------+\n",
            "| _c0|     id|case_number|                date|              block|iucr|        primary_type|         description|location_description|arrest|domestic|beat|district|ward|community_area|fbi_code|x_coordinate|y_coordinate|year|          updated_on|    latitude|    longitude|            location|          date_time|     month|hour|week_day|year_month|month_day|date_number|location_description_indexed|arrest_indexed|domestic_indexed|beat_indexed|district_indexed|ward_indexed|community_area_indexed|fbi_code_indexed|hour_indexed|week_day_indexed|year_month_indexed|month_day_indexed|date_number_indexed|primary_type_indexed|\n",
            "+----+-------+-----------+--------------------+-------------------+----+--------------------+--------------------+--------------------+------+--------+----+--------+----+--------------+--------+------------+------------+----+--------------------+------------+-------------+--------------------+-------------------+----------+----+--------+----------+---------+-----------+----------------------------+--------------+----------------+------------+----------------+------------+----------------------+----------------+------------+----------------+------------------+-----------------+-------------------+--------------------+\n",
            "| 879|4786321|   HM399414|01/01/2004 12:01:...|  082XX S COLES AVE|0840|               THEFT|FINANCIAL ID THEF...|           RESIDENCE| False|   False| 424|     4.0| 7.0|          46.0|      06|        null|        null|2004|08/17/2015 03:03:...|        null|         null|                null|2004-01-01 00:01:00|2004-01-01|   0|       5|         1|        1|       1095|                         1.0|           0.0|             0.0|        45.0|             5.0|        15.0|                  19.0|             0.0|         0.0|             3.0|               9.0|              0.0|             1134.0|                 0.0|\n",
            "|2544|4676906|   HM278933|03/01/2003 12:00:...|    004XX W 42ND PL|2825|       OTHER OFFENSE|HARASSMENT BY TEL...|           RESIDENCE| False|    True| 935|     9.0|11.0|          61.0|      26|   1173974.0|   1876757.0|2003|04/15/2016 08:55:...|41.817229156|-87.637328162|(41.817229156, -8...|2003-03-01 00:00:00|2003-01-01|   0|       7|         3|        1|        789|                         1.0|           0.0|             1.0|       128.0|             7.0|        29.0|                  15.0|             4.0|         0.0|             4.0|               8.0|              0.0|             1590.0|                 4.0|\n",
            "|2919|4789749|   HM402220|06/20/2004 11:00:...|025XX N KIMBALL AVE|1752|OFFENSE INVOLVING...|AGG CRIM SEX ABUS...|           RESIDENCE| False|   False|1413|    14.0|35.0|          22.0|      20|        null|        null|2004|08/17/2015 03:03:...|        null|         null|                null|2004-06-20 11:00:00|2004-01-01|  11|       1|         6|       20|       1266|                         1.0|           0.0|             0.0|       207.0|            15.0|        32.0|                  14.0|            18.0|        13.0|             6.0|               3.0|              2.0|             2336.0|                14.0|\n",
            "|2927|4789765|   HM402058|12/30/2004 08:00:...| 045XX W MONTANA ST|0840|               THEFT|FINANCIAL ID THEF...|               OTHER| False|   False|2521|    25.0|31.0|          20.0|      06|        null|        null|2004|08/17/2015 03:03:...|        null|         null|                null|2004-12-30 20:00:00|2004-01-01|  20|       5|        12|       30|       1459|                         4.0|           0.0|             0.0|        66.0|             3.0|        26.0|                  50.0|             0.0|         1.0|             3.0|              10.0|             29.0|             2720.0|                 0.0|\n",
            "|3302|4677901|   HM275615|05/01/2003 01:00:...| 111XX S NORMAL AVE|0841|               THEFT|FINANCIAL ID THEF...|           RESIDENCE| False|   False|2233|    22.0|34.0|          49.0|      06|   1174948.0|   1831051.0|2003|04/15/2016 08:55:...|41.691784636|-87.635115968|(41.691784636, -8...|2003-05-01 01:00:00|2003-01-01|   1|       5|         5|        1|        850|                         1.0|           0.0|             0.0|        99.0|            17.0|        11.0|                  10.0|             0.0|        17.0|             3.0|               0.0|              0.0|             2026.0|                 0.0|\n",
            "+----+-------+-----------+--------------------+-------------------+----+--------------------+--------------------+--------------------+------+--------+----+--------+----+--------------+--------+------------+------------+----+--------------------+------------+-------------+--------------------+-------------------+----------+----+--------+----------+---------+-----------+----------------------------+--------------+----------------+------------+----------------+------------+----------------------+----------------+------------+----------------+------------------+-----------------+-------------------+--------------------+\n",
            "only showing top 5 rows\n",
            "\n"
          ],
          "name": "stdout"
        }
      ]
    },
    {
      "cell_type": "code",
      "metadata": {
        "id": "BbgriMP2oL1P",
        "colab": {
          "base_uri": "https://localhost:8080/"
        },
        "outputId": "af9c9fdd-2d8b-4266-cf80-ef67174f533f"
      },
      "source": [
        "indexed_features = ['%s_indexed' % fc['feature'] for fc in feature_level_count_dic]\n",
        "indexed_features"
      ],
      "execution_count": null,
      "outputs": [
        {
          "output_type": "execute_result",
          "data": {
            "text/plain": [
              "['location_description_indexed',\n",
              " 'arrest_indexed',\n",
              " 'domestic_indexed',\n",
              " 'beat_indexed',\n",
              " 'district_indexed',\n",
              " 'ward_indexed',\n",
              " 'community_area_indexed',\n",
              " 'fbi_code_indexed',\n",
              " 'hour_indexed',\n",
              " 'week_day_indexed',\n",
              " 'year_month_indexed',\n",
              " 'month_day_indexed',\n",
              " 'date_number_indexed']"
            ]
          },
          "metadata": {
            "tags": []
          },
          "execution_count": 94
        }
      ]
    },
    {
      "cell_type": "code",
      "metadata": {
        "id": "fgV91IZZoXUX"
      },
      "source": [
        "assembler = VectorAssembler(inputCols=indexed_features, outputCol='features')\n",
        "vectorized_df_dates = assembler.transform(df_dates_features)"
      ],
      "execution_count": null,
      "outputs": []
    },
    {
      "cell_type": "code",
      "metadata": {
        "id": "fxNth0FIoa1h",
        "colab": {
          "base_uri": "https://localhost:8080/"
        },
        "outputId": "7b5ea082-05f2-4765-c7c3-4db2d766a13e"
      },
      "source": [
        "vectorized_df_dates.select('features').take(1)"
      ],
      "execution_count": null,
      "outputs": [
        {
          "output_type": "execute_result",
          "data": {
            "text/plain": [
              "[Row(features=DenseVector([1.0, 0.0, 0.0, 45.0, 5.0, 15.0, 19.0, 0.0, 0.0, 3.0, 9.0, 0.0, 1134.0]))]"
            ]
          },
          "metadata": {
            "tags": []
          },
          "execution_count": 96
        }
      ]
    },
    {
      "cell_type": "code",
      "metadata": {
        "id": "Tt0wOl4eodAB"
      },
      "source": [
        "train, test = vectorized_df_dates.randomSplit([0.6, 0.4])"
      ],
      "execution_count": null,
      "outputs": []
    },
    {
      "cell_type": "code",
      "metadata": {
        "id": "vUcG0AP-ogMH"
      },
      "source": [
        "from pyspark.ml.classification import LogisticRegression"
      ],
      "execution_count": null,
      "outputs": []
    },
    {
      "cell_type": "markdown",
      "metadata": {
        "id": "brdrHPXX5z4m"
      },
      "source": [
        "## Predicting Type of Crime using 13 features"
      ]
    },
    {
      "cell_type": "markdown",
      "metadata": {
        "id": "LgLig2NW6g7-"
      },
      "source": [
        "### Modelling"
      ]
    },
    {
      "cell_type": "code",
      "metadata": {
        "id": "iWKnnDS-oiUJ"
      },
      "source": [
        "logisticRegression = LogisticRegression(labelCol='primary_type_indexed', featuresCol='features', maxIter=10, family='multinomial')"
      ],
      "execution_count": null,
      "outputs": []
    },
    {
      "cell_type": "code",
      "metadata": {
        "id": "7jv1dkyYokgj"
      },
      "source": [
        "fittedModel = logisticRegression.fit(train)"
      ],
      "execution_count": null,
      "outputs": []
    },
    {
      "cell_type": "markdown",
      "metadata": {
        "id": "GU4Lmsfc6lid"
      },
      "source": [
        "### Results"
      ]
    },
    {
      "cell_type": "code",
      "metadata": {
        "id": "z-B7OltOonwo"
      },
      "source": [
        "model_summary = fittedModel.summary"
      ],
      "execution_count": null,
      "outputs": []
    },
    {
      "cell_type": "code",
      "metadata": {
        "id": "7wvvDyY6qsR0",
        "colab": {
          "base_uri": "https://localhost:8080/"
        },
        "outputId": "d9851050-0e8f-4a30-95df-c5c333fc0d09"
      },
      "source": [
        "fittedModel.coefficientMatrix"
      ],
      "execution_count": null,
      "outputs": [
        {
          "output_type": "execute_result",
          "data": {
            "text/plain": [
              "DenseMatrix(34, 13, [0.0308, -1.8903, -2.4426, 0.003, 0.0558, 0.0051, 0.0003, -1.283, ..., 0.0, -0.0, -0.0, -0.0, -0.0, 0.0, 0.0, 0.0], 1)"
            ]
          },
          "metadata": {
            "tags": []
          },
          "execution_count": 103
        }
      ]
    },
    {
      "cell_type": "code",
      "metadata": {
        "id": "l5OOkw_erE3Q",
        "colab": {
          "base_uri": "https://localhost:8080/"
        },
        "outputId": "a750b59b-c33c-4600-c3ef-1ffe70a64d18"
      },
      "source": [
        "print(fittedModel.coefficientMatrix)"
      ],
      "execution_count": null,
      "outputs": [
        {
          "output_type": "stream",
          "text": [
            "DenseMatrix([[ 3.07513266e-02, -1.89034037e+00, -2.44256205e+00,\n",
            "               3.04881556e-03,  5.57587435e-02,  5.14809195e-03,\n",
            "               3.33503642e-04, -1.28297755e+00,  4.57833419e-02,\n",
            "               1.41857569e-01,  6.26019433e-02,  3.30767126e-02,\n",
            "               1.93808922e-04],\n",
            "             [ 1.74849744e-02, -2.98669655e-01,  2.80682968e+00,\n",
            "               2.17995687e-03,  2.83977350e-02,  1.75757331e-03,\n",
            "               3.24582543e-03, -4.09697031e-01,  3.18460542e-02,\n",
            "               1.12260613e-01,  1.24461915e-02,  1.97049501e-02,\n",
            "               2.08491665e-05],\n",
            "             [ 9.59517046e-04, -2.68206362e+00,  3.24930899e-01,\n",
            "               9.70126383e-04,  6.37730364e-03,  1.79417828e-02,\n",
            "               5.74978085e-03, -4.28126206e-01,  4.30014976e-02,\n",
            "               1.50000291e-01,  4.39254993e-02,  2.80902906e-02,\n",
            "               7.58193234e-05],\n",
            "             [-5.87472483e-02,  7.34627070e+00, -2.53928765e+00,\n",
            "              -3.51922893e-03, -4.66086620e-02, -3.36669621e-02,\n",
            "              -1.44052447e-02, -3.32853897e-01, -1.04985344e-01,\n",
            "              -1.20465947e-01, -3.01373842e-02, -2.23177751e-02,\n",
            "              -2.14769436e-04],\n",
            "             [-2.32953778e-02, -1.06996475e+00,  3.75481603e+00,\n",
            "               1.45275165e-05,  1.30864719e-02,  1.20782925e-02,\n",
            "               6.56417606e-03, -4.52169196e-02,  3.22955727e-03,\n",
            "               1.26487601e-02,  1.89624941e-02, -4.59913981e-03,\n",
            "              -6.44345066e-06],\n",
            "             [ 6.16174100e-04, -8.54664478e-01,  2.60072518e+00,\n",
            "              -9.07753936e-04, -1.51757013e-02, -3.46402142e-03,\n",
            "               2.22690561e-03,  2.74873682e-01, -1.60705325e-02,\n",
            "              -4.02906000e-02, -4.48220570e-02, -8.87666177e-03,\n",
            "              -3.93059924e-05],\n",
            "             [ 5.59622141e-03, -2.21277489e+00, -1.52411179e+00,\n",
            "              -2.29360308e-04, -1.26935272e-02,  2.02732459e-02,\n",
            "               5.27796913e-03,  5.40624197e-02,  5.97357142e-02,\n",
            "              -2.42614814e-02, -2.62819337e-04,  3.87018493e-03,\n",
            "              -5.52711418e-06],\n",
            "             [-5.56939381e-02, -1.62735821e+00, -1.27104678e+00,\n",
            "               5.58372066e-04, -1.13587299e-02,  1.12439185e-02,\n",
            "               5.21265986e-03,  1.39784421e-01,  1.15781385e-02,\n",
            "               1.14322210e-02,  1.32019177e-02,  1.32412136e-03,\n",
            "               2.29684340e-05],\n",
            "             [-4.16981128e-03, -1.43654845e+00, -8.89600100e-01,\n",
            "              -1.06168832e-03, -1.82323784e-02, -7.06639646e-03,\n",
            "              -4.69364606e-03,  2.64398410e-01,  9.31277950e-03,\n",
            "              -3.17096902e-03, -1.32587139e-02, -2.25710814e-03,\n",
            "              -1.15189709e-05],\n",
            "             [ 4.18267002e-02, -1.17956138e+00, -9.91757334e-01,\n",
            "               2.74174887e-04,  1.57003757e-02, -4.14327545e-03,\n",
            "              -3.52690563e-03,  3.46976295e-01, -4.84960060e-02,\n",
            "              -1.60557359e-01, -4.67697301e-02, -3.33269596e-02,\n",
            "               1.05824665e-05],\n",
            "             [ 5.21674749e-02,  1.94028640e+00, -4.84392722e-01,\n",
            "               3.91881027e-04,  2.08420933e-02, -1.54761036e-02,\n",
            "              -8.97223069e-04, -5.12101001e-02, -1.89563543e-02,\n",
            "              -4.20578838e-02, -8.41536841e-03, -8.89298187e-03,\n",
            "              -7.02037066e-05],\n",
            "             [-2.07514534e-02,  1.51845151e+00, -3.48158691e-01,\n",
            "              -6.76290876e-04, -2.61077300e-02, -1.07589091e-02,\n",
            "              -7.86462326e-03,  2.08659388e-01, -1.57569457e-04,\n",
            "              -7.13732832e-02, -5.55723199e-03, -5.21356339e-03,\n",
            "              -8.99172669e-05],\n",
            "             [-5.92182243e-03,  9.97220191e-01, -3.07857475e-01,\n",
            "              -1.56512357e-03, -2.04741573e-02, -7.44599126e-03,\n",
            "              -3.66599319e-03,  2.22294935e-01, -1.54523009e-02,\n",
            "              -2.49033932e-02, -1.38599247e-02, -4.66747730e-03,\n",
            "              -4.58898421e-06],\n",
            "             [-5.93290455e-04,  6.06294311e-01, -9.86183208e-02,\n",
            "              -8.44152638e-05, -4.47898964e-04,  2.98273907e-03,\n",
            "               6.35434861e-04,  1.52292181e-01, -9.61841939e-03,\n",
            "              -1.02890691e-02, -8.18050132e-03, -1.74523994e-03,\n",
            "              -4.11849509e-06],\n",
            "             [-4.59336975e-03, -1.38323075e-01,  1.36629009e+00,\n",
            "              -2.28890867e-04, -1.95805838e-03,  2.84797767e-03,\n",
            "               2.46985240e-03,  1.65304901e-01, -9.16536460e-03,\n",
            "               4.00837535e-03,  1.03662575e-02, -3.94550878e-03,\n",
            "               2.24680631e-05],\n",
            "             [ 1.02261110e-03, -1.20189602e-01,  1.02080502e-01,\n",
            "               4.65248811e-05,  2.08261385e-04,  4.56642854e-04,\n",
            "               5.88666924e-05,  1.35354315e-01,  7.70905358e-03,\n",
            "               1.75567629e-02,  2.86002748e-03, -7.15197529e-04,\n",
            "               2.12852837e-05],\n",
            "             [ 3.44173740e-03,  1.53252658e-02,  9.45083386e-03,\n",
            "               3.80552650e-04,  4.22734035e-03,  3.28266994e-03,\n",
            "               1.46686572e-03,  1.36749548e-01,  1.36196285e-03,\n",
            "               2.63800678e-03, -1.09950175e-03, -1.76908595e-03,\n",
            "               9.22499742e-07],\n",
            "             [-2.46173839e-04,  4.31033428e-01, -7.63927337e-02,\n",
            "              -3.07606255e-04, -1.55622890e-03, -2.96287128e-03,\n",
            "              -1.73265349e-03,  1.13164695e-01, -5.01567861e-03,\n",
            "               8.49684747e-03, -9.09014008e-03,  2.92503268e-03,\n",
            "              -1.18189288e-05],\n",
            "             [ 4.68039701e-03,  3.61138627e-01, -6.85755850e-02,\n",
            "               4.01836503e-04,  6.09308350e-03,  3.45807079e-03,\n",
            "               9.66692959e-04,  1.02743189e-01, -4.16869839e-03,\n",
            "              -1.39815366e-03,  1.49235261e-03,  1.07290376e-03,\n",
            "              -7.12173876e-06],\n",
            "             [-3.49338345e-04,  3.25792037e-01, -6.10669727e-02,\n",
            "              -4.71277241e-05,  3.88345348e-05, -2.92620783e-04,\n",
            "              -2.58977406e-04,  6.01146606e-02,  1.51860496e-03,\n",
            "               1.10063923e-02,  3.61832643e-03,  2.20813714e-03,\n",
            "               3.83830757e-05],\n",
            "             [ 2.34766603e-03, -5.61077528e-02, -1.34801762e-02,\n",
            "               5.42225346e-05, -2.65529246e-04,  1.28108083e-03,\n",
            "               7.12184874e-04,  8.30811971e-02,  7.93985569e-03,\n",
            "               9.60295786e-03,  2.24992324e-03,  1.69077136e-03,\n",
            "               6.94945019e-06],\n",
            "             [ 1.26422664e-02,  6.31026894e-02, -1.56142253e-03,\n",
            "              -3.29361783e-05, -9.17478429e-04, -3.27679258e-04,\n",
            "              -1.32046770e-04,  6.42513386e-02,  3.68138632e-03,\n",
            "               8.12671189e-03,  1.51126955e-03,  1.24563637e-03,\n",
            "               3.25032377e-05],\n",
            "             [-2.19628345e-04, -3.25516612e-02,  6.72121812e-02,\n",
            "               1.08283532e-04,  1.69782379e-03,  1.35839333e-03,\n",
            "               1.04096028e-03,  1.65215307e-02,  2.49996260e-03,\n",
            "               3.56278399e-03,  3.69661233e-03,  1.32996064e-03,\n",
            "               6.51375658e-06],\n",
            "             [ 6.36915223e-04, -1.10490648e-02,  1.69690896e-02,\n",
            "               1.18841792e-04,  1.55426160e-03,  6.42413458e-04,\n",
            "               5.82159463e-04,  6.90376588e-04,  1.25691100e-03,\n",
            "               2.29194209e-03,  2.14338324e-03,  8.80457195e-04,\n",
            "               2.88089958e-06],\n",
            "             [ 6.40489135e-05, -1.11606805e-02,  6.95685564e-02,\n",
            "               7.61281848e-05,  1.30502101e-03,  5.73183877e-04,\n",
            "               4.65000042e-04,  4.82429292e-03,  1.36040162e-03,\n",
            "               2.59320915e-03,  1.87882160e-03,  6.94893112e-04,\n",
            "               4.97687642e-06],\n",
            "             [ 4.67248687e-05,  9.76488731e-03,  1.15165357e-03,\n",
            "               1.92101841e-05,  2.00113487e-04,  1.42974943e-04,\n",
            "               1.03306468e-04,  2.74945569e-03,  8.74886438e-05,\n",
            "               3.32057909e-04,  3.15874112e-04,  6.04173345e-05,\n",
            "               1.50343250e-06],\n",
            "             [ 1.09142086e-04,  3.35997777e-03, -4.71534998e-04,\n",
            "               4.17114756e-06,  7.47052155e-05,  1.48607496e-05,\n",
            "               6.77232081e-06,  7.61122222e-04,  7.38368047e-05,\n",
            "               7.03936600e-05,  8.08020395e-06,  3.84361263e-05,\n",
            "               4.89296903e-07],\n",
            "             [ 1.96036983e-05,  2.35668786e-03, -5.89297988e-04,\n",
            "               4.35710847e-06,  1.46249688e-04,  6.19145456e-05,\n",
            "               1.47248098e-05, -3.74947896e-05,  9.99626077e-06,\n",
            "               9.74215431e-05,  1.08569369e-05,  4.78334493e-05,\n",
            "               1.35595349e-07],\n",
            "             [ 7.64414932e-05, -7.34934081e-04, -3.92386456e-04,\n",
            "               6.56892498e-06,  8.63509792e-05,  4.02919217e-05,\n",
            "               2.37290732e-05,  2.36203881e-05,  1.86318828e-05,\n",
            "               3.46872285e-05,  8.61339219e-05,  2.88206090e-05,\n",
            "               9.53760252e-07],\n",
            "             [ 8.12674188e-05,  1.95932578e-03, -4.09719463e-04,\n",
            "               1.34275822e-06, -4.52788878e-06,  1.76577302e-05,\n",
            "               1.47215007e-05,  3.77225910e-04,  5.49658349e-05,\n",
            "               9.87799577e-05,  6.28076228e-05,  4.15901341e-05,\n",
            "               8.77525358e-07],\n",
            "             [ 1.39229330e-05, -7.76910731e-05, -1.58096504e-04,\n",
            "               1.39497782e-06,  6.26977161e-06,  6.59102879e-06,\n",
            "               1.02256447e-05,  3.52872697e-06,  2.33792490e-05,\n",
            "               8.01999696e-06,  8.91835119e-06,  6.38194328e-06,\n",
            "               2.93268602e-07],\n",
            "             [-1.52669029e-06, -3.72747102e-05, -4.24242594e-06,\n",
            "               7.67771195e-07,  4.79146563e-06, -3.64654920e-06,\n",
            "              -2.99146271e-06,  1.49410465e-06,  6.44435281e-06,\n",
            "               2.04469410e-06, -1.48586164e-06,  2.15746369e-07,\n",
            "               2.12064882e-07],\n",
            "             [-1.15359614e-06, -1.94009976e-04,  3.88386426e-04,\n",
            "              -1.78785257e-06, -7.24264981e-06, -2.39963468e-06,\n",
            "              -1.73469626e-06,  6.29822711e-05, -3.16748497e-06,\n",
            "               5.07746695e-05,  4.85395258e-06, -1.16235026e-05,\n",
            "              -5.45197198e-08],\n",
            "             [-1.00093880e-06,  1.55178010e-05,  8.19879560e-05,\n",
            "               1.52824561e-07,  2.02072771e-06,  5.09127752e-07,\n",
            "              -2.77983996e-07, -2.00983273e-06, -5.28654830e-07,\n",
            "              -9.48470989e-06,  2.31375540e-06,  5.75485122e-07,\n",
            "               1.22049016e-08]])\n"
          ],
          "name": "stdout"
        }
      ]
    },
    {
      "cell_type": "code",
      "metadata": {
        "id": "TDQac-lWrHxc",
        "colab": {
          "base_uri": "https://localhost:8080/"
        },
        "outputId": "a410c9b7-5342-4e8f-8a0c-f1593506f02c"
      },
      "source": [
        "print('Coefficient matrix:\\nRow count = %s\\nCol count = %s' % (fittedModel.coefficientMatrix.numRows, fittedModel.coefficientMatrix.numCols))"
      ],
      "execution_count": null,
      "outputs": [
        {
          "output_type": "stream",
          "text": [
            "Coefficient matrix:\n",
            "Row count = 34\n",
            "Col count = 13\n"
          ],
          "name": "stdout"
        }
      ]
    },
    {
      "cell_type": "code",
      "metadata": {
        "id": "imRF6-0HrMQ7",
        "colab": {
          "base_uri": "https://localhost:8080/"
        },
        "outputId": "66dca7c2-50ce-4787-dcd9-86e7edee3ed9"
      },
      "source": [
        "print('Model:\\nNum Classes = %s\\nNum Features = %s' % (fittedModel.numClasses, fittedModel.numFeatures))"
      ],
      "execution_count": null,
      "outputs": [
        {
          "output_type": "stream",
          "text": [
            "Model:\n",
            "Num Classes = 34\n",
            "Num Features = 13\n"
          ],
          "name": "stdout"
        }
      ]
    },
    {
      "cell_type": "code",
      "metadata": {
        "id": "-zdAUbA6rQ-C",
        "colab": {
          "base_uri": "https://localhost:8080/"
        },
        "outputId": "4981e178-cf23-4fb0-95b8-dda3fbb76663"
      },
      "source": [
        "print('Training \"primary_type\" factor level count = %s' % train.select('primary_type_indexed').distinct().count())"
      ],
      "execution_count": null,
      "outputs": [
        {
          "output_type": "stream",
          "text": [
            "Training \"primary_type\" factor level count = 34\n"
          ],
          "name": "stdout"
        }
      ]
    },
    {
      "cell_type": "code",
      "metadata": {
        "id": "7PvfflrQrT3I",
        "colab": {
          "base_uri": "https://localhost:8080/"
        },
        "outputId": "4ce2f70a-6c6a-41fd-ef78-d09a47f9e16e"
      },
      "source": [
        "vectorized_df_dates.select('features').show(2, truncate=False)"
      ],
      "execution_count": null,
      "outputs": [
        {
          "output_type": "stream",
          "text": [
            "+------------------------------------------------------------+\n",
            "|features                                                    |\n",
            "+------------------------------------------------------------+\n",
            "|[1.0,0.0,0.0,45.0,5.0,15.0,19.0,0.0,0.0,3.0,9.0,0.0,1134.0] |\n",
            "|[1.0,0.0,1.0,128.0,7.0,29.0,15.0,4.0,0.0,4.0,8.0,0.0,1590.0]|\n",
            "+------------------------------------------------------------+\n",
            "only showing top 2 rows\n",
            "\n"
          ],
          "name": "stdout"
        }
      ]
    },
    {
      "cell_type": "code",
      "metadata": {
        "id": "XtVmgueYredB",
        "colab": {
          "base_uri": "https://localhost:8080/"
        },
        "outputId": "3df73685-9cd5-4de2-f647-d0c52ba6be4e"
      },
      "source": [
        " train.select('primary_type_indexed').distinct().count()"
      ],
      "execution_count": null,
      "outputs": [
        {
          "output_type": "execute_result",
          "data": {
            "text/plain": [
              "34"
            ]
          },
          "metadata": {
            "tags": []
          },
          "execution_count": 111
        }
      ]
    },
    {
      "cell_type": "code",
      "metadata": {
        "id": "XCPWoZtPrjXE",
        "colab": {
          "base_uri": "https://localhost:8080/"
        },
        "outputId": "8a7d4a66-d746-4e58-fd71-3717cfe3a916"
      },
      "source": [
        "fittedModel.interceptVector.values.size"
      ],
      "execution_count": null,
      "outputs": [
        {
          "output_type": "execute_result",
          "data": {
            "text/plain": [
              "34"
            ]
          },
          "metadata": {
            "tags": []
          },
          "execution_count": 113
        }
      ]
    },
    {
      "cell_type": "code",
      "metadata": {
        "id": "EHGJVOYXrllE",
        "colab": {
          "base_uri": "https://localhost:8080/"
        },
        "outputId": "5a5a16e0-2efd-4c76-809a-658da5f76a8b"
      },
      "source": [
        "print(model_summary.objectiveHistory)\n",
        "print()\n",
        "print('Objective history size ', len(model_summary.objectiveHistory))"
      ],
      "execution_count": null,
      "outputs": [
        {
          "output_type": "stream",
          "text": [
            "[2.407577564177401, 2.103235140638118, 1.992866899343106, 1.8563120896130045, 1.7857545338203962, 1.739461627806069, 1.6952568826518142, 1.644722322554021, 1.5970710714805967, 1.5755748998247139, 1.5584711054788614]\n",
            "\n",
            "Objective history size  11\n"
          ],
          "name": "stdout"
        }
      ]
    },
    {
      "cell_type": "code",
      "metadata": {
        "id": "14H4XdVxroho",
        "colab": {
          "base_uri": "https://localhost:8080/",
          "height": 313
        },
        "outputId": "1d19aacc-dbbe-4950-f7f4-e40c54dcaf2a"
      },
      "source": [
        "sns.barplot(y=model_summary.objectiveHistory, x=list(range(len(model_summary.objectiveHistory))))"
      ],
      "execution_count": null,
      "outputs": [
        {
          "output_type": "execute_result",
          "data": {
            "text/plain": [
              "<matplotlib.axes._subplots.AxesSubplot at 0x7f0d70bfdfd0>"
            ]
          },
          "metadata": {
            "tags": []
          },
          "execution_count": 115
        },
        {
          "output_type": "display_data",
          "data": {
            "image/png": "[encoded data removed]",
            "text/plain": [
              "<Figure size 4608x1152 with 1 Axes>"
            ]
          },
          "metadata": {
            "tags": []
          }
        }
      ]
    },
    {
      "cell_type": "markdown",
      "metadata": {
        "id": "nM5WV5RP60tq"
      },
      "source": [
        "### Rates of prediction"
      ]
    },
    {
      "cell_type": "code",
      "metadata": {
        "id": "Y3aqfNBcrsBA",
        "colab": {
          "base_uri": "https://localhost:8080/"
        },
        "outputId": "9929981b-536d-4775-d4a0-cdc1e6449b6e"
      },
      "source": [
        "label_stats = {float(i):{'index': float(i)} for i in range(34)}\n",
        "print(label_stats)"
      ],
      "execution_count": null,
      "outputs": [
        {
          "output_type": "stream",
          "text": [
            "{0.0: {'index': 0.0}, 1.0: {'index': 1.0}, 2.0: {'index': 2.0}, 3.0: {'index': 3.0}, 4.0: {'index': 4.0}, 5.0: {'index': 5.0}, 6.0: {'index': 6.0}, 7.0: {'index': 7.0}, 8.0: {'index': 8.0}, 9.0: {'index': 9.0}, 10.0: {'index': 10.0}, 11.0: {'index': 11.0}, 12.0: {'index': 12.0}, 13.0: {'index': 13.0}, 14.0: {'index': 14.0}, 15.0: {'index': 15.0}, 16.0: {'index': 16.0}, 17.0: {'index': 17.0}, 18.0: {'index': 18.0}, 19.0: {'index': 19.0}, 20.0: {'index': 20.0}, 21.0: {'index': 21.0}, 22.0: {'index': 22.0}, 23.0: {'index': 23.0}, 24.0: {'index': 24.0}, 25.0: {'index': 25.0}, 26.0: {'index': 26.0}, 27.0: {'index': 27.0}, 28.0: {'index': 28.0}, 29.0: {'index': 29.0}, 30.0: {'index': 30.0}, 31.0: {'index': 31.0}, 32.0: {'index': 32.0}, 33.0: {'index': 33.0}}\n"
          ],
          "name": "stdout"
        }
      ]
    },
    {
      "cell_type": "code",
      "metadata": {
        "id": "qR84vSDdrt3P",
        "colab": {
          "base_uri": "https://localhost:8080/"
        },
        "outputId": "1b8b83c4-56b3-42c2-bd53-7a75670ec3e2"
      },
      "source": [
        "print(\"False positive rate by label:\")\n",
        "for i, rate in enumerate(model_summary.falsePositiveRateByLabel):\n",
        "    label_stats[i]['false_positive_rate'] = rate\n",
        "    \n",
        "for i, rate in enumerate(model_summary.truePositiveRateByLabel):\n",
        "    label_stats[i]['true_positive_rate'] = rate\n",
        "    \n",
        "for i, rate in enumerate(model_summary.precisionByLabel):\n",
        "    label_stats[i]['precision_rate'] = rate\n",
        "    \n",
        "for i, rate in enumerate(model_summary.recallByLabel):\n",
        "    label_stats[i]['recall_rate'] = rate\n",
        "    \n",
        "for i, rate in enumerate(model_summary.fMeasureByLabel()):\n",
        "    label_stats[i]['f_measure'] = rate\n"
      ],
      "execution_count": null,
      "outputs": [
        {
          "output_type": "stream",
          "text": [
            "False positive rate by label:\n"
          ],
          "name": "stdout"
        }
      ]
    },
    {
      "cell_type": "code",
      "metadata": {
        "id": "HWzMwLVUry9q"
      },
      "source": [
        "train_rdd = train.select(['primary_type', 'primary_type_indexed']).distinct().orderBy('primary_type_indexed').rdd.map(lambda l: l.asDict()).collect()"
      ],
      "execution_count": null,
      "outputs": []
    },
    {
      "cell_type": "code",
      "metadata": {
        "id": "PJULcJmdr1GU",
        "colab": {
          "base_uri": "https://localhost:8080/"
        },
        "outputId": "6256d22b-3301-40d5-ab9f-77e6cc3eed0a"
      },
      "source": [
        "for l in train_rdd:\n",
        "    print(l)\n",
        "    label_stats[l['primary_type_indexed']]['primary_type'] = l['primary_type']"
      ],
      "execution_count": null,
      "outputs": [
        {
          "output_type": "stream",
          "text": [
            "{'primary_type': 'THEFT', 'primary_type_indexed': 0.0}\n",
            "{'primary_type': 'BATTERY', 'primary_type_indexed': 1.0}\n",
            "{'primary_type': 'CRIMINAL DAMAGE', 'primary_type_indexed': 2.0}\n",
            "{'primary_type': 'NARCOTICS', 'primary_type_indexed': 3.0}\n",
            "{'primary_type': 'OTHER OFFENSE', 'primary_type_indexed': 4.0}\n",
            "{'primary_type': 'ASSAULT', 'primary_type_indexed': 5.0}\n",
            "{'primary_type': 'BURGLARY', 'primary_type_indexed': 6.0}\n",
            "{'primary_type': 'MOTOR VEHICLE THEFT', 'primary_type_indexed': 7.0}\n",
            "{'primary_type': 'ROBBERY', 'primary_type_indexed': 8.0}\n",
            "{'primary_type': 'DECEPTIVE PRACTICE', 'primary_type_indexed': 9.0}\n",
            "{'primary_type': 'CRIMINAL TRESPASS', 'primary_type_indexed': 10.0}\n",
            "{'primary_type': 'PROSTITUTION', 'primary_type_indexed': 11.0}\n",
            "{'primary_type': 'WEAPONS VIOLATION', 'primary_type_indexed': 12.0}\n",
            "{'primary_type': 'PUBLIC PEACE VIOLATION', 'primary_type_indexed': 13.0}\n",
            "{'primary_type': 'OFFENSE INVOLVING CHILDREN', 'primary_type_indexed': 14.0}\n",
            "{'primary_type': 'CRIM SEXUAL ASSAULT', 'primary_type_indexed': 15.0}\n",
            "{'primary_type': 'SEX OFFENSE', 'primary_type_indexed': 16.0}\n",
            "{'primary_type': 'GAMBLING', 'primary_type_indexed': 17.0}\n",
            "{'primary_type': 'LIQUOR LAW VIOLATION', 'primary_type_indexed': 18.0}\n",
            "{'primary_type': 'INTERFERENCE WITH PUBLIC OFFICER', 'primary_type_indexed': 19.0}\n",
            "{'primary_type': 'ARSON', 'primary_type_indexed': 20.0}\n",
            "{'primary_type': 'HOMICIDE', 'primary_type_indexed': 21.0}\n",
            "{'primary_type': 'KIDNAPPING', 'primary_type_indexed': 22.0}\n",
            "{'primary_type': 'INTIMIDATION', 'primary_type_indexed': 23.0}\n",
            "{'primary_type': 'STALKING', 'primary_type_indexed': 24.0}\n",
            "{'primary_type': 'OBSCENITY', 'primary_type_indexed': 25.0}\n",
            "{'primary_type': 'PUBLIC INDECENCY', 'primary_type_indexed': 26.0}\n",
            "{'primary_type': 'OTHER NARCOTIC VIOLATION', 'primary_type_indexed': 27.0}\n",
            "{'primary_type': 'NON-CRIMINAL', 'primary_type_indexed': 28.0}\n",
            "{'primary_type': 'CONCEALED CARRY LICENSE VIOLATION', 'primary_type_indexed': 29.0}\n",
            "{'primary_type': 'NON - CRIMINAL', 'primary_type_indexed': 30.0}\n",
            "{'primary_type': 'HUMAN TRAFFICKING', 'primary_type_indexed': 31.0}\n",
            "{'primary_type': 'RITUALISM', 'primary_type_indexed': 32.0}\n",
            "{'primary_type': 'NON-CRIMINAL (SUBJECT SPECIFIED)', 'primary_type_indexed': 33.0}\n"
          ],
          "name": "stdout"
        }
      ]
    },
    {
      "cell_type": "code",
      "metadata": {
        "id": "5ZmfKSzlr2xI"
      },
      "source": [
        "rates_pddf = pd.DataFrame(list(label_stats.values()))"
      ],
      "execution_count": null,
      "outputs": []
    },
    {
      "cell_type": "code",
      "metadata": {
        "id": "Epqaa16nr5RS"
      },
      "source": [
        "rates_pddf = rates_pddf.sort_values(by='precision_rate', ascending=False)"
      ],
      "execution_count": null,
      "outputs": []
    },
    {
      "cell_type": "code",
      "metadata": {
        "id": "QDi7fdRIr8OT",
        "colab": {
          "base_uri": "https://localhost:8080/",
          "height": 1000
        },
        "outputId": "d9297eff-4cee-45bf-9dc9-f705fbc48f12"
      },
      "source": [
        "rates_pddf"
      ],
      "execution_count": null,
      "outputs": [
        {
          "output_type": "execute_result",
          "data": {
            "text/html": [
              "<div>\n",
              "<style scoped>\n",
              "    .dataframe tbody tr th:only-of-type {\n",
              "        vertical-align: middle;\n",
              "    }\n",
              "\n",
              "    .dataframe tbody tr th {\n",
              "        vertical-align: top;\n",
              "    }\n",
              "\n",
              "    .dataframe thead th {\n",
              "        text-align: right;\n",
              "    }\n",
              "</style>\n",
              "<table border=\"1\" class=\"dataframe\">\n",
              "  <thead>\n",
              "    <tr style=\"text-align: right;\">\n",
              "      <th></th>\n",
              "      <th>index</th>\n",
              "      <th>false_positive_rate</th>\n",
              "      <th>true_positive_rate</th>\n",
              "      <th>precision_rate</th>\n",
              "      <th>recall_rate</th>\n",
              "      <th>f_measure</th>\n",
              "      <th>primary_type</th>\n",
              "    </tr>\n",
              "  </thead>\n",
              "  <tbody>\n",
              "    <tr>\n",
              "      <th>0</th>\n",
              "      <td>0.0</td>\n",
              "      <td>0.117324</td>\n",
              "      <td>0.919743</td>\n",
              "      <td>0.671660</td>\n",
              "      <td>0.919743</td>\n",
              "      <td>0.776365</td>\n",
              "      <td>THEFT</td>\n",
              "    </tr>\n",
              "    <tr>\n",
              "      <th>3</th>\n",
              "      <td>3.0</td>\n",
              "      <td>0.071310</td>\n",
              "      <td>0.851295</td>\n",
              "      <td>0.600408</td>\n",
              "      <td>0.851295</td>\n",
              "      <td>0.704172</td>\n",
              "      <td>NARCOTICS</td>\n",
              "    </tr>\n",
              "    <tr>\n",
              "      <th>11</th>\n",
              "      <td>11.0</td>\n",
              "      <td>0.002435</td>\n",
              "      <td>0.281180</td>\n",
              "      <td>0.555867</td>\n",
              "      <td>0.281180</td>\n",
              "      <td>0.373453</td>\n",
              "      <td>PROSTITUTION</td>\n",
              "    </tr>\n",
              "    <tr>\n",
              "      <th>2</th>\n",
              "      <td>2.0</td>\n",
              "      <td>0.047416</td>\n",
              "      <td>0.448521</td>\n",
              "      <td>0.554962</td>\n",
              "      <td>0.448521</td>\n",
              "      <td>0.496096</td>\n",
              "      <td>CRIMINAL DAMAGE</td>\n",
              "    </tr>\n",
              "    <tr>\n",
              "      <th>1</th>\n",
              "      <td>1.0</td>\n",
              "      <td>0.104504</td>\n",
              "      <td>0.426613</td>\n",
              "      <td>0.473793</td>\n",
              "      <td>0.426613</td>\n",
              "      <td>0.448967</td>\n",
              "      <td>BATTERY</td>\n",
              "    </tr>\n",
              "    <tr>\n",
              "      <th>4</th>\n",
              "      <td>4.0</td>\n",
              "      <td>0.010551</td>\n",
              "      <td>0.144340</td>\n",
              "      <td>0.473477</td>\n",
              "      <td>0.144340</td>\n",
              "      <td>0.221236</td>\n",
              "      <td>OTHER OFFENSE</td>\n",
              "    </tr>\n",
              "    <tr>\n",
              "      <th>7</th>\n",
              "      <td>7.0</td>\n",
              "      <td>0.019814</td>\n",
              "      <td>0.262112</td>\n",
              "      <td>0.389261</td>\n",
              "      <td>0.262112</td>\n",
              "      <td>0.313277</td>\n",
              "      <td>MOTOR VEHICLE THEFT</td>\n",
              "    </tr>\n",
              "    <tr>\n",
              "      <th>6</th>\n",
              "      <td>6.0</td>\n",
              "      <td>0.074240</td>\n",
              "      <td>0.518316</td>\n",
              "      <td>0.308093</td>\n",
              "      <td>0.518316</td>\n",
              "      <td>0.386466</td>\n",
              "      <td>BURGLARY</td>\n",
              "    </tr>\n",
              "    <tr>\n",
              "      <th>9</th>\n",
              "      <td>9.0</td>\n",
              "      <td>0.030483</td>\n",
              "      <td>0.333889</td>\n",
              "      <td>0.289606</td>\n",
              "      <td>0.333889</td>\n",
              "      <td>0.310175</td>\n",
              "      <td>DECEPTIVE PRACTICE</td>\n",
              "    </tr>\n",
              "    <tr>\n",
              "      <th>10</th>\n",
              "      <td>10.0</td>\n",
              "      <td>0.010902</td>\n",
              "      <td>0.142607</td>\n",
              "      <td>0.280038</td>\n",
              "      <td>0.142607</td>\n",
              "      <td>0.188978</td>\n",
              "      <td>CRIMINAL TRESPASS</td>\n",
              "    </tr>\n",
              "    <tr>\n",
              "      <th>8</th>\n",
              "      <td>8.0</td>\n",
              "      <td>0.014236</td>\n",
              "      <td>0.099388</td>\n",
              "      <td>0.215731</td>\n",
              "      <td>0.099388</td>\n",
              "      <td>0.136083</td>\n",
              "      <td>ROBBERY</td>\n",
              "    </tr>\n",
              "    <tr>\n",
              "      <th>5</th>\n",
              "      <td>5.0</td>\n",
              "      <td>0.060444</td>\n",
              "      <td>0.246527</td>\n",
              "      <td>0.207259</td>\n",
              "      <td>0.246527</td>\n",
              "      <td>0.225194</td>\n",
              "      <td>ASSAULT</td>\n",
              "    </tr>\n",
              "    <tr>\n",
              "      <th>12</th>\n",
              "      <td>12.0</td>\n",
              "      <td>0.000030</td>\n",
              "      <td>0.000540</td>\n",
              "      <td>0.152318</td>\n",
              "      <td>0.000540</td>\n",
              "      <td>0.001077</td>\n",
              "      <td>WEAPONS VIOLATION</td>\n",
              "    </tr>\n",
              "    <tr>\n",
              "      <th>25</th>\n",
              "      <td>25.0</td>\n",
              "      <td>0.000000</td>\n",
              "      <td>0.000000</td>\n",
              "      <td>0.000000</td>\n",
              "      <td>0.000000</td>\n",
              "      <td>0.000000</td>\n",
              "      <td>OBSCENITY</td>\n",
              "    </tr>\n",
              "    <tr>\n",
              "      <th>26</th>\n",
              "      <td>26.0</td>\n",
              "      <td>0.000000</td>\n",
              "      <td>0.000000</td>\n",
              "      <td>0.000000</td>\n",
              "      <td>0.000000</td>\n",
              "      <td>0.000000</td>\n",
              "      <td>PUBLIC INDECENCY</td>\n",
              "    </tr>\n",
              "    <tr>\n",
              "      <th>27</th>\n",
              "      <td>27.0</td>\n",
              "      <td>0.000000</td>\n",
              "      <td>0.000000</td>\n",
              "      <td>0.000000</td>\n",
              "      <td>0.000000</td>\n",
              "      <td>0.000000</td>\n",
              "      <td>OTHER NARCOTIC VIOLATION</td>\n",
              "    </tr>\n",
              "    <tr>\n",
              "      <th>28</th>\n",
              "      <td>28.0</td>\n",
              "      <td>0.000000</td>\n",
              "      <td>0.000000</td>\n",
              "      <td>0.000000</td>\n",
              "      <td>0.000000</td>\n",
              "      <td>0.000000</td>\n",
              "      <td>NON-CRIMINAL</td>\n",
              "    </tr>\n",
              "    <tr>\n",
              "      <th>32</th>\n",
              "      <td>32.0</td>\n",
              "      <td>0.000000</td>\n",
              "      <td>0.000000</td>\n",
              "      <td>0.000000</td>\n",
              "      <td>0.000000</td>\n",
              "      <td>0.000000</td>\n",
              "      <td>RITUALISM</td>\n",
              "    </tr>\n",
              "    <tr>\n",
              "      <th>29</th>\n",
              "      <td>29.0</td>\n",
              "      <td>0.000000</td>\n",
              "      <td>0.000000</td>\n",
              "      <td>0.000000</td>\n",
              "      <td>0.000000</td>\n",
              "      <td>0.000000</td>\n",
              "      <td>CONCEALED CARRY LICENSE VIOLATION</td>\n",
              "    </tr>\n",
              "    <tr>\n",
              "      <th>30</th>\n",
              "      <td>30.0</td>\n",
              "      <td>0.000000</td>\n",
              "      <td>0.000000</td>\n",
              "      <td>0.000000</td>\n",
              "      <td>0.000000</td>\n",
              "      <td>0.000000</td>\n",
              "      <td>NON - CRIMINAL</td>\n",
              "    </tr>\n",
              "    <tr>\n",
              "      <th>31</th>\n",
              "      <td>31.0</td>\n",
              "      <td>0.000000</td>\n",
              "      <td>0.000000</td>\n",
              "      <td>0.000000</td>\n",
              "      <td>0.000000</td>\n",
              "      <td>0.000000</td>\n",
              "      <td>HUMAN TRAFFICKING</td>\n",
              "    </tr>\n",
              "    <tr>\n",
              "      <th>23</th>\n",
              "      <td>23.0</td>\n",
              "      <td>0.000000</td>\n",
              "      <td>0.000000</td>\n",
              "      <td>0.000000</td>\n",
              "      <td>0.000000</td>\n",
              "      <td>0.000000</td>\n",
              "      <td>INTIMIDATION</td>\n",
              "    </tr>\n",
              "    <tr>\n",
              "      <th>24</th>\n",
              "      <td>24.0</td>\n",
              "      <td>0.000000</td>\n",
              "      <td>0.000000</td>\n",
              "      <td>0.000000</td>\n",
              "      <td>0.000000</td>\n",
              "      <td>0.000000</td>\n",
              "      <td>STALKING</td>\n",
              "    </tr>\n",
              "    <tr>\n",
              "      <th>17</th>\n",
              "      <td>17.0</td>\n",
              "      <td>0.000000</td>\n",
              "      <td>0.000000</td>\n",
              "      <td>0.000000</td>\n",
              "      <td>0.000000</td>\n",
              "      <td>0.000000</td>\n",
              "      <td>GAMBLING</td>\n",
              "    </tr>\n",
              "    <tr>\n",
              "      <th>22</th>\n",
              "      <td>22.0</td>\n",
              "      <td>0.000000</td>\n",
              "      <td>0.000000</td>\n",
              "      <td>0.000000</td>\n",
              "      <td>0.000000</td>\n",
              "      <td>0.000000</td>\n",
              "      <td>KIDNAPPING</td>\n",
              "    </tr>\n",
              "    <tr>\n",
              "      <th>21</th>\n",
              "      <td>21.0</td>\n",
              "      <td>0.000000</td>\n",
              "      <td>0.000000</td>\n",
              "      <td>0.000000</td>\n",
              "      <td>0.000000</td>\n",
              "      <td>0.000000</td>\n",
              "      <td>HOMICIDE</td>\n",
              "    </tr>\n",
              "    <tr>\n",
              "      <th>20</th>\n",
              "      <td>20.0</td>\n",
              "      <td>0.000000</td>\n",
              "      <td>0.000000</td>\n",
              "      <td>0.000000</td>\n",
              "      <td>0.000000</td>\n",
              "      <td>0.000000</td>\n",
              "      <td>ARSON</td>\n",
              "    </tr>\n",
              "    <tr>\n",
              "      <th>19</th>\n",
              "      <td>19.0</td>\n",
              "      <td>0.000000</td>\n",
              "      <td>0.000000</td>\n",
              "      <td>0.000000</td>\n",
              "      <td>0.000000</td>\n",
              "      <td>0.000000</td>\n",
              "      <td>INTERFERENCE WITH PUBLIC OFFICER</td>\n",
              "    </tr>\n",
              "    <tr>\n",
              "      <th>18</th>\n",
              "      <td>18.0</td>\n",
              "      <td>0.000000</td>\n",
              "      <td>0.000000</td>\n",
              "      <td>0.000000</td>\n",
              "      <td>0.000000</td>\n",
              "      <td>0.000000</td>\n",
              "      <td>LIQUOR LAW VIOLATION</td>\n",
              "    </tr>\n",
              "    <tr>\n",
              "      <th>16</th>\n",
              "      <td>16.0</td>\n",
              "      <td>0.000000</td>\n",
              "      <td>0.000000</td>\n",
              "      <td>0.000000</td>\n",
              "      <td>0.000000</td>\n",
              "      <td>0.000000</td>\n",
              "      <td>SEX OFFENSE</td>\n",
              "    </tr>\n",
              "    <tr>\n",
              "      <th>15</th>\n",
              "      <td>15.0</td>\n",
              "      <td>0.000000</td>\n",
              "      <td>0.000000</td>\n",
              "      <td>0.000000</td>\n",
              "      <td>0.000000</td>\n",
              "      <td>0.000000</td>\n",
              "      <td>CRIM SEXUAL ASSAULT</td>\n",
              "    </tr>\n",
              "    <tr>\n",
              "      <th>14</th>\n",
              "      <td>14.0</td>\n",
              "      <td>0.000000</td>\n",
              "      <td>0.000000</td>\n",
              "      <td>0.000000</td>\n",
              "      <td>0.000000</td>\n",
              "      <td>0.000000</td>\n",
              "      <td>OFFENSE INVOLVING CHILDREN</td>\n",
              "    </tr>\n",
              "    <tr>\n",
              "      <th>13</th>\n",
              "      <td>13.0</td>\n",
              "      <td>0.000000</td>\n",
              "      <td>0.000000</td>\n",
              "      <td>0.000000</td>\n",
              "      <td>0.000000</td>\n",
              "      <td>0.000000</td>\n",
              "      <td>PUBLIC PEACE VIOLATION</td>\n",
              "    </tr>\n",
              "    <tr>\n",
              "      <th>33</th>\n",
              "      <td>33.0</td>\n",
              "      <td>0.000000</td>\n",
              "      <td>0.000000</td>\n",
              "      <td>0.000000</td>\n",
              "      <td>0.000000</td>\n",
              "      <td>0.000000</td>\n",
              "      <td>NON-CRIMINAL (SUBJECT SPECIFIED)</td>\n",
              "    </tr>\n",
              "  </tbody>\n",
              "</table>\n",
              "</div>"
            ],
            "text/plain": [
              "    index  false_positive_rate  ...  f_measure                       primary_type\n",
              "0     0.0             0.117324  ...   0.776365                              THEFT\n",
              "3     3.0             0.071310  ...   0.704172                          NARCOTICS\n",
              "11   11.0             0.002435  ...   0.373453                       PROSTITUTION\n",
              "2     2.0             0.047416  ...   0.496096                    CRIMINAL DAMAGE\n",
              "1     1.0             0.104504  ...   0.448967                            BATTERY\n",
              "4     4.0             0.010551  ...   0.221236                      OTHER OFFENSE\n",
              "7     7.0             0.019814  ...   0.313277                MOTOR VEHICLE THEFT\n",
              "6     6.0             0.074240  ...   0.386466                           BURGLARY\n",
              "9     9.0             0.030483  ...   0.310175                 DECEPTIVE PRACTICE\n",
              "10   10.0             0.010902  ...   0.188978                  CRIMINAL TRESPASS\n",
              "8     8.0             0.014236  ...   0.136083                            ROBBERY\n",
              "5     5.0             0.060444  ...   0.225194                            ASSAULT\n",
              "12   12.0             0.000030  ...   0.001077                  WEAPONS VIOLATION\n",
              "25   25.0             0.000000  ...   0.000000                          OBSCENITY\n",
              "26   26.0             0.000000  ...   0.000000                   PUBLIC INDECENCY\n",
              "27   27.0             0.000000  ...   0.000000           OTHER NARCOTIC VIOLATION\n",
              "28   28.0             0.000000  ...   0.000000                       NON-CRIMINAL\n",
              "32   32.0             0.000000  ...   0.000000                          RITUALISM\n",
              "29   29.0             0.000000  ...   0.000000  CONCEALED CARRY LICENSE VIOLATION\n",
              "30   30.0             0.000000  ...   0.000000                     NON - CRIMINAL\n",
              "31   31.0             0.000000  ...   0.000000                  HUMAN TRAFFICKING\n",
              "23   23.0             0.000000  ...   0.000000                       INTIMIDATION\n",
              "24   24.0             0.000000  ...   0.000000                           STALKING\n",
              "17   17.0             0.000000  ...   0.000000                           GAMBLING\n",
              "22   22.0             0.000000  ...   0.000000                         KIDNAPPING\n",
              "21   21.0             0.000000  ...   0.000000                           HOMICIDE\n",
              "20   20.0             0.000000  ...   0.000000                              ARSON\n",
              "19   19.0             0.000000  ...   0.000000   INTERFERENCE WITH PUBLIC OFFICER\n",
              "18   18.0             0.000000  ...   0.000000               LIQUOR LAW VIOLATION\n",
              "16   16.0             0.000000  ...   0.000000                        SEX OFFENSE\n",
              "15   15.0             0.000000  ...   0.000000                CRIM SEXUAL ASSAULT\n",
              "14   14.0             0.000000  ...   0.000000         OFFENSE INVOLVING CHILDREN\n",
              "13   13.0             0.000000  ...   0.000000             PUBLIC PEACE VIOLATION\n",
              "33   33.0             0.000000  ...   0.000000   NON-CRIMINAL (SUBJECT SPECIFIED)\n",
              "\n",
              "[34 rows x 7 columns]"
            ]
          },
          "metadata": {
            "tags": []
          },
          "execution_count": 122
        }
      ]
    },
    {
      "cell_type": "code",
      "metadata": {
        "id": "vwMyPxW8r-kf",
        "colab": {
          "base_uri": "https://localhost:8080/"
        },
        "outputId": "e59cdf3b-99ab-46cf-80c8-d4456f0258df"
      },
      "source": [
        "fittedModel"
      ],
      "execution_count": null,
      "outputs": [
        {
          "output_type": "execute_result",
          "data": {
            "text/plain": [
              "LogisticRegressionModel: uid=LogisticRegression_96e9ade9dcbe, numClasses=34, numFeatures=13"
            ]
          },
          "metadata": {
            "tags": []
          },
          "execution_count": 123
        }
      ]
    },
    {
      "cell_type": "code",
      "metadata": {
        "id": "sFmMRP6jJyQY"
      },
      "source": [
        "predictions = fittedModel.transform(test)"
      ],
      "execution_count": null,
      "outputs": []
    },
    {
      "cell_type": "code",
      "metadata": {
        "id": "GaRe3EpRLaAH",
        "colab": {
          "base_uri": "https://localhost:8080/"
        },
        "outputId": "2a8b14a8-7752-4809-d9ab-e9f75bc6d20e"
      },
      "source": [
        "predictions"
      ],
      "execution_count": null,
      "outputs": [
        {
          "output_type": "execute_result",
          "data": {
            "text/plain": [
              "DataFrame[_c0: bigint, id: bigint, case_number: string, date: string, block: string, iucr: string, primary_type: string, description: string, location_description: string, arrest: string, domestic: string, beat: string, district: string, ward: string, community_area: string, fbi_code: string, x_coordinate: string, y_coordinate: string, year: string, updated_on: string, latitude: string, longitude: string, location: string, date_time: timestamp, month: date, hour: int, week_day: int, year_month: int, month_day: int, date_number: int, location_description_indexed: double, arrest_indexed: double, domestic_indexed: double, beat_indexed: double, district_indexed: double, ward_indexed: double, community_area_indexed: double, fbi_code_indexed: double, hour_indexed: double, week_day_indexed: double, year_month_indexed: double, month_day_indexed: double, date_number_indexed: double, primary_type_indexed: double, features: vector, rawPrediction: vector, probability: vector, prediction: double]"
            ]
          },
          "metadata": {
            "tags": []
          },
          "execution_count": 125
        }
      ]
    },
    {
      "cell_type": "code",
      "metadata": {
        "id": "pvCueVpzLTFl",
        "colab": {
          "base_uri": "https://localhost:8080/"
        },
        "outputId": "aecc23d8-2a01-4ba6-cc48-d02852dcd666"
      },
      "source": [
        "from pyspark.ml.evaluation import BinaryClassificationEvaluator\n",
        "my_eval = BinaryClassificationEvaluator(rawPredictionCol='prediction',\n",
        "                                       labelCol='primary_type_indexed')\n",
        "predictions.select('primary_type_indexed','prediction')\n",
        "AUC = my_eval.evaluate(predictions)\n",
        "print(\"AUC score is : \",AUC)"
      ],
      "execution_count": null,
      "outputs": [
        {
          "output_type": "stream",
          "text": [
            "AUC score is :  0.9112025948386048\n"
          ],
          "name": "stdout"
        }
      ]
    },
    {
      "cell_type": "code",
      "metadata": {
        "id": "Yq5tVotpTPv3",
        "colab": {
          "base_uri": "https://localhost:8080/"
        },
        "outputId": "a4e05e5a-c495-4208-cc75-48b999266c68"
      },
      "source": [
        "# predictions_pddf = pd.DataFrame(predictions.select(['primary_type_indexed', 'prediction']).rdd.map(lambda l: l.asDict()).collect())\n",
        "predictions.select('primary_type_indexed','prediction').show(20)"
      ],
      "execution_count": null,
      "outputs": [
        {
          "output_type": "stream",
          "text": [
            "+--------------------+----------+\n",
            "|primary_type_indexed|prediction|\n",
            "+--------------------+----------+\n",
            "|                 4.0|       4.0|\n",
            "|                 0.0|       0.0|\n",
            "|                 0.0|       0.0|\n",
            "|                 0.0|       0.0|\n",
            "|                 4.0|       1.0|\n",
            "|                 0.0|       0.0|\n",
            "|                 0.0|       0.0|\n",
            "|                 0.0|       0.0|\n",
            "|                15.0|       9.0|\n",
            "|                14.0|       5.0|\n",
            "|                 0.0|       0.0|\n",
            "|                 9.0|       7.0|\n",
            "|                 4.0|       2.0|\n",
            "|                 0.0|       0.0|\n",
            "|                 0.0|       1.0|\n",
            "|                 0.0|       1.0|\n",
            "|                 0.0|       0.0|\n",
            "|                 0.0|       0.0|\n",
            "|                 0.0|       0.0|\n",
            "|                16.0|       9.0|\n",
            "+--------------------+----------+\n",
            "only showing top 20 rows\n",
            "\n"
          ],
          "name": "stdout"
        }
      ]
    },
    {
      "cell_type": "markdown",
      "metadata": {
        "id": "Wff6i_pJ9Qqu"
      },
      "source": [
        "## Modelling to predicting more features"
      ]
    },
    {
      "cell_type": "markdown",
      "metadata": {
        "id": "9UvhN59cA7QU"
      },
      "source": [
        "## Modelling for Crime Type, Date in month, Hour, Location description"
      ]
    },
    {
      "cell_type": "markdown",
      "metadata": {
        "id": "bLjFCULdBf5W"
      },
      "source": [
        "['location_description_indexed',\n",
        " 'arrest_indexed',\n",
        " 'domestic_indexed',\n",
        " 'beat_indexed',\n",
        " 'district_indexed',\n",
        " 'ward_indexed',\n",
        " 'community_area_indexed',\n",
        " 'fbi_code_indexed',\n",
        " 'hour_indexed',\n",
        " 'week_day_indexed',\n",
        " 'year_month_indexed',\n",
        " 'month_day_indexed',\n",
        " 'date_number_indexed']\n",
        " ['primary_type_indexed']"
      ]
    },
    {
      "cell_type": "code",
      "metadata": {
        "id": "HK3UAbp4obeb"
      },
      "source": [
        "new_indexed = [\n",
        " 'location_description_indexed',\n",
        " 'arrest_indexed',\n",
        " 'domestic_indexed',\n",
        " 'beat_indexed',\n",
        " 'ward_indexed',\n",
        " 'community_area_indexed',\n",
        " 'fbi_code_indexed',\n",
        " 'week_day_indexed',\n",
        " 'year_month_indexed',\n",
        " 'date_number_indexed']"
      ],
      "execution_count": null,
      "outputs": []
    },
    {
      "cell_type": "code",
      "metadata": {
        "id": "JiMO90gVClQY"
      },
      "source": [
        "new_output = [\n",
        " 'primary_type_indexed',\n",
        " 'district_indexed',\n",
        " 'month_day_indexed',\n",
        " 'hour_indexed']"
      ],
      "execution_count": null,
      "outputs": []
    },
    {
      "cell_type": "code",
      "metadata": {
        "id": "hPmJyNrzDNGE"
      },
      "source": [
        "from pyspark.ml.classification import LogisticRegression\n",
        "from pyspark.ml.evaluation import BinaryClassificationEvaluator"
      ],
      "execution_count": null,
      "outputs": []
    },
    {
      "cell_type": "markdown",
      "metadata": {
        "id": "ULYsbkQKFAVJ"
      },
      "source": [
        "### Modelling primary_type_model"
      ]
    },
    {
      "cell_type": "code",
      "metadata": {
        "id": "1TZO7TlJDjXs"
      },
      "source": [
        "assembler = VectorAssembler(inputCols=new_indexed, outputCol='features')\n",
        "new_vectorized_df = assembler.transform(df_dates_features)\n",
        "train_new, test_new = new_vectorized_df.randomSplit([0.6, 0.4])"
      ],
      "execution_count": null,
      "outputs": []
    },
    {
      "cell_type": "code",
      "metadata": {
        "id": "Y9Cur9ZzEPOe"
      },
      "source": [
        "logisticRegression_new = LogisticRegression(labelCol='primary_type_indexed', featuresCol='features', maxIter=10, family='multinomial')\n",
        "primary_type_model = logisticRegression_new.fit(train_new)"
      ],
      "execution_count": null,
      "outputs": []
    },
    {
      "cell_type": "code",
      "metadata": {
        "id": "rnDs4KWPqIBs",
        "colab": {
          "base_uri": "https://localhost:8080/"
        },
        "outputId": "958338cd-4b4d-43c6-a5d9-565bba09e740"
      },
      "source": [
        "test_new.show(5)"
      ],
      "execution_count": null,
      "outputs": [
        {
          "output_type": "stream",
          "text": [
            "+----+-------+-----------+--------------------+--------------------+----+-------------------+--------------------+--------------------+------+--------+----+--------+----+--------------+--------+------------+------------+----+--------------------+------------+-------------+--------------------+-------------------+----------+----+--------+----------+---------+-----------+----------------------------+--------------+----------------+------------+----------------+------------+----------------------+----------------+------------+----------------+------------------+-----------------+-------------------+--------------------+--------------------+\n",
            "| _c0|     id|case_number|                date|               block|iucr|       primary_type|         description|location_description|arrest|domestic|beat|district|ward|community_area|fbi_code|x_coordinate|y_coordinate|year|          updated_on|    latitude|    longitude|            location|          date_time|     month|hour|week_day|year_month|month_day|date_number|location_description_indexed|arrest_indexed|domestic_indexed|beat_indexed|district_indexed|ward_indexed|community_area_indexed|fbi_code_indexed|hour_indexed|week_day_indexed|year_month_indexed|month_day_indexed|date_number_indexed|primary_type_indexed|            features|\n",
            "+----+-------+-----------+--------------------+--------------------+----+-------------------+--------------------+--------------------+------+--------+----+--------+----+--------------+--------+------------+------------+----+--------------------+------------+-------------+--------------------+-------------------+----------+----+--------+----------+---------+-----------+----------------------------+--------------+----------------+------------+----------------+------------+----------------------+----------------+------------+----------------+------------------+-----------------+-------------------+--------------------+--------------------+\n",
            "|3302|4677901|   HM275615|05/01/2003 01:00:...|  111XX S NORMAL AVE|0841|              THEFT|FINANCIAL ID THEF...|           RESIDENCE| False|   False|2233|    22.0|34.0|          49.0|      06|   1174948.0|   1831051.0|2003|04/15/2016 08:55:...|41.691784636|-87.635115968|(41.691784636, -8...|2003-05-01 01:00:00|2003-01-01|   1|       5|         5|        1|        850|                         1.0|           0.0|             0.0|        99.0|            17.0|        11.0|                  10.0|             0.0|        17.0|             3.0|               0.0|              0.0|             2026.0|                 0.0|[1.0,0.0,0.0,99.0...|\n",
            "|3756|4791194|   HM403711|01/01/2001 11:00:...|114XX S ST LAWREN...|0266|CRIM SEXUAL ASSAULT|           PREDATORY|           RESIDENCE|  True|    True| 531|     5.0| 9.0|          50.0|      02|   1182247.0|   1829375.0|2001|08/29/2006 03:46:...|41.687020002| -87.60844523|(41.687020002, -8...|2001-01-01 11:00:00|2001-01-01|  11|       2|         1|        1|          0|                         1.0|           1.0|             1.0|       101.0|            10.0|        16.0|                  62.0|            16.0|        13.0|             5.0|               9.0|              0.0|             5313.0|                15.0|[1.0,1.0,1.0,101....|\n",
            "|4502|4679521|   HM216293|03/15/2003 12:00:...|  090XX S RACINE AVE|5007|      OTHER OFFENSE|OTHER WEAPONS VIO...|RESIDENCE PORCH/H...| False|   False|2222|    22.0|21.0|          73.0|      26|   1169911.0|   1844832.0|2003|04/15/2016 08:55:...|41.729712374|-87.653158513|(41.729712374, -8...|2003-03-15 00:00:00|2003-01-01|   0|       7|         3|       15|        803|                         9.0|           0.0|             0.0|        93.0|            17.0|         9.0|                  31.0|             4.0|         0.0|             4.0|               8.0|              1.0|             2095.0|                 4.0|[9.0,0.0,0.0,93.0...|\n",
            "|4564|4792195|   HM405396|09/16/2004 10:00:...|  003XX W HUBBARD ST|0890|              THEFT|       FROM BUILDING|           RESIDENCE| False|   False|1831|    18.0|42.0|           8.0|      06|        null|        null|2004|08/17/2015 03:03:...|        null|         null|                null|2004-09-16 10:00:00|2004-01-01|  10|       5|         9|       16|       1354|                         1.0|           0.0|             0.0|        50.0|            14.0|         3.0|                   2.0|             0.0|        15.0|             3.0|               5.0|              7.0|             1572.0|                 0.0|[1.0,0.0,0.0,50.0...|\n",
            "|7992|4684808|   HM286351|01/01/2003 12:00:...|  060XX S KEELER AVE|0840|              THEFT|FINANCIAL ID THEF...|           RESIDENCE| False|   False| 813|     8.0|13.0|          65.0|      06|   1149407.0|   1864157.0|2003|04/15/2016 08:55:...|41.783163561|-87.727772951|(41.783163561, -8...|2003-01-01 00:00:00|2003-01-01|   0|       4|         1|        1|        730|                         1.0|           0.0|             0.0|        35.0|             0.0|        35.0|                  45.0|             0.0|         0.0|             1.0|               9.0|              0.0|              812.0|                 0.0|[1.0,0.0,0.0,35.0...|\n",
            "+----+-------+-----------+--------------------+--------------------+----+-------------------+--------------------+--------------------+------+--------+----+--------+----+--------------+--------+------------+------------+----+--------------------+------------+-------------+--------------------+-------------------+----------+----+--------+----------+---------+-----------+----------------------------+--------------+----------------+------------+----------------+------------+----------------------+----------------+------------+----------------+------------------+-----------------+-------------------+--------------------+--------------------+\n",
            "only showing top 5 rows\n",
            "\n"
          ],
          "name": "stdout"
        }
      ]
    },
    {
      "cell_type": "code",
      "metadata": {
        "id": "1h1i8eieEgxs"
      },
      "source": [
        "primary_type_predictions = primary_type_model.transform(test_new)"
      ],
      "execution_count": null,
      "outputs": []
    },
    {
      "cell_type": "code",
      "metadata": {
        "id": "ojjLmZcVD_e0",
        "colab": {
          "base_uri": "https://localhost:8080/"
        },
        "outputId": "c436d397-6c42-4415-bbf8-ebd3208b9a16"
      },
      "source": [
        "my_eval_new = BinaryClassificationEvaluator(rawPredictionCol='prediction',\n",
        "                                       labelCol='primary_type_indexed')\n",
        "primary_type_predictions.select('primary_type_indexed','prediction')\n",
        "score = my_eval_new.evaluate(primary_type_predictions)\n",
        "print(\"Score is : \", score)"
      ],
      "execution_count": null,
      "outputs": [
        {
          "output_type": "stream",
          "text": [
            "Score is :  0.9240961582761906\n"
          ],
          "name": "stdout"
        }
      ]
    },
    {
      "cell_type": "markdown",
      "metadata": {
        "id": "DxgiAzxxFFSp"
      },
      "source": [
        "### Modelling month_day_model"
      ]
    },
    {
      "cell_type": "code",
      "metadata": {
        "id": "5OPtZfDTFJdc"
      },
      "source": [
        "assembler = VectorAssembler(inputCols=new_indexed, outputCol='features')\n",
        "date_vectorized_df = assembler.transform(df_dates_features)\n",
        "train_month_day, test_month_day = date_vectorized_df.randomSplit([0.6, 0.4])"
      ],
      "execution_count": null,
      "outputs": []
    },
    {
      "cell_type": "code",
      "metadata": {
        "id": "wLsDPwAqFWOA"
      },
      "source": [
        "logisticRegression_new = LogisticRegression(labelCol='month_day_indexed', featuresCol='features', maxIter=10, family='multinomial')\n",
        "month_day_model = logisticRegression_new.fit(train_month_day)"
      ],
      "execution_count": null,
      "outputs": []
    },
    {
      "cell_type": "code",
      "metadata": {
        "id": "f3iQOUGtFdWk"
      },
      "source": [
        "month_day_predictions = month_day_model.transform(test_month_day)"
      ],
      "execution_count": null,
      "outputs": []
    },
    {
      "cell_type": "code",
      "metadata": {
        "id": "IVhh7rYMFq5Y",
        "colab": {
          "base_uri": "https://localhost:8080/"
        },
        "outputId": "c26b0e2e-f8ce-4f0d-e030-918dcdba9fb9"
      },
      "source": [
        "month_day_eval = BinaryClassificationEvaluator(rawPredictionCol='prediction',\n",
        "                                       labelCol='month_day_indexed')\n",
        "month_day_predictions.select('month_day_indexed','prediction')\n",
        "score = month_day_eval.evaluate(month_day_predictions)\n",
        "print(\"Score is : \", score)"
      ],
      "execution_count": null,
      "outputs": [
        {
          "output_type": "stream",
          "text": [
            "Score is :  0.5656662019520675\n"
          ],
          "name": "stdout"
        }
      ]
    },
    {
      "cell_type": "markdown",
      "metadata": {
        "id": "1iz65Nh6F9uW"
      },
      "source": [
        "### Modelling hour_model"
      ]
    },
    {
      "cell_type": "code",
      "metadata": {
        "id": "wvI5dHUNGB6i"
      },
      "source": [
        "assembler = VectorAssembler(inputCols=new_indexed, outputCol='features')\n",
        "hour_vectorized_df = assembler.transform(df_dates_features)\n",
        "train_hour, test_hour = hour_vectorized_df.randomSplit([0.6, 0.4])"
      ],
      "execution_count": null,
      "outputs": []
    },
    {
      "cell_type": "code",
      "metadata": {
        "id": "Ke4RjOTkGSGR"
      },
      "source": [
        "logisticRegression_new = LogisticRegression(labelCol='hour_indexed', featuresCol='features', maxIter=10, family='multinomial')\n",
        "hour_model = logisticRegression_new.fit(train_hour)"
      ],
      "execution_count": null,
      "outputs": []
    },
    {
      "cell_type": "code",
      "metadata": {
        "id": "KyPfCWHEGc0F"
      },
      "source": [
        "hour_predictions = hour_model.transform(test_hour)"
      ],
      "execution_count": null,
      "outputs": []
    },
    {
      "cell_type": "code",
      "metadata": {
        "id": "AkQS8x5rGjjd",
        "colab": {
          "base_uri": "https://localhost:8080/"
        },
        "outputId": "5775cd64-7d95-4527-9f14-0ff6a0acba68"
      },
      "source": [
        "hour_eval = BinaryClassificationEvaluator(rawPredictionCol='prediction',\n",
        "                                       labelCol='hour_indexed')\n",
        "hour_predictions.select('hour_indexed','prediction')\n",
        "score = hour_eval.evaluate(hour_predictions)\n",
        "print(\"Score is : \", score)"
      ],
      "execution_count": null,
      "outputs": [
        {
          "output_type": "stream",
          "text": [
            "Score is :  0.5456513221117824\n"
          ],
          "name": "stdout"
        }
      ]
    },
    {
      "cell_type": "markdown",
      "metadata": {
        "id": "5UeTA8W7LiQK"
      },
      "source": [
        "### Modelling district_model"
      ]
    },
    {
      "cell_type": "code",
      "metadata": {
        "id": "P2mzxZTjLb4W"
      },
      "source": [
        ""
      ],
      "execution_count": null,
      "outputs": []
    },
    {
      "cell_type": "code",
      "metadata": {
        "id": "QOXCdZVaL5Ks"
      },
      "source": [
        "assembler = VectorAssembler(inputCols=new_indexed, outputCol='features')\n",
        "district_vectorized_df = assembler.transform(df_dates_features)\n",
        "train_district, test_district = district_vectorized_df.randomSplit([0.6, 0.4])"
      ],
      "execution_count": null,
      "outputs": []
    },
    {
      "cell_type": "code",
      "metadata": {
        "id": "qCikhPxQMCJR"
      },
      "source": [
        "logisticRegression_new = LogisticRegression(labelCol='district_indexed', featuresCol='features', maxIter=10, family='multinomial')\n",
        "district_model = logisticRegression_new.fit(train_district)"
      ],
      "execution_count": null,
      "outputs": []
    },
    {
      "cell_type": "code",
      "metadata": {
        "id": "5NwA7FkVMGWX"
      },
      "source": [
        "district_predictions = district_model.transform(test_district)"
      ],
      "execution_count": null,
      "outputs": []
    },
    {
      "cell_type": "code",
      "metadata": {
        "id": "_ij8iKWIMLfg",
        "colab": {
          "base_uri": "https://localhost:8080/"
        },
        "outputId": "5b23de8d-d612-48a9-94fe-68e8ae1af715"
      },
      "source": [
        "district_eval = BinaryClassificationEvaluator(rawPredictionCol='prediction',\n",
        "                                       labelCol='district_indexed')\n",
        "district_predictions.select('district_indexed','prediction')\n",
        "score = district_eval.evaluate(district_predictions)\n",
        "print(\"Score is : \", score)"
      ],
      "execution_count": null,
      "outputs": [
        {
          "output_type": "stream",
          "text": [
            "Score is :  0.7840659912098437\n"
          ],
          "name": "stdout"
        }
      ]
    },
    {
      "cell_type": "markdown",
      "metadata": {
        "id": "DaOqDhw_HCPQ"
      },
      "source": [
        "### Modelling loc_model"
      ]
    },
    {
      "cell_type": "code",
      "metadata": {
        "id": "UNvyef76Gkt5"
      },
      "source": [
        "# assembler = VectorAssembler(inputCols=new_indexed, outputCol='features')\n",
        "# loc_vectorized_df = assembler.transform(df_dates_features)\n",
        "# train_loc, test_loc = loc_vectorized_df.randomSplit([0.6, 0.4])"
      ],
      "execution_count": null,
      "outputs": []
    },
    {
      "cell_type": "code",
      "metadata": {
        "id": "pUB8riSGHTZT"
      },
      "source": [
        "# logisticRegression_new = LogisticRegression(labelCol='location_description_indexed', featuresCol='features', maxIter=10, family='multinomial')\n",
        "# loc_model = logisticRegression_new.fit(train_loc)"
      ],
      "execution_count": null,
      "outputs": []
    },
    {
      "cell_type": "code",
      "metadata": {
        "id": "b5Rio452HgMU"
      },
      "source": [
        "# loc_predictions = loc_model.transform(test_loc)"
      ],
      "execution_count": null,
      "outputs": []
    },
    {
      "cell_type": "code",
      "metadata": {
        "id": "7ylNGxM3HmdZ"
      },
      "source": [
        "# loc_eval = BinaryClassificationEvaluator(rawPredictionCol='prediction',\n",
        "#                                        labelCol='location_description_indexed')\n",
        "# loc_predictions.select('location_description_indexed','prediction')\n",
        "# score = loc_eval.evaluate(loc_predictions)\n",
        "# print(\"Score is : \", score)"
      ],
      "execution_count": null,
      "outputs": []
    },
    {
      "cell_type": "markdown",
      "metadata": {
        "id": "woWxwSEoRfe5"
      },
      "source": [
        "### Custom inputs"
      ]
    },
    {
      "cell_type": "code",
      "metadata": {
        "id": "FeUSQ6IAxOuZ"
      },
      "source": [
        "all_indexed_cols = {\n",
        "    'primary_type_indexed',\n",
        "    'location_description_indexed',\n",
        "    'arrest_indexed',\n",
        "    'domestic_indexed',\n",
        "    'beat_indexed',\n",
        "    'district_indexed',\n",
        "    'ward_indexed',\n",
        "    'community_area_indexed',\n",
        "    'fbi_code_indexed',\n",
        "    'hour_indexed',\n",
        "    'week_day_indexed',\n",
        "    'year_month_indexed',\n",
        "    'month_day_indexed',\n",
        "    'date_number_indexed',\n",
        "}"
      ],
      "execution_count": null,
      "outputs": []
    },
    {
      "cell_type": "code",
      "metadata": {
        "id": "tYGebOzwWomb"
      },
      "source": [
        "indexed_data = {\n",
        "    'primary_type_indexed' : {},\n",
        "    'location_description_indexed' : {},\n",
        "    'arrest_indexed' : {},\n",
        "    'domestic_indexed' : {},\n",
        "    'beat_indexed' : {},\n",
        "    'district_indexed' : {},\n",
        "    'ward_indexed' : {},\n",
        "    'community_area_indexed' : {},\n",
        "    'fbi_code_indexed' : {},\n",
        "    'hour_indexed' : {},\n",
        "    'week_day_indexed' : {},\n",
        "    'year_month_indexed' : {},\n",
        "    'month_day_indexed' : {},\n",
        "    'date_number_indexed' : {},\n",
        "}"
      ],
      "execution_count": null,
      "outputs": []
    },
    {
      "cell_type": "code",
      "metadata": {
        "id": "i7H41egvYCuA"
      },
      "source": [
        "for feature in all_indexed_cols:\n",
        "    each_feature_indexed = df_dates_features.select([feature[:-8], feature])\\\n",
        "            .distinct().orderBy(feature)\\\n",
        "            .rdd.map(lambda l: l.asDict()).collect()\n",
        "    indexed_data[feature] = {}\n",
        "    for ele in each_feature_indexed:\n",
        "        indexed_data[feature][ele[feature]] = ele[feature[:-8]]\n",
        "    # indexed_data[feature][feature] = each_feature_indexed[feature[:-8]]\n",
        "    # indexer = StringIndexer(inputCol=feature['feature'], outputCol='%s_indexed' % feature['feature']).distinct().orderBy('primary_type_indexed').rdd.map(lambda l: l.asDict()).collect()"
      ],
      "execution_count": null,
      "outputs": []
    },
    {
      "cell_type": "code",
      "metadata": {
        "id": "qVH67z_BeaXB",
        "colab": {
          "base_uri": "https://localhost:8080/"
        },
        "outputId": "60aa0d5c-d5a6-44d4-9a2e-4e7a286dca4d"
      },
      "source": [
        "indexed_data['primary_type_indexed']"
      ],
      "execution_count": null,
      "outputs": [
        {
          "output_type": "execute_result",
          "data": {
            "text/plain": [
              "{0.0: 'THEFT',\n",
              " 1.0: 'BATTERY',\n",
              " 2.0: 'CRIMINAL DAMAGE',\n",
              " 3.0: 'NARCOTICS',\n",
              " 4.0: 'OTHER OFFENSE',\n",
              " 5.0: 'ASSAULT',\n",
              " 6.0: 'BURGLARY',\n",
              " 7.0: 'MOTOR VEHICLE THEFT',\n",
              " 8.0: 'ROBBERY',\n",
              " 9.0: 'DECEPTIVE PRACTICE',\n",
              " 10.0: 'CRIMINAL TRESPASS',\n",
              " 11.0: 'PROSTITUTION',\n",
              " 12.0: 'WEAPONS VIOLATION',\n",
              " 13.0: 'PUBLIC PEACE VIOLATION',\n",
              " 14.0: 'OFFENSE INVOLVING CHILDREN',\n",
              " 15.0: 'CRIM SEXUAL ASSAULT',\n",
              " 16.0: 'SEX OFFENSE',\n",
              " 17.0: 'GAMBLING',\n",
              " 18.0: 'LIQUOR LAW VIOLATION',\n",
              " 19.0: 'INTERFERENCE WITH PUBLIC OFFICER',\n",
              " 20.0: 'ARSON',\n",
              " 21.0: 'HOMICIDE',\n",
              " 22.0: 'KIDNAPPING',\n",
              " 23.0: 'INTIMIDATION',\n",
              " 24.0: 'STALKING',\n",
              " 25.0: 'OBSCENITY',\n",
              " 26.0: 'PUBLIC INDECENCY',\n",
              " 27.0: 'OTHER NARCOTIC VIOLATION',\n",
              " 28.0: 'NON-CRIMINAL',\n",
              " 29.0: 'CONCEALED CARRY LICENSE VIOLATION',\n",
              " 30.0: 'NON - CRIMINAL',\n",
              " 31.0: 'HUMAN TRAFFICKING',\n",
              " 32.0: 'RITUALISM',\n",
              " 33.0: 'NON-CRIMINAL (SUBJECT SPECIFIED)'}"
            ]
          },
          "metadata": {
            "tags": []
          },
          "execution_count": 155
        }
      ]
    },
    {
      "cell_type": "code",
      "metadata": {
        "id": "j0Ay0meibANA",
        "colab": {
          "base_uri": "https://localhost:8080/"
        },
        "outputId": "39da94d0-59a5-4630-93d2-1efb3e13cba4"
      },
      "source": [
        "indexed_data"
      ],
      "execution_count": null,
      "outputs": [
        {
          "output_type": "execute_result",
          "data": {
            "text/plain": [
              "{'arrest_indexed': {0.0: 'False', 1.0: 'True'},\n",
              " 'beat_indexed': {0.0: '423',\n",
              "  1.0: '421',\n",
              "  2.0: '624',\n",
              "  3.0: '1533',\n",
              "  4.0: '823',\n",
              "  5.0: '511',\n",
              "  6.0: '1112',\n",
              "  7.0: '1522',\n",
              "  8.0: '414',\n",
              "  9.0: '2533',\n",
              "  10.0: '612',\n",
              "  11.0: '621',\n",
              "  12.0: '825',\n",
              "  13.0: '321',\n",
              "  14.0: '522',\n",
              "  15.0: '1834',\n",
              "  16.0: '512',\n",
              "  17.0: '713',\n",
              "  18.0: '1532',\n",
              "  19.0: '831',\n",
              "  20.0: '1531',\n",
              "  21.0: '631',\n",
              "  22.0: '1011',\n",
              "  23.0: '832',\n",
              "  24.0: '1122',\n",
              "  25.0: '712',\n",
              "  26.0: '312',\n",
              "  27.0: '1121',\n",
              "  28.0: '324',\n",
              "  29.0: '632',\n",
              "  30.0: '833',\n",
              "  31.0: '1523',\n",
              "  32.0: '513',\n",
              "  33.0: '2534',\n",
              "  34.0: '122',\n",
              "  35.0: '813',\n",
              "  36.0: '523',\n",
              "  37.0: '725',\n",
              "  38.0: '611',\n",
              "  39.0: '623',\n",
              "  40.0: '1133',\n",
              "  41.0: '132',\n",
              "  42.0: '834',\n",
              "  43.0: '1132',\n",
              "  44.0: '824',\n",
              "  45.0: '424',\n",
              "  46.0: '835',\n",
              "  47.0: '323',\n",
              "  48.0: '2512',\n",
              "  49.0: '313',\n",
              "  50.0: '1831',\n",
              "  51.0: '815',\n",
              "  52.0: '412',\n",
              "  53.0: '1111',\n",
              "  54.0: '524',\n",
              "  55.0: '2535',\n",
              "  56.0: '711',\n",
              "  57.0: '912',\n",
              "  58.0: '2532',\n",
              "  59.0: '1524',\n",
              "  60.0: '1113',\n",
              "  61.0: '331',\n",
              "  62.0: '613',\n",
              "  63.0: '332',\n",
              "  64.0: '733',\n",
              "  65.0: '1723',\n",
              "  66.0: '2521',\n",
              "  67.0: '2413',\n",
              "  68.0: '431',\n",
              "  69.0: '723',\n",
              "  70.0: '735',\n",
              "  71.0: '2212',\n",
              "  72.0: '2234',\n",
              "  73.0: '1135',\n",
              "  74.0: '413',\n",
              "  75.0: '422',\n",
              "  76.0: '2515',\n",
              "  77.0: '1021',\n",
              "  78.0: '2422',\n",
              "  79.0: '1422',\n",
              "  80.0: '432',\n",
              "  81.0: '411',\n",
              "  82.0: '2223',\n",
              "  83.0: '322',\n",
              "  84.0: '1211',\n",
              "  85.0: '822',\n",
              "  86.0: '1424',\n",
              "  87.0: '914',\n",
              "  88.0: '1022',\n",
              "  89.0: '533',\n",
              "  90.0: '634',\n",
              "  91.0: '1833',\n",
              "  92.0: '2232',\n",
              "  93.0: '2222',\n",
              "  94.0: '1821',\n",
              "  95.0: '1123',\n",
              "  96.0: '1134',\n",
              "  97.0: '726',\n",
              "  98.0: '614',\n",
              "  99.0: '2233',\n",
              "  100.0: '934',\n",
              "  101.0: '531',\n",
              "  102.0: '1633',\n",
              "  103.0: '1712',\n",
              "  104.0: '1031',\n",
              "  105.0: '1124',\n",
              "  106.0: '1822',\n",
              "  107.0: '1434',\n",
              "  108.0: '1824',\n",
              "  109.0: '1511',\n",
              "  110.0: '1115',\n",
              "  111.0: '2531',\n",
              "  112.0: '1024',\n",
              "  113.0: '2514',\n",
              "  114.0: '1423',\n",
              "  115.0: '334',\n",
              "  116.0: '913',\n",
              "  117.0: '2522',\n",
              "  118.0: '1433',\n",
              "  119.0: '915',\n",
              "  120.0: '123',\n",
              "  121.0: '532',\n",
              "  122.0: '1923',\n",
              "  123.0: '1622',\n",
              "  124.0: '1014',\n",
              "  125.0: '2433',\n",
              "  126.0: '1731',\n",
              "  127.0: '1924',\n",
              "  128.0: '935',\n",
              "  129.0: '1512',\n",
              "  130.0: '2432',\n",
              "  131.0: '814',\n",
              "  132.0: '131',\n",
              "  133.0: '932',\n",
              "  134.0: '724',\n",
              "  135.0: '1013',\n",
              "  136.0: '1421',\n",
              "  137.0: '1823',\n",
              "  138.0: '1732',\n",
              "  139.0: '1034',\n",
              "  140.0: '111',\n",
              "  141.0: '2412',\n",
              "  142.0: '924',\n",
              "  143.0: '731',\n",
              "  144.0: '1432',\n",
              "  145.0: '1634',\n",
              "  146.0: '1012',\n",
              "  147.0: '911',\n",
              "  148.0: '714',\n",
              "  149.0: '734',\n",
              "  150.0: '233',\n",
              "  151.0: '1131',\n",
              "  152.0: '1623',\n",
              "  153.0: '732',\n",
              "  154.0: '1722',\n",
              "  155.0: '2221',\n",
              "  156.0: '333',\n",
              "  157.0: '1832',\n",
              "  158.0: '2411',\n",
              "  159.0: '1323',\n",
              "  160.0: '134',\n",
              "  161.0: '722',\n",
              "  162.0: '1933',\n",
              "  163.0: '2524',\n",
              "  164.0: '2523',\n",
              "  165.0: '811',\n",
              "  166.0: '922',\n",
              "  167.0: '821',\n",
              "  168.0: '1624',\n",
              "  169.0: '314',\n",
              "  170.0: '715',\n",
              "  171.0: '433',\n",
              "  172.0: '212',\n",
              "  173.0: '2011',\n",
              "  174.0: '1733',\n",
              "  175.0: '1212',\n",
              "  176.0: '2424',\n",
              "  177.0: '1913',\n",
              "  178.0: '211',\n",
              "  179.0: '1513',\n",
              "  180.0: '232',\n",
              "  181.0: '1231',\n",
              "  182.0: '923',\n",
              "  183.0: '1033',\n",
              "  184.0: '1223',\n",
              "  185.0: '1412',\n",
              "  186.0: '1224',\n",
              "  187.0: '931',\n",
              "  188.0: '633',\n",
              "  189.0: '1331',\n",
              "  190.0: '222',\n",
              "  191.0: '2211',\n",
              "  192.0: '622',\n",
              "  193.0: '2213',\n",
              "  194.0: '1651',\n",
              "  195.0: '1811',\n",
              "  196.0: '1724',\n",
              "  197.0: '112',\n",
              "  198.0: '1411',\n",
              "  199.0: '2525',\n",
              "  200.0: '933',\n",
              "  201.0: '2123',\n",
              "  202.0: '113',\n",
              "  203.0: '234',\n",
              "  204.0: '1932',\n",
              "  205.0: '1812',\n",
              "  206.0: '1114',\n",
              "  207.0: '1413',\n",
              "  208.0: '1222',\n",
              "  209.0: '2511',\n",
              "  210.0: '2132',\n",
              "  211.0: '2423',\n",
              "  212.0: '1023',\n",
              "  213.0: '812',\n",
              "  214.0: '1713',\n",
              "  215.0: '1213',\n",
              "  216.0: '1931',\n",
              "  217.0: '223',\n",
              "  218.0: '2113',\n",
              "  219.0: '2311',\n",
              "  220.0: '1632',\n",
              "  221.0: '311',\n",
              "  222.0: '1431',\n",
              "  223.0: '213',\n",
              "  224.0: '1414',\n",
              "  225.0: '1311',\n",
              "  226.0: '1711',\n",
              "  227.0: '124',\n",
              "  228.0: '1233',\n",
              "  229.0: '1814',\n",
              "  230.0: '1324',\n",
              "  231.0: '1313',\n",
              "  232.0: '1631',\n",
              "  233.0: '2431',\n",
              "  234.0: '1332',\n",
              "  235.0: '1032',\n",
              "  236.0: '224',\n",
              "  237.0: '1312',\n",
              "  238.0: '2024',\n",
              "  239.0: '1912',\n",
              "  240.0: '2124',\n",
              "  241.0: '2122',\n",
              "  242.0: '921',\n",
              "  243.0: '1922',\n",
              "  244.0: '2331',\n",
              "  245.0: '925',\n",
              "  246.0: '2013',\n",
              "  247.0: '214',\n",
              "  248.0: '133',\n",
              "  249.0: '2513',\n",
              "  250.0: '221',\n",
              "  251.0: '1614',\n",
              "  252.0: '434',\n",
              "  253.0: '1125',\n",
              "  254.0: '1911',\n",
              "  255.0: '2333',\n",
              "  256.0: '2023',\n",
              "  257.0: '2112',\n",
              "  258.0: '2324',\n",
              "  259.0: '1611',\n",
              "  260.0: '2031',\n",
              "  261.0: '2332',\n",
              "  262.0: '2012',\n",
              "  263.0: '1813',\n",
              "  264.0: '1322',\n",
              "  265.0: '2312',\n",
              "  266.0: '2313',\n",
              "  267.0: '2032',\n",
              "  268.0: '1613',\n",
              "  269.0: '2033',\n",
              "  270.0: '2131',\n",
              "  271.0: '1232',\n",
              "  272.0: '2022',\n",
              "  273.0: '231',\n",
              "  274.0: '1612',\n",
              "  275.0: '2323',\n",
              "  276.0: '1333',\n",
              "  277.0: '2322',\n",
              "  278.0: '2133',\n",
              "  279.0: '2111',\n",
              "  280.0: '1621',\n",
              "  281.0: '1914',\n",
              "  282.0: '1925',\n",
              "  283.0: '1935',\n",
              "  284.0: '1934',\n",
              "  285.0: '114',\n",
              "  286.0: '225',\n",
              "  287.0: '121',\n",
              "  288.0: '1234',\n",
              "  289.0: '1221',\n",
              "  290.0: '1214',\n",
              "  291.0: '1215',\n",
              "  292.0: '1225',\n",
              "  293.0: '1921',\n",
              "  294.0: '1915',\n",
              "  295.0: '1235',\n",
              "  296.0: '215',\n",
              "  297.0: '1654',\n",
              "  298.0: '1653',\n",
              "  299.0: '235',\n",
              "  300.0: '1652',\n",
              "  301.0: '1655',\n",
              "  302.0: '430'},\n",
              " 'community_area_indexed': {0.0: '25.0',\n",
              "  1.0: '43.0',\n",
              "  2.0: '8.0',\n",
              "  3.0: '23.0',\n",
              "  4.0: '67.0',\n",
              "  5.0: '24.0',\n",
              "  6.0: '71.0',\n",
              "  7.0: '28.0',\n",
              "  8.0: '29.0',\n",
              "  9.0: '68.0',\n",
              "  10.0: '49.0',\n",
              "  11.0: '66.0',\n",
              "  12.0: '69.0',\n",
              "  13.0: '32.0',\n",
              "  14.0: '22.0',\n",
              "  15.0: '61.0',\n",
              "  16.0: '44.0',\n",
              "  17.0: '6.0',\n",
              "  18.0: '27.0',\n",
              "  19.0: '46.0',\n",
              "  20.0: '19.0',\n",
              "  21.0: '26.0',\n",
              "  22.0: '30.0',\n",
              "  23.0: '42.0',\n",
              "  24.0: '53.0',\n",
              "  25.0: '7.0',\n",
              "  26.0: '1.0',\n",
              "  27.0: '3.0',\n",
              "  28.0: '38.0',\n",
              "  29.0: '15.0',\n",
              "  30.0: '2.0',\n",
              "  31.0: '73.0',\n",
              "  32.0: '16.0',\n",
              "  33.0: '35.0',\n",
              "  34.0: '40.0',\n",
              "  35.0: '58.0',\n",
              "  36.0: '77.0',\n",
              "  37.0: '31.0',\n",
              "  38.0: '21.0',\n",
              "  39.0: '63.0',\n",
              "  40.0: '70.0',\n",
              "  41.0: '14.0',\n",
              "  42.0: '56.0',\n",
              "  43.0: '75.0',\n",
              "  44.0: '33.0',\n",
              "  45.0: '65.0',\n",
              "  46.0: '4.0',\n",
              "  47.0: '60.0',\n",
              "  48.0: '51.0',\n",
              "  49.0: '17.0',\n",
              "  50.0: '20.0',\n",
              "  51.0: '5.0',\n",
              "  52.0: '41.0',\n",
              "  53.0: '39.0',\n",
              "  54.0: '76.0',\n",
              "  55.0: '48.0',\n",
              "  56.0: '45.0',\n",
              "  57.0: '52.0',\n",
              "  58.0: '10.0',\n",
              "  59.0: '59.0',\n",
              "  60.0: '54.0',\n",
              "  61.0: '64.0',\n",
              "  62.0: '50.0',\n",
              "  63.0: '11.0',\n",
              "  64.0: '62.0',\n",
              "  65.0: '57.0',\n",
              "  66.0: '34.0',\n",
              "  67.0: '72.0',\n",
              "  68.0: '37.0',\n",
              "  69.0: '13.0',\n",
              "  70.0: '18.0',\n",
              "  71.0: '74.0',\n",
              "  72.0: '36.0',\n",
              "  73.0: '55.0',\n",
              "  74.0: '12.0',\n",
              "  75.0: '47.0',\n",
              "  76.0: '9.0',\n",
              "  77.0: '0.0'},\n",
              " 'date_number_indexed': {0.0: 2922,\n",
              "  1.0: 2556,\n",
              "  2.0: 2191,\n",
              "  3.0: 2769,\n",
              "  4.0: 2007,\n",
              "  5.0: 2129,\n",
              "  6.0: 2861,\n",
              "  7.0: 2032,\n",
              "  8.0: 2024,\n",
              "  9.0: 2800,\n",
              "  10.0: 1977,\n",
              "  11.0: 2839,\n",
              "  12.0: 2038,\n",
              "  13.0: 2677,\n",
              "  14.0: 2860,\n",
              "  15.0: 2790,\n",
              "  16.0: 1946,\n",
              "  17.0: 2130,\n",
              "  18.0: 2069,\n",
              "  19.0: 2783,\n",
              "  20.0: 2708,\n",
              "  21.0: 2818,\n",
              "  22.0: 1950,\n",
              "  23.0: 2342,\n",
              "  24.0: 1975,\n",
              "  25.0: 2048,\n",
              "  26.0: 2031,\n",
              "  27.0: 2076,\n",
              "  28.0: 2083,\n",
              "  29.0: 2030,\n",
              "  30.0: 2718,\n",
              "  31.0: 2738,\n",
              "  32.0: 2776,\n",
              "  33.0: 2749,\n",
              "  34.0: 2118,\n",
              "  35.0: 1971,\n",
              "  36.0: 2661,\n",
              "  37.0: 2013,\n",
              "  38.0: 2174,\n",
              "  39.0: 2019,\n",
              "  40.0: 1992,\n",
              "  41.0: 2762,\n",
              "  42.0: 2027,\n",
              "  43.0: 2767,\n",
              "  44.0: 2300,\n",
              "  45.0: 2335,\n",
              "  46.0: 2788,\n",
              "  47.0: 2070,\n",
              "  48.0: 2763,\n",
              "  49.0: 1948,\n",
              "  50.0: 2041,\n",
              "  51.0: 1976,\n",
              "  52.0: 2011,\n",
              "  53.0: 2765,\n",
              "  54.0: 2042,\n",
              "  55.0: 2751,\n",
              "  56.0: 2033,\n",
              "  57.0: 2692,\n",
              "  58.0: 2755,\n",
              "  59.0: 2023,\n",
              "  60.0: 2339,\n",
              "  61.0: 2334,\n",
              "  62.0: 2713,\n",
              "  63.0: 2102,\n",
              "  64.0: 2021,\n",
              "  65.0: 2146,\n",
              "  66.0: 1979,\n",
              "  67.0: 1999,\n",
              "  68.0: 2028,\n",
              "  69.0: 2825,\n",
              "  70.0: 2016,\n",
              "  71.0: 2067,\n",
              "  72.0: 1972,\n",
              "  73.0: 2104,\n",
              "  74.0: 2094,\n",
              "  75.0: 1990,\n",
              "  76.0: 2774,\n",
              "  77.0: 2040,\n",
              "  78.0: 2045,\n",
              "  79.0: 2748,\n",
              "  80.0: 2844,\n",
              "  81.0: 1998,\n",
              "  82.0: 3042,\n",
              "  83.0: 2004,\n",
              "  84.0: 2787,\n",
              "  85.0: 1961,\n",
              "  86.0: 2328,\n",
              "  87.0: 1996,\n",
              "  88.0: 2775,\n",
              "  89.0: 2801,\n",
              "  90.0: 2035,\n",
              "  91.0: 2077,\n",
              "  92.0: 2314,\n",
              "  93.0: 2683,\n",
              "  94.0: 2063,\n",
              "  95.0: 2049,\n",
              "  96.0: 2764,\n",
              "  97.0: 2062,\n",
              "  98.0: 3134,\n",
              "  99.0: 1985,\n",
              "  100.0: 2025,\n",
              "  101.0: 2759,\n",
              "  102.0: 1983,\n",
              "  103.0: 2125,\n",
              "  104.0: 1955,\n",
              "  105.0: 2106,\n",
              "  106.0: 2020,\n",
              "  107.0: 2105,\n",
              "  108.0: 2830,\n",
              "  109.0: 2685,\n",
              "  110.0: 2817,\n",
              "  111.0: 2846,\n",
              "  112.0: 2333,\n",
              "  113.0: 1957,\n",
              "  114.0: 1936,\n",
              "  115.0: 2616,\n",
              "  116.0: 2084,\n",
              "  117.0: 2319,\n",
              "  118.0: 2089,\n",
              "  119.0: 2311,\n",
              "  120.0: 2819,\n",
              "  121.0: 1970,\n",
              "  122.0: 2733,\n",
              "  123.0: 1993,\n",
              "  124.0: 2173,\n",
              "  125.0: 2797,\n",
              "  126.0: 2816,\n",
              "  127.0: 2781,\n",
              "  128.0: 2015,\n",
              "  129.0: 2664,\n",
              "  130.0: 2760,\n",
              "  131.0: 2823,\n",
              "  132.0: 2706,\n",
              "  133.0: 2796,\n",
              "  134.0: 2805,\n",
              "  135.0: 2014,\n",
              "  136.0: 2734,\n",
              "  137.0: 2043,\n",
              "  138.0: 2340,\n",
              "  139.0: 2761,\n",
              "  140.0: 2720,\n",
              "  141.0: 2566,\n",
              "  142.0: 3103,\n",
              "  143.0: 2324,\n",
              "  144.0: 2171,\n",
              "  145.0: 2785,\n",
              "  146.0: 1997,\n",
              "  147.0: 2647,\n",
              "  148.0: 2111,\n",
              "  149.0: 2699,\n",
              "  150.0: 2746,\n",
              "  151.0: 2752,\n",
              "  152.0: 2768,\n",
              "  153.0: 2293,\n",
              "  154.0: 2727,\n",
              "  155.0: 1943,\n",
              "  156.0: 2058,\n",
              "  157.0: 2018,\n",
              "  158.0: 2308,\n",
              "  159.0: 2709,\n",
              "  160.0: 2668,\n",
              "  161.0: 2843,\n",
              "  162.0: 1978,\n",
              "  163.0: 2745,\n",
              "  164.0: 2770,\n",
              "  165.0: 3151,\n",
              "  166.0: 2789,\n",
              "  167.0: 2754,\n",
              "  168.0: 2786,\n",
              "  169.0: 1930,\n",
              "  170.0: 2044,\n",
              "  171.0: 3084,\n",
              "  172.0: 2009,\n",
              "  173.0: 2691,\n",
              "  174.0: 2822,\n",
              "  175.0: 2056,\n",
              "  176.0: 2135,\n",
              "  177.0: 2780,\n",
              "  178.0: 2090,\n",
              "  179.0: 2320,\n",
              "  180.0: 2117,\n",
              "  181.0: 2195,\n",
              "  182.0: 1934,\n",
              "  183.0: 2678,\n",
              "  184.0: 2034,\n",
              "  185.0: 2057,\n",
              "  186.0: 2671,\n",
              "  187.0: 2810,\n",
              "  188.0: 2060,\n",
              "  189.0: 2047,\n",
              "  190.0: 2099,\n",
              "  191.0: 2784,\n",
              "  192.0: 2097,\n",
              "  193.0: 2758,\n",
              "  194.0: 2804,\n",
              "  195.0: 1984,\n",
              "  196.0: 2667,\n",
              "  197.0: 1954,\n",
              "  198.0: 2735,\n",
              "  199.0: 3073,\n",
              "  200.0: 2244,\n",
              "  201.0: 1929,\n",
              "  202.0: 2711,\n",
              "  203.0: 2321,\n",
              "  204.0: 2327,\n",
              "  205.0: 2753,\n",
              "  206.0: 2006,\n",
              "  207.0: 2838,\n",
              "  208.0: 2791,\n",
              "  209.0: 2325,\n",
              "  210.0: 2757,\n",
              "  211.0: 2779,\n",
              "  212.0: 2717,\n",
              "  213.0: 1964,\n",
              "  214.0: 2798,\n",
              "  215.0: 2297,\n",
              "  216.0: 3175,\n",
              "  217.0: 2841,\n",
              "  218.0: 2052,\n",
              "  219.0: 2036,\n",
              "  220.0: 2061,\n",
              "  221.0: 1935,\n",
              "  222.0: 2008,\n",
              "  223.0: 2696,\n",
              "  224.0: 2157,\n",
              "  225.0: 2307,\n",
              "  226.0: 2792,\n",
              "  227.0: 2026,\n",
              "  228.0: 2073,\n",
              "  229.0: 2343,\n",
              "  230.0: 2716,\n",
              "  231.0: 1933,\n",
              "  232.0: 2809,\n",
              "  233.0: 2795,\n",
              "  234.0: 2055,\n",
              "  235.0: 2700,\n",
              "  236.0: 1963,\n",
              "  237.0: 2010,\n",
              "  238.0: 2303,\n",
              "  239.0: 1953,\n",
              "  240.0: 2262,\n",
              "  241.0: 2029,\n",
              "  242.0: 2119,\n",
              "  243.0: 2317,\n",
              "  244.0: 2103,\n",
              "  245.0: 2650,\n",
              "  246.0: 1942,\n",
              "  247.0: 2054,\n",
              "  248.0: 2643,\n",
              "  249.0: 2046,\n",
              "  250.0: 2705,\n",
              "  251.0: 2859,\n",
              "  252.0: 1968,\n",
              "  253.0: 2075,\n",
              "  254.0: 2662,\n",
              "  255.0: 1994,\n",
              "  256.0: 2172,\n",
              "  257.0: 1960,\n",
              "  258.0: 2782,\n",
              "  259.0: 3099,\n",
              "  260.0: 2002,\n",
              "  261.0: 2039,\n",
              "  262.0: 1991,\n",
              "  263.0: 2202,\n",
              "  264.0: 2773,\n",
              "  265.0: 2821,\n",
              "  266.0: 2712,\n",
              "  267.0: 2808,\n",
              "  268.0: 2986,\n",
              "  269.0: 2301,\n",
              "  270.0: 2840,\n",
              "  271.0: 3028,\n",
              "  272.0: 1926,\n",
              "  273.0: 2338,\n",
              "  274.0: 2681,\n",
              "  275.0: 1995,\n",
              "  276.0: 2128,\n",
              "  277.0: 2022,\n",
              "  278.0: 2138,\n",
              "  279.0: 2697,\n",
              "  280.0: 2302,\n",
              "  281.0: 2777,\n",
              "  282.0: 1969,\n",
              "  283.0: 3069,\n",
              "  284.0: 2332,\n",
              "  285.0: 2811,\n",
              "  286.0: 3147,\n",
              "  287.0: 2997,\n",
              "  288.0: 2669,\n",
              "  289.0: 2698,\n",
              "  290.0: 1989,\n",
              "  291.0: 2085,\n",
              "  292.0: 2112,\n",
              "  293.0: 2722,\n",
              "  294.0: 2865,\n",
              "  295.0: 3165,\n",
              "  296.0: 1981,\n",
              "  297.0: 1928,\n",
              "  298.0: 1937,\n",
              "  299.0: 2154,\n",
              "  300.0: 2265,\n",
              "  301.0: 2272,\n",
              "  302.0: 2719,\n",
              "  303.0: 2312,\n",
              "  304.0: 2261,\n",
              "  305.0: 1988,\n",
              "  306.0: 2318,\n",
              "  307.0: 2750,\n",
              "  308.0: 3012,\n",
              "  309.0: 2721,\n",
              "  310.0: 2824,\n",
              "  311.0: 2051,\n",
              "  312.0: 2132,\n",
              "  313.0: 2829,\n",
              "  314.0: 3144,\n",
              "  315.0: 1986,\n",
              "  316.0: 2742,\n",
              "  317.0: 2756,\n",
              "  318.0: 2766,\n",
              "  319.0: 2739,\n",
              "  320.0: 2313,\n",
              "  321.0: 2641,\n",
              "  322.0: 2329,\n",
              "  323.0: 2744,\n",
              "  324.0: 3145,\n",
              "  325.0: 2050,\n",
              "  326.0: 3287,\n",
              "  327.0: 3411,\n",
              "  328.0: 2747,\n",
              "  329.0: 1965,\n",
              "  330.0: 1973,\n",
              "  331.0: 3004,\n",
              "  332.0: 2068,\n",
              "  333.0: 2181,\n",
              "  334.0: 2108,\n",
              "  335.0: 2771,\n",
              "  336.0: 2001,\n",
              "  337.0: 2690,\n",
              "  338.0: 2686,\n",
              "  339.0: 2710,\n",
              "  340.0: 2837,\n",
              "  341.0: 3049,\n",
              "  342.0: 2088,\n",
              "  343.0: 2629,\n",
              "  344.0: 2349,\n",
              "  345.0: 2845,\n",
              "  346.0: 1982,\n",
              "  347.0: 1962,\n",
              "  348.0: 3112,\n",
              "  349.0: 3391,\n",
              "  350.0: 3438,\n",
              "  351.0: 1949,\n",
              "  352.0: 2737,\n",
              "  353.0: 2080,\n",
              "  354.0: 2064,\n",
              "  355.0: 3035,\n",
              "  356.0: 2874,\n",
              "  357.0: 2693,\n",
              "  358.0: 2179,\n",
              "  359.0: 2278,\n",
              "  360.0: 2875,\n",
              "  361.0: 2258,\n",
              "  362.0: 2294,\n",
              "  363.0: 1922,\n",
              "  364.0: 2136,\n",
              "  365.0: 2732,\n",
              "  366.0: 3377,\n",
              "  367.0: 2053,\n",
              "  368.0: 2065,\n",
              "  369.0: 2095,\n",
              "  370.0: 2113,\n",
              "  371.0: 2793,\n",
              "  372.0: 2799,\n",
              "  373.0: 2663,\n",
              "  374.0: 3124,\n",
              "  375.0: 2037,\n",
              "  376.0: 3061,\n",
              "  377.0: 2145,\n",
              "  378.0: 2695,\n",
              "  379.0: 3095,\n",
              "  380.0: 2331,\n",
              "  381.0: 2137,\n",
              "  382.0: 2122,\n",
              "  383.0: 2155,\n",
              "  384.0: 2074,\n",
              "  385.0: 2852,\n",
              "  386.0: 2150,\n",
              "  387.0: 2728,\n",
              "  388.0: 3096,\n",
              "  389.0: 2005,\n",
              "  390.0: 2279,\n",
              "  391.0: 3447,\n",
              "  392.0: 2066,\n",
              "  393.0: 2082,\n",
              "  394.0: 2271,\n",
              "  395.0: 2326,\n",
              "  396.0: 2310,\n",
              "  397.0: 2682,\n",
              "  398.0: 2703,\n",
              "  399.0: 2794,\n",
              "  400.0: 1939,\n",
              "  401.0: 3182,\n",
              "  402.0: 2059,\n",
              "  403.0: 3256,\n",
              "  404.0: 2012,\n",
              "  405.0: 2993,\n",
              "  406.0: 1974,\n",
              "  407.0: 2139,\n",
              "  408.0: 3053,\n",
              "  409.0: 2098,\n",
              "  410.0: 2826,\n",
              "  411.0: 3098,\n",
              "  412.0: 3119,\n",
              "  413.0: 2820,\n",
              "  414.0: 3468,\n",
              "  415.0: 2275,\n",
              "  416.0: 2714,\n",
              "  417.0: 2640,\n",
              "  418.0: 2814,\n",
              "  419.0: 3152,\n",
              "  420.0: 2115,\n",
              "  421.0: 2740,\n",
              "  422.0: 2851,\n",
              "  423.0: 3033,\n",
              "  424.0: 2315,\n",
              "  425.0: 2565,\n",
              "  426.0: 3102,\n",
              "  427.0: 2862,\n",
              "  428.0: 2259,\n",
              "  429.0: 2116,\n",
              "  430.0: 1921,\n",
              "  431.0: 1947,\n",
              "  432.0: 2003,\n",
              "  433.0: 3126,\n",
              "  434.0: 2126,\n",
              "  435.0: 3006,\n",
              "  436.0: 3420,\n",
              "  437.0: 2127,\n",
              "  438.0: 2802,\n",
              "  439.0: 2723,\n",
              "  440.0: 2337,\n",
              "  441.0: 2175,\n",
              "  442.0: 3048,\n",
              "  443.0: 2295,\n",
              "  444.0: 3148,\n",
              "  445.0: 3189,\n",
              "  446.0: 3238,\n",
              "  447.0: 2091,\n",
              "  448.0: 2725,\n",
              "  449.0: 3153,\n",
              "  450.0: 3188,\n",
              "  451.0: 1967,\n",
              "  452.0: 3301,\n",
              "  453.0: 2177,\n",
              "  454.0: 3138,\n",
              "  455.0: 2096,\n",
              "  456.0: 2850,\n",
              "  457.0: 2867,\n",
              "  458.0: 1927,\n",
              "  459.0: 2281,\n",
              "  460.0: 1941,\n",
              "  461.0: 1987,\n",
              "  462.0: 2743,\n",
              "  463.0: 2274,\n",
              "  464.0: 2564,\n",
              "  465.0: 1958,\n",
              "  466.0: 2880,\n",
              "  467.0: 2276,\n",
              "  468.0: 3005,\n",
              "  469.0: 2071,\n",
              "  470.0: 2567,\n",
              "  471.0: 2815,\n",
              "  472.0: 3109,\n",
              "  473.0: 2273,\n",
              "  474.0: 2350,\n",
              "  475.0: 3046,\n",
              "  476.0: 2570,\n",
              "  477.0: 2676,\n",
              "  478.0: 3063,\n",
              "  479.0: 2101,\n",
              "  480.0: 2322,\n",
              "  481.0: 2847,\n",
              "  482.0: 2886,\n",
              "  483.0: 2280,\n",
              "  484.0: 3187,\n",
              "  485.0: 2123,\n",
              "  486.0: 2296,\n",
              "  487.0: 2626,\n",
              "  488.0: 2352,\n",
              "  489.0: 3094,\n",
              "  490.0: 2707,\n",
              "  491.0: 1980,\n",
              "  492.0: 2702,\n",
              "  493.0: 3070,\n",
              "  494.0: 2144,\n",
              "  495.0: 2627,\n",
              "  496.0: 2180,\n",
              "  497.0: 2093,\n",
              "  498.0: 2344,\n",
              "  499.0: 2347,\n",
              "  500.0: 3146,\n",
              "  501.0: 1944,\n",
              "  502.0: 3118,\n",
              "  503.0: 3123,\n",
              "  504.0: 2081,\n",
              "  505.0: 2827,\n",
              "  506.0: 2854,\n",
              "  507.0: 2348,\n",
              "  508.0: 2726,\n",
              "  509.0: 2665,\n",
              "  510.0: 3215,\n",
              "  511.0: 2269,\n",
              "  512.0: 2684,\n",
              "  513.0: 3245,\n",
              "  514.0: 2842,\n",
              "  515.0: 3174,\n",
              "  516.0: 2147,\n",
              "  517.0: 2341,\n",
              "  518.0: 3000,\n",
              "  519.0: 2731,\n",
              "  520.0: 3026,\n",
              "  521.0: 2772,\n",
              "  522.0: 2778,\n",
              "  523.0: 3101,\n",
              "  524.0: 3225,\n",
              "  525.0: 2156,\n",
              "  526.0: 1951,\n",
              "  527.0: 2560,\n",
              "  528.0: 2704,\n",
              "  529.0: 2189,\n",
              "  530.0: 2299,\n",
              "  531.0: 2651,\n",
              "  532.0: 2866,\n",
              "  533.0: 3179,\n",
              "  534.0: 2879,\n",
              "  535.0: 3014,\n",
              "  536.0: 3224,\n",
              "  537.0: 3068,\n",
              "  538.0: 2806,\n",
              "  539.0: 3082,\n",
              "  540.0: 3159,\n",
              "  541.0: 2017,\n",
              "  542.0: 2251,\n",
              "  543.0: 3142,\n",
              "  544.0: 2151,\n",
              "  545.0: 2587,\n",
              "  546.0: 2282,\n",
              "  547.0: 2835,\n",
              "  548.0: 2853,\n",
              "  549.0: 3062,\n",
              "  550.0: 3117,\n",
              "  551.0: 2200,\n",
              "  552.0: 2283,\n",
              "  553.0: 3055,\n",
              "  554.0: 3489,\n",
              "  555.0: 3560,\n",
              "  556.0: 1940,\n",
              "  557.0: 2594,\n",
              "  558.0: 3129,\n",
              "  559.0: 2290,\n",
              "  560.0: 3214,\n",
              "  561.0: 3530,\n",
              "  562.0: 3432,\n",
              "  563.0: 2250,\n",
              "  564.0: 3060,\n",
              "  565.0: 3092,\n",
              "  566.0: 3168,\n",
              "  567.0: 2133,\n",
              "  568.0: 2209,\n",
              "  569.0: 3141,\n",
              "  570.0: 3407,\n",
              "  571.0: 2201,\n",
              "  572.0: 3567,\n",
              "  573.0: 2670,\n",
              "  574.0: 2648,\n",
              "  575.0: 3226,\n",
              "  576.0: 2092,\n",
              "  577.0: 2653,\n",
              "  578.0: 3077,\n",
              "  579.0: 2304,\n",
              "  580.0: 3111,\n",
              "  581.0: 2724,\n",
              "  582.0: 2264,\n",
              "  583.0: 2689,\n",
              "  584.0: 3114,\n",
              "  585.0: 3143,\n",
              "  586.0: 2729,\n",
              "  587.0: 2736,\n",
              "  588.0: 3080,\n",
              "  589.0: 3465,\n",
              "  590.0: 2140,\n",
              "  591.0: 2309,\n",
              "  592.0: 2114,\n",
              "  593.0: 2160,\n",
              "  594.0: 2655,\n",
              "  595.0: 3130,\n",
              "  596.0: 3364,\n",
              "  597.0: 3399,\n",
              "  598.0: 2216,\n",
              "  599.0: 2241,\n",
              "  600.0: 2277,\n",
              "  601.0: 3122,\n",
              "  602.0: 3131,\n",
              "  603.0: 1959,\n",
              "  604.0: 2351,\n",
              "  605.0: 3154,\n",
              "  606.0: 2242,\n",
              "  607.0: 2622,\n",
              "  608.0: 2985,\n",
              "  609.0: 2000,\n",
              "  610.0: 2087,\n",
              "  611.0: 2857,\n",
              "  612.0: 2298,\n",
              "  613.0: 2833,\n",
              "  614.0: 3093,\n",
              "  615.0: 1932,\n",
              "  616.0: 2571,\n",
              "  617.0: 3390,\n",
              "  618.0: 3448,\n",
              "  619.0: 2561,\n",
              "  620.0: 2615,\n",
              "  621.0: 2353,\n",
              "  622.0: 2741,\n",
              "  623.0: 2873,\n",
              "  624.0: 2977,\n",
              "  625.0: 3158,\n",
              "  626.0: 3105,\n",
              "  627.0: 2109,\n",
              "  628.0: 2131,\n",
              "  629.0: 2628,\n",
              "  630.0: 3357,\n",
              "  631.0: 3406,\n",
              "  632.0: 2078,\n",
              "  633.0: 2143,\n",
              "  634.0: 2292,\n",
              "  635.0: 3052,\n",
              "  636.0: 3499,\n",
              "  637.0: 2660,\n",
              "  638.0: 3363,\n",
              "  639.0: 2263,\n",
              "  640.0: 2992,\n",
              "  641.0: 2998,\n",
              "  642.0: 3207,\n",
              "  643.0: 2178,\n",
              "  644.0: 3139,\n",
              "  645.0: 3462,\n",
              "  646.0: 2652,\n",
              "  647.0: 3161,\n",
              "  648.0: 3201,\n",
              "  649.0: 3430,\n",
              "  650.0: 3475,\n",
              "  651.0: 2345,\n",
              "  652.0: 3019,\n",
              "  653.0: 3056,\n",
              "  654.0: 3239,\n",
              "  655.0: 1923,\n",
              "  656.0: 3210,\n",
              "  657.0: 3040,\n",
              "  658.0: 3150,\n",
              "  659.0: 3181,\n",
              "  660.0: 2715,\n",
              "  661.0: 3090,\n",
              "  662.0: 3132,\n",
              "  663.0: 2562,\n",
              "  664.0: 2666,\n",
              "  665.0: 2836,\n",
              "  666.0: 3173,\n",
              "  667.0: 3504,\n",
              "  668.0: 3517,\n",
              "  669.0: 1925,\n",
              "  670.0: 3027,\n",
              "  671.0: 3074,\n",
              "  672.0: 3104,\n",
              "  673.0: 3116,\n",
              "  674.0: 2889,\n",
              "  675.0: 3050,\n",
              "  676.0: 2356,\n",
              "  677.0: 2563,\n",
              "  678.0: 2849,\n",
              "  679.0: 3195,\n",
              "  680.0: 2270,\n",
              "  681.0: 3553,\n",
              "  682.0: 3434,\n",
              "  683.0: 2330,\n",
              "  684.0: 2654,\n",
              "  685.0: 3386,\n",
              "  686.0: 1956,\n",
              "  687.0: 2149,\n",
              "  688.0: 2688,\n",
              "  689.0: 1938,\n",
              "  690.0: 3231,\n",
              "  691.0: 3518,\n",
              "  692.0: 2186,\n",
              "  693.0: 2354,\n",
              "  694.0: 3133,\n",
              "  695.0: 3441,\n",
              "  696.0: 3369,\n",
              "  697.0: 1966,\n",
              "  698.0: 3057,\n",
              "  699.0: 3218,\n",
              "  700.0: 2958,\n",
              "  701.0: 3054,\n",
              "  702.0: 2086,\n",
              "  703.0: 2620,\n",
              "  704.0: 2885,\n",
              "  705.0: 3180,\n",
              "  706.0: 3075,\n",
              "  707.0: 3458,\n",
              "  708.0: 2834,\n",
              "  709.0: 3036,\n",
              "  710.0: 3125,\n",
              "  711.0: 3234,\n",
              "  712.0: 3454,\n",
              "  713.0: 3127,\n",
              "  714.0: 3467,\n",
              "  715.0: 3483,\n",
              "  716.0: 2832,\n",
              "  717.0: 2991,\n",
              "  718.0: 3378,\n",
              "  719.0: 2656,\n",
              "  720.0: 2672,\n",
              "  721.0: 2649,\n",
              "  722.0: 2100,\n",
              "  723.0: 2222,\n",
              "  724.0: 2316,\n",
              "  725.0: 2346,\n",
              "  726.0: 2831,\n",
              "  727.0: 3176,\n",
              "  728.0: 3494,\n",
              "  729.0: 3574,\n",
              "  730.0: 3524,\n",
              "  731.0: 3186,\n",
              "  732.0: 2856,\n",
              "  733.0: 2881,\n",
              "  734.0: 2268,\n",
              "  735.0: 2252,\n",
              "  736.0: 3167,\n",
              "  737.0: 3426,\n",
              "  738.0: 2984,\n",
              "  739.0: 3446,\n",
              "  740.0: 3525,\n",
              "  741.0: 2289,\n",
              "  742.0: 2863,\n",
              "  743.0: 3550,\n",
              "  744.0: 2962,\n",
              "  745.0: 3135,\n",
              "  746.0: 3140,\n",
              "  747.0: 3487,\n",
              "  748.0: 3527,\n",
              "  749.0: 3100,\n",
              "  750.0: 3481,\n",
              "  751.0: 3120,\n",
              "  752.0: 3149,\n",
              "  753.0: 3528,\n",
              "  754.0: 3136,\n",
              "  755.0: 3516,\n",
              "  756.0: 3521,\n",
              "  757.0: 2107,\n",
              "  758.0: 3128,\n",
              "  759.0: 3392,\n",
              "  760.0: 3410,\n",
              "  761.0: 2203,\n",
              "  762.0: 2730,\n",
              "  763.0: 3355,\n",
              "  764.0: 2199,\n",
              "  765.0: 2812,\n",
              "  766.0: 2855,\n",
              "  767.0: 2848,\n",
              "  768.0: 3546,\n",
              "  769.0: 3551,\n",
              "  770.0: 2121,\n",
              "  771.0: 2630,\n",
              "  772.0: 3059,\n",
              "  773.0: 3368,\n",
              "  774.0: 2187,\n",
              "  775.0: 2601,\n",
              "  776.0: 3484,\n",
              "  777.0: 2210,\n",
              "  778.0: 3536,\n",
              "  779.0: 2884,\n",
              "  780.0: 3108,\n",
              "  781.0: 2646,\n",
              "  782.0: 3039,\n",
              "  783.0: 2208,\n",
              "  784.0: 2994,\n",
              "  785.0: 3020,\n",
              "  786.0: 3361,\n",
              "  787.0: 3047,\n",
              "  788.0: 3213,\n",
              "  789.0: 2124,\n",
              "  790.0: 2257,\n",
              "  791.0: 3089,\n",
              "  792.0: 2573,\n",
              "  793.0: 3001,\n",
              "  794.0: 3512,\n",
              "  795.0: 2182,\n",
              "  796.0: 2858,\n",
              "  797.0: 3183,\n",
              "  798.0: 3413,\n",
              "  799.0: 3565,\n",
              "  800.0: 2644,\n",
              "  801.0: 2701,\n",
              "  802.0: 3346,\n",
              "  803.0: 3356,\n",
              "  804.0: 3503,\n",
              "  805.0: 3463,\n",
              "  806.0: 3162,\n",
              "  807.0: 1924,\n",
              "  808.0: 2193,\n",
              "  809.0: 2990,\n",
              "  810.0: 3192,\n",
              "  811.0: 3514,\n",
              "  812.0: 730,\n",
              "  813.0: 2924,\n",
              "  814.0: 3350,\n",
              "  815.0: 2215,\n",
              "  816.0: 2336,\n",
              "  817.0: 3409,\n",
              "  818.0: 3421,\n",
              "  819.0: 3439,\n",
              "  820.0: 3354,\n",
              "  821.0: 3166,\n",
              "  822.0: 3113,\n",
              "  823.0: 3418,\n",
              "  824.0: 3451,\n",
              "  825.0: 3472,\n",
              "  826.0: 2807,\n",
              "  827.0: 3412,\n",
              "  828.0: 3522,\n",
              "  829.0: 2888,\n",
              "  830.0: 2972,\n",
              "  831.0: 3170,\n",
              "  832.0: 2675,\n",
              "  833.0: 2323,\n",
              "  834.0: 3038,\n",
              "  835.0: 3396,\n",
              "  836.0: 3464,\n",
              "  837.0: 3539,\n",
              "  838.0: 3508,\n",
              "  839.0: 3431,\n",
              "  840.0: 3076,\n",
              "  841.0: 3221,\n",
              "  842.0: 2170,\n",
              "  843.0: 3018,\n",
              "  844.0: 2120,\n",
              "  845.0: 2079,\n",
              "  846.0: 3190,\n",
              "  847.0: 2158,\n",
              "  848.0: 2266,\n",
              "  849.0: 2608,\n",
              "  850.0: 2898,\n",
              "  851.0: 3235,\n",
              "  852.0: 2355,\n",
              "  853.0: 2872,\n",
              "  854.0: 3071,\n",
              "  855.0: 3466,\n",
              "  856.0: 2970,\n",
              "  857.0: 2072,\n",
              "  858.0: 2559,\n",
              "  859.0: 3087,\n",
              "  860.0: 2625,\n",
              "  861.0: 2569,\n",
              "  862.0: 2902,\n",
              "  863.0: 3229,\n",
              "  864.0: 2249,\n",
              "  865.0: 3007,\n",
              "  866.0: 3115,\n",
              "  867.0: 3505,\n",
              "  868.0: 3495,\n",
              "  869.0: 2142,\n",
              "  870.0: 2657,\n",
              "  871.0: 3232,\n",
              "  872.0: 3416,\n",
              "  873.0: 3509,\n",
              "  874.0: 2217,\n",
              "  875.0: 3353,\n",
              "  876.0: 3372,\n",
              "  877.0: 2243,\n",
              "  878.0: 2999,\n",
              "  879.0: 3172,\n",
              "  880.0: 3513,\n",
              "  881.0: 3308,\n",
              "  882.0: 3507,\n",
              "  883.0: 3532,\n",
              "  884.0: 3185,\n",
              "  885.0: 3193,\n",
              "  886.0: 3476,\n",
              "  887.0: 3599,\n",
              "  888.0: 2169,\n",
              "  889.0: 2878,\n",
              "  890.0: 3482,\n",
              "  891.0: 3568,\n",
              "  892.0: 3045,\n",
              "  893.0: 3424,\n",
              "  894.0: 2248,\n",
              "  895.0: 3157,\n",
              "  896.0: 2286,\n",
              "  897.0: 2813,\n",
              "  898.0: 3034,\n",
              "  899.0: 3236,\n",
              "  900.0: 3453,\n",
              "  901.0: 3469,\n",
              "  902.0: 3490,\n",
              "  903.0: 2674,\n",
              "  904.0: 3031,\n",
              "  905.0: 3064,\n",
              "  906.0: 3427,\n",
              "  907.0: 3457,\n",
              "  908.0: 3554,\n",
              "  909.0: 3081,\n",
              "  910.0: 3097,\n",
              "  911.0: 3067,\n",
              "  912.0: 3250,\n",
              "  913.0: 2635,\n",
              "  914.0: 3217,\n",
              "  915.0: 3571,\n",
              "  916.0: 3200,\n",
              "  917.0: 3029,\n",
              "  918.0: 3209,\n",
              "  919.0: 3433,\n",
              "  920.0: 2159,\n",
              "  921.0: 2583,\n",
              "  922.0: 2267,\n",
              "  923.0: 3085,\n",
              "  924.0: 2134,\n",
              "  925.0: 2260,\n",
              "  926.0: 3455,\n",
              "  927.0: 2871,\n",
              "  928.0: 3003,\n",
              "  929.0: 1952,\n",
              "  930.0: 2256,\n",
              "  931.0: 3222,\n",
              "  932.0: 3474,\n",
              "  933.0: 3021,\n",
              "  934.0: 3041,\n",
              "  935.0: 3065,\n",
              "  936.0: 3425,\n",
              "  937.0: 3488,\n",
              "  938.0: 2895,\n",
              "  939.0: 3237,\n",
              "  940.0: 2568,\n",
              "  941.0: 2634,\n",
              "  942.0: 3230,\n",
              "  943.0: 3384,\n",
              "  944.0: 2188,\n",
              "  945.0: 2868,\n",
              "  946.0: 3529,\n",
              "  947.0: 3552,\n",
              "  948.0: 3091,\n",
              "  949.0: 3137,\n",
              "  950.0: 3233,\n",
              "  951.0: 3569,\n",
              "  952.0: 2828,\n",
              "  953.0: 3515,\n",
              "  954.0: 2864,\n",
              "  955.0: 3444,\n",
              "  956.0: 3223,\n",
              "  957.0: 3370,\n",
              "  958.0: 3452,\n",
              "  959.0: 3022,\n",
              "  960.0: 3273,\n",
              "  961.0: 3228,\n",
              "  962.0: 3557,\n",
              "  963.0: 3015,\n",
              "  964.0: 3385,\n",
              "  965.0: 3549,\n",
              "  966.0: 2196,\n",
              "  967.0: 3541,\n",
              "  968.0: 3585,\n",
              "  969.0: 2969,\n",
              "  970.0: 3300,\n",
              "  971.0: 3473,\n",
              "  972.0: 2679,\n",
              "  973.0: 2694,\n",
              "  974.0: 3216,\n",
              "  975.0: 2110,\n",
              "  976.0: 2966,\n",
              "  977.0: 2141,\n",
              "  978.0: 2600,\n",
              "  979.0: 2900,\n",
              "  980.0: 3169,\n",
              "  981.0: 3184,\n",
              "  982.0: 2639,\n",
              "  983.0: 3010,\n",
              "  984.0: 3156,\n",
              "  985.0: 3360,\n",
              "  986.0: 3362,\n",
              "  987.0: 3485,\n",
              "  988.0: 2206,\n",
              "  989.0: 2959,\n",
              "  990.0: 2965,\n",
              "  991.0: 2167,\n",
              "  992.0: 2153,\n",
              "  993.0: 2291,\n",
              "  994.0: 2305,\n",
              "  995.0: 3523,\n",
              "  996.0: 3405,\n",
              "  997.0: 3191,\n",
              "  998.0: 2673,\n",
              "  999.0: 3086,\n",
              "  ...},\n",
              " 'district_indexed': {0.0: '8.0',\n",
              "  1.0: '11.0',\n",
              "  2.0: '7.0',\n",
              "  3.0: '25.0',\n",
              "  4.0: '6.0',\n",
              "  5.0: '4.0',\n",
              "  6.0: '3.0',\n",
              "  7.0: '9.0',\n",
              "  8.0: '12.0',\n",
              "  9.0: '2.0',\n",
              "  10.0: '5.0',\n",
              "  11.0: '15.0',\n",
              "  12.0: '19.0',\n",
              "  13.0: '10.0',\n",
              "  14.0: '18.0',\n",
              "  15.0: '14.0',\n",
              "  16.0: '1.0',\n",
              "  17.0: '22.0',\n",
              "  18.0: '16.0',\n",
              "  19.0: '24.0',\n",
              "  20.0: '17.0',\n",
              "  21.0: '20.0',\n",
              "  22.0: '31.0',\n",
              "  23.0: '21.0',\n",
              "  24.0: '13.0',\n",
              "  25.0: '23.0'},\n",
              " 'domestic_indexed': {0.0: 'False', 1.0: 'True'},\n",
              " 'fbi_code_indexed': {0.0: '06',\n",
              "  1.0: '08B',\n",
              "  2.0: '14',\n",
              "  3.0: '18',\n",
              "  4.0: '26',\n",
              "  5.0: '05',\n",
              "  6.0: '07',\n",
              "  7.0: '08A',\n",
              "  8.0: '03',\n",
              "  9.0: '11',\n",
              "  10.0: '04B',\n",
              "  11.0: '04A',\n",
              "  12.0: '16',\n",
              "  13.0: '15',\n",
              "  14.0: '24',\n",
              "  15.0: '10',\n",
              "  16.0: '02',\n",
              "  17.0: '17',\n",
              "  18.0: '20',\n",
              "  19.0: '19',\n",
              "  20.0: '22',\n",
              "  21.0: '09',\n",
              "  22.0: '01A',\n",
              "  23.0: '13',\n",
              "  24.0: '12',\n",
              "  25.0: '01B'},\n",
              " 'hour_indexed': {0.0: 0,\n",
              "  1.0: 20,\n",
              "  2.0: 19,\n",
              "  3.0: 12,\n",
              "  4.0: 21,\n",
              "  5.0: 22,\n",
              "  6.0: 18,\n",
              "  7.0: 15,\n",
              "  8.0: 14,\n",
              "  9.0: 17,\n",
              "  10.0: 16,\n",
              "  11.0: 13,\n",
              "  12.0: 23,\n",
              "  13.0: 11,\n",
              "  14.0: 9,\n",
              "  15.0: 10,\n",
              "  16.0: 8,\n",
              "  17.0: 1,\n",
              "  18.0: 2,\n",
              "  19.0: 7,\n",
              "  20.0: 3,\n",
              "  21.0: 4,\n",
              "  22.0: 6,\n",
              "  23.0: 5},\n",
              " 'location_description_indexed': {0.0: 'STREET',\n",
              "  1.0: 'RESIDENCE',\n",
              "  2.0: 'SIDEWALK',\n",
              "  3.0: 'APARTMENT',\n",
              "  4.0: 'OTHER',\n",
              "  5.0: 'PARKING LOT/GARAGE(NON.RESID.)',\n",
              "  6.0: 'ALLEY',\n",
              "  7.0: 'SCHOOL, PUBLIC, BUILDING',\n",
              "  8.0: 'RESIDENCE-GARAGE',\n",
              "  9.0: 'RESIDENCE PORCH/HALLWAY',\n",
              "  10.0: 'SMALL RETAIL STORE',\n",
              "  11.0: 'VEHICLE NON-COMMERCIAL',\n",
              "  12.0: 'RESTAURANT',\n",
              "  13.0: 'GROCERY FOOD STORE',\n",
              "  14.0: 'DEPARTMENT STORE',\n",
              "  15.0: 'GAS STATION',\n",
              "  16.0: 'RESIDENTIAL YARD (FRONT/BACK)',\n",
              "  17.0: 'PARK PROPERTY',\n",
              "  18.0: 'CHA PARKING LOT/GROUNDS',\n",
              "  19.0: 'COMMERCIAL / BUSINESS OFFICE',\n",
              "  20.0: 'CTA PLATFORM',\n",
              "  21.0: 'BAR OR TAVERN',\n",
              "  22.0: 'CHA APARTMENT',\n",
              "  23.0: 'SCHOOL, PUBLIC, GROUNDS',\n",
              "  24.0: 'DRUG STORE',\n",
              "  25.0: 'BANK',\n",
              "  26.0: 'HOTEL/MOTEL',\n",
              "  27.0: 'VACANT LOT/LAND',\n",
              "  28.0: 'CHA HALLWAY/STAIRWELL/ELEVATOR',\n",
              "  29.0: 'CTA TRAIN',\n",
              "  30.0: 'CTA BUS',\n",
              "  31.0: 'TAVERN/LIQUOR STORE',\n",
              "  32.0: 'DRIVEWAY - RESIDENTIAL',\n",
              "  33.0: 'HOSPITAL BUILDING/GROUNDS',\n",
              "  34.0: 'POLICE FACILITY/VEH PARKING LOT',\n",
              "  35.0: 'AIRPORT/AIRCRAFT',\n",
              "  36.0: 'CHURCH/SYNAGOGUE/PLACE OF WORSHIP',\n",
              "  37.0: 'CONVENIENCE STORE',\n",
              "  38.0: 'CONSTRUCTION SITE',\n",
              "  39.0: 'GOVERNMENT BUILDING/PROPERTY',\n",
              "  40.0: 'SCHOOL, PRIVATE, BUILDING',\n",
              "  41.0: 'NURSING HOME/RETIREMENT HOME',\n",
              "  42.0: 'ABANDONED BUILDING',\n",
              "  43.0: 'CTA GARAGE / OTHER PROPERTY',\n",
              "  44.0: 'CURRENCY EXCHANGE',\n",
              "  45.0: 'WAREHOUSE',\n",
              "  46.0: 'ATM (AUTOMATIC TELLER MACHINE)',\n",
              "  47.0: 'BARBERSHOP',\n",
              "  48.0: 'ATHLETIC CLUB',\n",
              "  49.0: 'MEDICAL/DENTAL OFFICE',\n",
              "  50.0: 'TAXICAB',\n",
              "  51.0: 'FACTORY/MANUFACTURING BUILDING',\n",
              "  52.0: 'LIBRARY',\n",
              "  53.0: 'COLLEGE/UNIVERSITY GROUNDS',\n",
              "  54.0: 'OTHER RAILROAD PROP / TRAIN DEPOT',\n",
              "  55.0: 'CTA BUS STOP',\n",
              "  56.0: 'VEHICLE-COMMERCIAL',\n",
              "  57.0: 'SPORTS ARENA/STADIUM',\n",
              "  58.0: 'CLEANING STORE',\n",
              "  59.0: 'SCHOOL, PRIVATE, GROUNDS',\n",
              "  60.0: 'AIRPORT TERMINAL UPPER LEVEL - SECURE AREA',\n",
              "  61.0: 'OTHER COMMERCIAL TRANSPORTATION',\n",
              "  62.0: 'CAR WASH',\n",
              "  63.0: 'DAY CARE CENTER',\n",
              "  64.0: 'MOVIE HOUSE/THEATER',\n",
              "  65.0: 'CTA STATION',\n",
              "  66.0: 'APPLIANCE STORE',\n",
              "  67.0: 'COLLEGE/UNIVERSITY RESIDENCE HALL',\n",
              "  68.0: 'AIRPORT TERMINAL LOWER LEVEL - NON-SECURE AREA',\n",
              "  69.0: 'JAIL / LOCK-UP FACILITY',\n",
              "  70.0: 'LAKEFRONT/WATERFRONT/RIVERBANK',\n",
              "  71.0: 'COIN OPERATED MACHINE',\n",
              "  72.0: 'FIRE STATION',\n",
              "  73.0: 'DELIVERY TRUCK',\n",
              "  74.0: 'HIGHWAY/EXPRESSWAY',\n",
              "  75.0: 'AUTO',\n",
              "  76.0: 'POOL ROOM',\n",
              "  77.0: 'ANIMAL HOSPITAL',\n",
              "  78.0: 'FEDERAL BUILDING',\n",
              "  79.0: 'AIRPORT VENDING ESTABLISHMENT',\n",
              "  80.0: 'BOWLING ALLEY',\n",
              "  81.0: 'BOAT/WATERCRAFT',\n",
              "  82.0: 'AIRPORT EXTERIOR - NON-SECURE AREA',\n",
              "  83.0: 'AIRPORT BUILDING NON-TERMINAL - NON-SECURE AREA',\n",
              "  84.0: 'AIRPORT PARKING LOT',\n",
              "  85.0: 'AIRPORT TERMINAL UPPER LEVEL - NON-SECURE AREA',\n",
              "  86.0: 'CREDIT UNION',\n",
              "  87.0: 'PAWN SHOP',\n",
              "  88.0: 'AIRPORT TERMINAL LOWER LEVEL - SECURE AREA',\n",
              "  89.0: 'AIRCRAFT',\n",
              "  90.0: 'HOUSE',\n",
              "  91.0: 'FOREST PRESERVE',\n",
              "  92.0: 'AIRPORT BUILDING NON-TERMINAL - SECURE AREA',\n",
              "  93.0: 'BRIDGE',\n",
              "  94.0: 'CEMETARY',\n",
              "  95.0: 'SAVINGS AND LOAN',\n",
              "  96.0: 'PORCH',\n",
              "  97.0: 'AIRPORT EXTERIOR - SECURE AREA',\n",
              "  98.0: 'NEWSSTAND',\n",
              "  99.0: 'VEHICLE - OTHER RIDE SERVICE',\n",
              "  100.0: 'YARD',\n",
              "  101.0: 'PARKING LOT',\n",
              "  102.0: 'VACANT LOT',\n",
              "  103.0: 'HALLWAY',\n",
              "  104.0: 'AIRPORT TRANSPORTATION SYSTEM (ATS)',\n",
              "  105.0: 'GANGWAY',\n",
              "  106.0: 'AIRPORT TERMINAL MEZZANINE - NON-SECURE AREA',\n",
              "  107.0: 'RETAIL STORE',\n",
              "  108.0: 'CTA TRACKS - RIGHT OF WAY',\n",
              "  109.0: 'GARAGE',\n",
              "  110.0: 'VEHICLE - DELIVERY TRUCK',\n",
              "  111.0: 'GAS STATION DRIVE/PROP.',\n",
              "  112.0: 'CHA GROUNDS',\n",
              "  113.0: 'TAVERN',\n",
              "  114.0: 'CHA PARKING LOT',\n",
              "  115.0: 'CHA HALLWAY',\n",
              "  116.0: 'BASEMENT',\n",
              "  117.0: 'VESTIBULE',\n",
              "  118.0: 'CLUB',\n",
              "  119.0: 'STAIRWELL',\n",
              "  120.0: 'HOTEL',\n",
              "  121.0: 'OFFICE',\n",
              "  122.0: 'DRIVEWAY',\n",
              "  123.0: 'RAILROAD PROPERTY',\n",
              "  124.0: 'BARBER SHOP/BEAUTY SALON',\n",
              "  125.0: 'TRUCK',\n",
              "  126.0: 'SCHOOL YARD',\n",
              "  127.0: 'CHA STAIRWELL',\n",
              "  128.0: 'GARAGE/AUTO REPAIR',\n",
              "  129.0: 'DUMPSTER',\n",
              "  130.0: 'HOSPITAL',\n",
              "  131.0: 'LIQUOR STORE',\n",
              "  132.0: 'TAXI CAB',\n",
              "  133.0: 'COACH HOUSE',\n",
              "  134.0: 'MOTEL',\n",
              "  135.0: 'RIVER',\n",
              "  136.0: 'CHA ELEVATOR',\n",
              "  137.0: 'CHA LOBBY',\n",
              "  138.0: 'CHA PLAY LOT',\n",
              "  139.0: 'LIVERY STAND OFFICE',\n",
              "  140.0: 'NURSING HOME',\n",
              "  141.0: 'SEWER',\n",
              "  142.0: '\"CTA \"\"L\"\" PLATFORM\"',\n",
              "  143.0: 'CHURCH',\n",
              "  144.0: 'TRAILER',\n",
              "  145.0: 'WOODED AREA',\n",
              "  146.0: 'YMCA',\n",
              "  147.0: '\"CTA \"\"L\"\" TRAIN\"',\n",
              "  148.0: 'CHA BREEZEWAY',\n",
              "  149.0: 'COUNTY JAIL',\n",
              "  150.0: 'CTA PROPERTY',\n",
              "  151.0: 'FACTORY',\n",
              "  152.0: 'LAKE',\n",
              "  153.0: 'LAUNDRY ROOM',\n",
              "  154.0: 'LOADING DOCK',\n",
              "  155.0: 'PRAIRIE',\n",
              "  156.0: 'PUBLIC HIGH SCHOOL',\n",
              "  157.0: 'RIVER BANK',\n",
              "  158.0: 'BANQUET HALL',\n",
              "  159.0: 'CHURCH PROPERTY',\n",
              "  160.0: 'CLEANERS/LAUNDROMAT',\n",
              "  161.0: 'ELEVATOR',\n",
              "  162.0: 'EXPRESSWAY EMBANKMENT',\n",
              "  163.0: 'FUNERAL PARLOR',\n",
              "  164.0: 'GOVERNMENT BUILDING',\n",
              "  165.0: 'JUNK YARD/GARBAGE DUMP',\n",
              "  166.0: 'LAGOON',\n",
              "  167.0: 'LIVERY AUTO',\n",
              "  168.0: 'POOLROOM',\n",
              "  169.0: 'PUBLIC GRAMMAR SCHOOL',\n",
              "  170.0: 'ROOMING HOUSE',\n",
              "  171.0: 'TRUCKING TERMINAL'},\n",
              " 'month_day_indexed': {0.0: 1,\n",
              "  1.0: 15,\n",
              "  2.0: 20,\n",
              "  3.0: 14,\n",
              "  4.0: 10,\n",
              "  5.0: 17,\n",
              "  6.0: 12,\n",
              "  7.0: 16,\n",
              "  8.0: 18,\n",
              "  9.0: 9,\n",
              "  10.0: 11,\n",
              "  11.0: 5,\n",
              "  12.0: 7,\n",
              "  13.0: 13,\n",
              "  14.0: 21,\n",
              "  15.0: 8,\n",
              "  16.0: 6,\n",
              "  17.0: 19,\n",
              "  18.0: 28,\n",
              "  19.0: 23,\n",
              "  20.0: 22,\n",
              "  21.0: 2,\n",
              "  22.0: 3,\n",
              "  23.0: 27,\n",
              "  24.0: 26,\n",
              "  25.0: 24,\n",
              "  26.0: 4,\n",
              "  27.0: 25,\n",
              "  28.0: 29,\n",
              "  29.0: 30,\n",
              "  30.0: 31},\n",
              " 'primary_type_indexed': {0.0: 'THEFT',\n",
              "  1.0: 'BATTERY',\n",
              "  2.0: 'CRIMINAL DAMAGE',\n",
              "  3.0: 'NARCOTICS',\n",
              "  4.0: 'OTHER OFFENSE',\n",
              "  5.0: 'ASSAULT',\n",
              "  6.0: 'BURGLARY',\n",
              "  7.0: 'MOTOR VEHICLE THEFT',\n",
              "  8.0: 'ROBBERY',\n",
              "  9.0: 'DECEPTIVE PRACTICE',\n",
              "  10.0: 'CRIMINAL TRESPASS',\n",
              "  11.0: 'PROSTITUTION',\n",
              "  12.0: 'WEAPONS VIOLATION',\n",
              "  13.0: 'PUBLIC PEACE VIOLATION',\n",
              "  14.0: 'OFFENSE INVOLVING CHILDREN',\n",
              "  15.0: 'CRIM SEXUAL ASSAULT',\n",
              "  16.0: 'SEX OFFENSE',\n",
              "  17.0: 'GAMBLING',\n",
              "  18.0: 'LIQUOR LAW VIOLATION',\n",
              "  19.0: 'INTERFERENCE WITH PUBLIC OFFICER',\n",
              "  20.0: 'ARSON',\n",
              "  21.0: 'HOMICIDE',\n",
              "  22.0: 'KIDNAPPING',\n",
              "  23.0: 'INTIMIDATION',\n",
              "  24.0: 'STALKING',\n",
              "  25.0: 'OBSCENITY',\n",
              "  26.0: 'PUBLIC INDECENCY',\n",
              "  27.0: 'OTHER NARCOTIC VIOLATION',\n",
              "  28.0: 'NON-CRIMINAL',\n",
              "  29.0: 'CONCEALED CARRY LICENSE VIOLATION',\n",
              "  30.0: 'NON - CRIMINAL',\n",
              "  31.0: 'HUMAN TRAFFICKING',\n",
              "  32.0: 'RITUALISM',\n",
              "  33.0: 'NON-CRIMINAL (SUBJECT SPECIFIED)'},\n",
              " 'ward_indexed': {0.0: '28.0',\n",
              "  1.0: '24.0',\n",
              "  2.0: '2.0',\n",
              "  3.0: '42.0',\n",
              "  4.0: '27.0',\n",
              "  5.0: '17.0',\n",
              "  6.0: '20.0',\n",
              "  7.0: '6.0',\n",
              "  8.0: '3.0',\n",
              "  9.0: '21.0',\n",
              "  10.0: '16.0',\n",
              "  11.0: '34.0',\n",
              "  12.0: '15.0',\n",
              "  13.0: '37.0',\n",
              "  14.0: '8.0',\n",
              "  15.0: '7.0',\n",
              "  16.0: '9.0',\n",
              "  17.0: '5.0',\n",
              "  18.0: '29.0',\n",
              "  19.0: '1.0',\n",
              "  20.0: '4.0',\n",
              "  21.0: '26.0',\n",
              "  22.0: '32.0',\n",
              "  23.0: '18.0',\n",
              "  24.0: '10.0',\n",
              "  25.0: '30.0',\n",
              "  26.0: '31.0',\n",
              "  27.0: '49.0',\n",
              "  28.0: '14.0',\n",
              "  29.0: '11.0',\n",
              "  30.0: '25.0',\n",
              "  31.0: '44.0',\n",
              "  32.0: '35.0',\n",
              "  33.0: '46.0',\n",
              "  34.0: '23.0',\n",
              "  35.0: '13.0',\n",
              "  36.0: '43.0',\n",
              "  37.0: '12.0',\n",
              "  38.0: '22.0',\n",
              "  39.0: '38.0',\n",
              "  40.0: '36.0',\n",
              "  41.0: '47.0',\n",
              "  42.0: '40.0',\n",
              "  43.0: '41.0',\n",
              "  44.0: '50.0',\n",
              "  45.0: '45.0',\n",
              "  46.0: '33.0',\n",
              "  47.0: '48.0',\n",
              "  48.0: '39.0',\n",
              "  49.0: '19.0'},\n",
              " 'week_day_indexed': {0.0: 6, 1.0: 4, 2.0: 3, 3.0: 5, 4.0: 7, 5.0: 2, 6.0: 1},\n",
              " 'year_month_indexed': {0.0: 5,\n",
              "  1.0: 7,\n",
              "  2.0: 8,\n",
              "  3.0: 6,\n",
              "  4.0: 10,\n",
              "  5.0: 9,\n",
              "  6.0: 4,\n",
              "  7.0: 11,\n",
              "  8.0: 3,\n",
              "  9.0: 1,\n",
              "  10.0: 12,\n",
              "  11.0: 2}}"
            ]
          },
          "metadata": {
            "tags": []
          },
          "execution_count": 156
        }
      ]
    },
    {
      "cell_type": "code",
      "metadata": {
        "id": "NNuBeXVVV2q5"
      },
      "source": [
        "primary_type_indexed = df_dates_features.select(['primary_type', 'primary_type_indexed']).distinct().orderBy('primary_type_indexed').rdd.map(lambda l: l.asDict()).collect()"
      ],
      "execution_count": null,
      "outputs": []
    },
    {
      "cell_type": "markdown",
      "metadata": {
        "id": "hZVUqhuEhDKc"
      },
      "source": [
        "arre - 0.0/1.0,\n",
        "beat - 302.0,\n",
        "comm - 77.0,\n",
        "date - 999.0,\n",
        "dome - 1.0/0.0,\n",
        "fbi  - 25.0,\n",
        "loc  - 171.0,\n",
        "ward - 49.0,\n",
        "week - 6.0,\n",
        "year - 11.0,\n"
      ]
    },
    {
      "cell_type": "code",
      "metadata": {
        "id": "tdfmelivRe6o"
      },
      "source": [
        "custom_input = spark.read.csv('custom_input_4.csv', inferSchema=True, header=True)"
      ],
      "execution_count": null,
      "outputs": []
    },
    {
      "cell_type": "code",
      "metadata": {
        "id": "Eoe5k5itr8jg"
      },
      "source": [
        "assembler = VectorAssembler(inputCols=new_indexed, outputCol='features')\n",
        "custom_vectorized = assembler.transform(custom_input)"
      ],
      "execution_count": null,
      "outputs": []
    },
    {
      "cell_type": "code",
      "metadata": {
        "id": "zw_Gwn_xtcsO",
        "colab": {
          "base_uri": "https://localhost:8080/"
        },
        "outputId": "21e092bb-d032-441a-d5d2-aa5b1330d0d1"
      },
      "source": [
        "custom_vectorized.show(2)"
      ],
      "execution_count": null,
      "outputs": [
        {
          "output_type": "stream",
          "text": [
            "+----------------------------+--------------+----------------+------------+------------+----------------------+----------------+----------------+------------------+-------------------+--------------------+\n",
            "|location_description_indexed|arrest_indexed|domestic_indexed|beat_indexed|ward_indexed|community_area_indexed|fbi_code_indexed|week_day_indexed|year_month_indexed|date_number_indexed|            features|\n",
            "+----------------------------+--------------+----------------+------------+------------+----------------------+----------------+----------------+------------------+-------------------+--------------------+\n",
            "|                        25.0|           1.0|             1.0|        77.0|        15.0|                  26.0|            11.0|             3.0|               3.0|              152.0|[25.0,1.0,1.0,77....|\n",
            "|                       125.0|           1.0|             1.0|        22.0|        15.0|                  26.0|            11.0|             6.0|               5.0|              652.0|[125.0,1.0,1.0,22...|\n",
            "+----------------------------+--------------+----------------+------------+------------+----------------------+----------------+----------------+------------------+-------------------+--------------------+\n",
            "\n"
          ],
          "name": "stdout"
        }
      ]
    },
    {
      "cell_type": "code",
      "metadata": {
        "id": "EvZWNaJyks4o"
      },
      "source": [
        "custom_predict_primary_type = primary_type_model.transform(custom_vectorized)\n",
        "output = custom_predict_primary_type.select('prediction').collect()"
      ],
      "execution_count": null,
      "outputs": []
    },
    {
      "cell_type": "code",
      "metadata": {
        "id": "K3IKFrsCv1Bw",
        "colab": {
          "base_uri": "https://localhost:8080/"
        },
        "outputId": "428fa3d0-6228-45e7-9d89-f644c354fd06"
      },
      "source": [
        "output"
      ],
      "execution_count": null,
      "outputs": [
        {
          "output_type": "execute_result",
          "data": {
            "text/plain": [
              "[Row(prediction=5.0), Row(prediction=10.0)]"
            ]
          },
          "metadata": {
            "tags": []
          },
          "execution_count": 212
        }
      ]
    },
    {
      "cell_type": "code",
      "metadata": {
        "id": "YzXckfoUpVyW",
        "colab": {
          "base_uri": "https://localhost:8080/"
        },
        "outputId": "cca0fb62-c659-480f-e827-5d0d9386828e"
      },
      "source": [
        "for ele in output:\n",
        "    print('primary_type', indexed_data['primary_type_indexed'][ele['prediction']])"
      ],
      "execution_count": null,
      "outputs": [
        {
          "output_type": "stream",
          "text": [
            "primary_type ASSAULT\n",
            "primary_type CRIMINAL TRESPASS\n"
          ],
          "name": "stdout"
        }
      ]
    },
    {
      "cell_type": "code",
      "metadata": {
        "id": "yv0AVIXqpyo9"
      },
      "source": [
        "custom_predict_month_day = month_day_model.transform(custom_vectorized)\n",
        "output = custom_predict_month_day.select(['prediction']).collect()"
      ],
      "execution_count": null,
      "outputs": []
    },
    {
      "cell_type": "code",
      "metadata": {
        "id": "dnHW9MQsqZ2l",
        "colab": {
          "base_uri": "https://localhost:8080/"
        },
        "outputId": "c494bf3c-84ef-47ae-832b-549b432e8993"
      },
      "source": [
        "for ele in output:\n",
        "    print('month_day', indexed_data['month_day_indexed'][ele['prediction']])"
      ],
      "execution_count": null,
      "outputs": [
        {
          "output_type": "stream",
          "text": [
            "month_day 1\n",
            "month_day 1\n"
          ],
          "name": "stdout"
        }
      ]
    },
    {
      "cell_type": "code",
      "metadata": {
        "id": "vBJ0VqKIqdpT"
      },
      "source": [
        "custom_predict_hour = hour_model.transform(custom_vectorized)\n",
        "output = custom_predict_hour.select(['prediction']).collect()"
      ],
      "execution_count": null,
      "outputs": []
    },
    {
      "cell_type": "code",
      "metadata": {
        "id": "VIxHtG20qeaO",
        "colab": {
          "base_uri": "https://localhost:8080/"
        },
        "outputId": "96d69d3a-0776-4a56-8c00-4f43d988d7c2"
      },
      "source": [
        "for ele in output:\n",
        "    print('hour', indexed_data['hour_indexed'][ele['prediction']])"
      ],
      "execution_count": null,
      "outputs": [
        {
          "output_type": "stream",
          "text": [
            "hour 21\n",
            "hour 16\n"
          ],
          "name": "stdout"
        }
      ]
    },
    {
      "cell_type": "code",
      "metadata": {
        "id": "yX1Kpbiyqf7Z"
      },
      "source": [
        "custom_predict_district = district_model.transform(custom_vectorized)\n",
        "output = custom_predict_district.select(['prediction']).collect()"
      ],
      "execution_count": null,
      "outputs": []
    },
    {
      "cell_type": "code",
      "metadata": {
        "id": "NTAzbEGgqgMY",
        "colab": {
          "base_uri": "https://localhost:8080/"
        },
        "outputId": "ca28596e-a207-43eb-969e-02b671c1c187"
      },
      "source": [
        "for ele in output:\n",
        "    print('district', indexed_data['district_indexed'][ele['prediction']])"
      ],
      "execution_count": null,
      "outputs": [
        {
          "output_type": "stream",
          "text": [
            "district 5.0\n",
            "district 6.0\n"
          ],
          "name": "stdout"
        }
      ]
    },
    {
      "cell_type": "code",
      "metadata": {
        "id": "ZJlxeSJc9oks"
      },
      "source": [
        ""
      ],
      "execution_count": null,
      "outputs": []
    }
  ]
}